{
  "nbformat": 4,
  "nbformat_minor": 0,
  "metadata": {
    "colab": {
      "provenance": [],
      "include_colab_link": true
    },
    "kernelspec": {
      "name": "python3",
      "display_name": "Python 3"
    },
    "language_info": {
      "name": "python"
    }
  },
  "cells": [
    {
      "cell_type": "markdown",
      "metadata": {
        "id": "view-in-github",
        "colab_type": "text"
      },
      "source": [
        "<a href=\"https://colab.research.google.com/github/laurakrs/CPD2023-1/blob/main/CPD_Trabalho_Final_CERTO.ipynb\" target=\"_parent\"><img src=\"https://colab.research.google.com/assets/colab-badge.svg\" alt=\"Open In Colab\"/></a>"
      ]
    },
    {
      "cell_type": "code",
      "execution_count": null,
      "metadata": {
        "id": "UJP8fqhsvXas"
      },
      "outputs": [],
      "source": [
        "# CLASSIFICACAO E PESQUISA DE DADOS - TRABALHO FINAL - FIFA21-PLAYERS\n",
        "\n",
        "# ALUNAS:\n",
        "# Laura Keidann Rodrigues da Silva (00217870)\n",
        "# Raissa Bitencourt Borowski (00326579)"
      ]
    },
    {
      "cell_type": "code",
      "source": [
        "from collections import defaultdict\n",
        "import csv\n",
        "import time"
      ],
      "metadata": {
        "id": "EEmEessMS3_b"
      },
      "execution_count": 7,
      "outputs": []
    },
    {
      "cell_type": "code",
      "source": [
        "# Objetivo do trabalho: implementar estruturas de dados e algoritmos que suportam as seguintes pesquisas sobre os dados:\n",
        "\n",
        "# - Pesquisas sobre os nomes de jogadores\n",
        "# - Pesquisas sobre jogadores revisados por usuarios\n",
        "# - Pesquisas sobre os melhores jogadores de uma determinada posicao\n",
        "# - Pesquisas sobre ‘tags’ de jogadores"
      ],
      "metadata": {
        "id": "7AsX3LXRMleM"
      },
      "execution_count": null,
      "outputs": []
    },
    {
      "cell_type": "code",
      "source": [
        "# 1 - DADOS\n",
        "# Os dados sao compostos dos arquivos players.csv, rating.csv e tags.csv, contendo\n",
        "# respectivamente informaçoes sobre jogadores, avaliações de usuarios e anotacoes em\n",
        "# texto-livre (tags).\n",
        "# PLAYERS.CSV\n",
        "# O arquivo players.csv contem informações de 18.944 jogadores, composto de um id no FIFA, seu nome e uma lista de posiçoes"
      ],
      "metadata": {
        "id": "DMogFaEsIoTq"
      },
      "execution_count": null,
      "outputs": []
    },
    {
      "cell_type": "code",
      "source": [
        "# RATING.CSV\n",
        "# O arquivo rating.csv contem 24,188,078 de avaliaçees (notas entre 1 e 5) de usuarios para\n",
        "# jogadores. Esses dados foram gerados simulando avaliacoes de usuários para cada jogador\n",
        "# disponivel no dataset"
      ],
      "metadata": {
        "id": "WpiPomHsI13n"
      },
      "execution_count": null,
      "outputs": []
    },
    {
      "cell_type": "code",
      "source": [
        "# ARQUIVO DE TESTE PARA RATINGS - MINIRATING.CSV\n",
        "# Tambem disponibilizamos um arquivo com 10,000 avaliacos ao inves das 20 milhoes para\n",
        "# ajudar nos testes (minirating.csv - disponivel para download apenas no Moodle). A leitura\n",
        "# dos dados a partir do CSV pode ser lenta, em especial para o arquivo rating.csv que possui mais de 400MB de dados."
      ],
      "metadata": {
        "id": "_0Rr70DfJJ7U"
      },
      "execution_count": null,
      "outputs": []
    },
    {
      "cell_type": "code",
      "source": [
        "# TAG.CSV\n",
        "# O arquivo tag.csv contem 364,950 anotacoes de texto livre (tags) (ex.: Brazil, FK Specialist,\n",
        "# Speedster, Playmaker, Paris Saint-Germain) para 18,944 jogadores."
      ],
      "metadata": {
        "id": "UdNShsX9I7h2"
      },
      "execution_count": null,
      "outputs": []
    },
    {
      "cell_type": "code",
      "source": [
        "# Classe jogador - player - para juntar as informacoes das 3 tabelas na entidade de cada jogador\n",
        "class Player:\n",
        "    def __init__(self, name, sofifa_id, player_positions):\n",
        "        self.name = name\n",
        "        self.id = sofifa_id\n",
        "        self.player_positions = player_positions.split(', ')  # Transforma a string em lista\n",
        "        self.tags = []\n",
        "        # relativa a rating:\n",
        "        self.count = 0\n",
        "        self.sum = 0\n",
        "        self.globalRating = 0.0\n",
        "\n",
        "    def add_rating(self, rating):\n",
        "        self.count += 1\n",
        "        self.sum += rating\n",
        "        self.globalRating = self.sum / self.count\n",
        "\n",
        "    def add_tag(self, tag):\n",
        "        self.tags.append(tag)"
      ],
      "metadata": {
        "id": "-asj6q4z8xp2"
      },
      "execution_count": 8,
      "outputs": []
    },
    {
      "cell_type": "code",
      "source": [
        "# Classe usuario - user - para juntar as informacoes dos usuarios\n",
        "class User:\n",
        "    def __init__(self, id):\n",
        "        self.id = id\n",
        "        self.ratedPlayers = []\n",
        "        self.ratings = []\n",
        "\n",
        "    def add_playerRating(self, rating):\n",
        "        self.ratings.append(rating)\n",
        "\n",
        "    def add_ratedPlayer(self, a_ratedPlayer):\n",
        "        self.ratedPlayers.append(a_ratedPlayer)"
      ],
      "metadata": {
        "id": "aHCg9JuJW02d"
      },
      "execution_count": 9,
      "outputs": []
    },
    {
      "cell_type": "code",
      "source": [
        "# FUNCAO PARA LER A TABELA DE JOGADORES E INSERIR AS INFORMACOES NA INSTANCIA JOGADOR,\n",
        "# INSERIR JOGADOR NA TABELA HASH\n",
        "# INSERIR JOGADOR NA ARVORE TRIE\n",
        "\n",
        "def readPlayers_csv(file):\n",
        "  global playersList, playersTable, tamanhoPlayersTable\n",
        "\n",
        "  with open(file, newline='') as csvfile:\n",
        "        reader = csv.reader(csvfile) # Le o CSV\n",
        "        next(reader)  # Pular a primeira linha\n",
        "\n",
        "        # percorre os dados\n",
        "        for row in reader:\n",
        "            sofifa_id = int(row[0]) # primeiro elemento da linha\n",
        "            name = row[1] # segundo elemento da linha\n",
        "            player_positions = row[2] # terceiro elemento da linha\n",
        "\n",
        "            a_player = Player(name, sofifa_id, player_positions) # cria um jogador\n",
        "\n",
        "            playersList.append(a_player) # adicona o jogador na lista de todos os jogadores\n",
        "\n",
        "            # Insere jogador na tabela Hash\n",
        "            insereHash(playersTable, a_player.id, a_player, tamanhoPlayersTable)\n",
        "\n",
        "            # Insere jogador na arvore Trie\n",
        "            insertTrie(name, a_player)"
      ],
      "metadata": {
        "id": "IEHh0eq9eR3-"
      },
      "execution_count": 10,
      "outputs": []
    },
    {
      "cell_type": "code",
      "source": [
        "# FUNCAO PARA LER A TABELA DE RATINGS E INSERIR OS VALORES NAS ENTIDADES APROPRIADAS\n",
        "\n",
        "def readRatings_csv(file):\n",
        "  global lastSofifaId, lastPlayer, playersTable, usersTable, usersList, tamanhoPlayersTable, tamanhoUsersTable\n",
        "\n",
        "  with open(file, newline='') as csvfile:\n",
        "        reader = csv.reader(csvfile) # Le o CSV\n",
        "        next(reader)  # Pular a primeira linha\n",
        "\n",
        "        # percorre os dados\n",
        "        for row in reader:\n",
        "          if len(row) == 3:\n",
        "            user_id = int(row[0]) # primeiro elemento da linha\n",
        "            sofifa_id = int(row[1]) # segundo elemento da linha\n",
        "            rating = float(row[2]) # terceiro elemento da linha\n",
        "\n",
        "            # confere valores recebidos\n",
        "            if sofifa_id == lastSofifaId:\n",
        "              player = lastPlayer\n",
        "            else:\n",
        "            # procura o jogador\n",
        "              a_player = buscaHash(playersTable, sofifa_id, tamanhoPlayersTable)\n",
        "              #if a_player is None: # ISSO AQUI FICOU ESTRANHO, ele tava procunrando umas ids que nao existiam\n",
        "                #print(sofifa_id)\n",
        "              #else:\n",
        "              lastSofifaID = a_player.id\n",
        "              lastPlayer = a_player\n",
        "\n",
        "              # Adiciona o rating\n",
        "              a_player.add_rating(rating)\n",
        "\n",
        "\n",
        "            # Processa dados referentes ao usuario\n",
        "            if user_id in usersList:\n",
        "              # procura na tabela hash de usuarios\n",
        "              user = buscaHash(usersTable, user_id, tamanhoUsersTable)\n",
        "              # de qualquer forma, adiciona as avaliacoes no user\n",
        "              user.add_ratedPlayer(a_player) #adiciona o rated player\n",
        "              user.add_playerRating(rating) #adiciona o rating\n",
        "            else: # se o usuario nao consta na lista ainda\n",
        "              usersList.add(user_id) # adiciona no set\n",
        "              # cria nova instancia\n",
        "              user = User(user_id)\n",
        "              # de qualquer forma, adiciona as avaliacoes no user\n",
        "              user.add_ratedPlayer(a_player) #adiciona o rated player\n",
        "              user.add_playerRating(rating) #adiciona o rating\n",
        "              # adiciona na Hash Table de usuarios\n",
        "              insereHash(usersTable,user_id,user,tamanhoUsersTable)\n",
        "\n",
        "\n"
      ],
      "metadata": {
        "id": "E8i81qB6ekOn"
      },
      "execution_count": 11,
      "outputs": []
    },
    {
      "cell_type": "code",
      "source": [
        "# FUNCAO PARA LER AS TAGS\n",
        "\n",
        "def readTags_csv(file):\n",
        "  global lastSofifaId, lastPlayer, playersTable, tamanhoPlayersTable\n",
        "\n",
        "  with open(file, newline='') as csvfile:\n",
        "        reader = csv.reader(csvfile)\n",
        "        next(reader)  # Pular a primeira linha\n",
        "\n",
        "        for row in reader:\n",
        "            sofifa_id = row[1]\n",
        "            tag = row[2]\n",
        "\n",
        "            # confere valores recebidos\n",
        "            if sofifa_id == lastSofifaId:\n",
        "              player = lastPlayer\n",
        "            else:\n",
        "              player = buscaHash(playersTable, int(sofifa_id), tamanhoPlayersTable)\n",
        "              lastSofifaId = sofifa_id\n",
        "              lastPlayer = player\n",
        "\n",
        "            player.add_tag(tag) # adiciona a tag\n",
        "\n"
      ],
      "metadata": {
        "id": "NVsYW-1ziAeQ"
      },
      "execution_count": 12,
      "outputs": []
    },
    {
      "cell_type": "code",
      "source": [
        "# TABELA HASH - IMPLEMENTACAO\n",
        "# O tamanho da tabela M e variavel e deve ser informado na construcao\n",
        "# A tabela hash deve armazenar registros compostos de uma chave identificadora e dados satelites associados\n",
        "# Tarefas para implementacao:\n",
        "# Escolha uma funcao de hash para mapear a chave de cada registro para um inteiro entre 0 e M −1;\n",
        "# Implemente o metodo de resolucao de conflitos de enderecamento fechado com listas encadeadas;\n",
        "# Implemente a operacao de insercao de um elemento na tabela hash;\n",
        "# Implemente a operacao de busca de um nome na tabela hash"
      ],
      "metadata": {
        "id": "RPgFWmMTvrcI"
      },
      "execution_count": null,
      "outputs": []
    },
    {
      "cell_type": "code",
      "source": [
        "def funcaoPolinomial(id, tamanho):\n",
        "    p = 53\n",
        "    m = tamanho\n",
        "    power_of_p = 1\n",
        "    hash_key = 0\n",
        "\n",
        "    # COMENTEI PARA TESTAR FUNCAO MAIS SIMPLES:\n",
        "    #while id > 0:\n",
        "    #     hash_key = ((hash_key + (id % 10) * power_of_p) % m)\n",
        "    #     power_of_p = (power_of_p * p) % m\n",
        "    #     id //= 10\n",
        "\n",
        "    hash_key = id % tamanho # TESTAR SO FAZENDO O RESTO\n",
        "\n",
        "    return int(hash_key)"
      ],
      "metadata": {
        "id": "wu1_4n9cyJcm"
      },
      "execution_count": 13,
      "outputs": []
    },
    {
      "cell_type": "code",
      "source": [
        "# Operacao de Insercao na Tabela Hash(com listas encadeadas)\n",
        "\n",
        "def insereHash(tabela, chave, valor, tamanho):\n",
        "  # calcula a funcao hash\n",
        "  hash_key = funcaoPolinomial(chave, tamanho)\n",
        "\n",
        "  if tabela[hash_key] is None:\n",
        "      tabela[hash_key] = []\n",
        "\n",
        "  # adiciona elemento\n",
        "  tabela[hash_key].append(valor)\n",
        "\n"
      ],
      "metadata": {
        "id": "Kmut-gpNR6py"
      },
      "execution_count": 14,
      "outputs": []
    },
    {
      "cell_type": "code",
      "source": [
        "# Operacao de Busca\n",
        "# A funcao de busca recebe uma tabela hash, uma chave para buscar e o tamanho da tabela hash\n",
        "# A funcao procura o elemento com a chave na tabela hash\n",
        "# Se o elemento for encontrado, retorna o elemento\n",
        "# Caso contrario, retorna -1\n",
        "\n",
        "def buscaHash(tabela, chave, size):\n",
        "    # Calcula hash\n",
        "    i = funcaoPolinomial(chave, size)\n",
        "\n",
        "    # Acha a posicao correta\n",
        "    while tabela[i] is not None:\n",
        "      # percorre os itens daquela posicao da tabela\n",
        "      for item in tabela[i]:\n",
        "        # se encontrar o item com a chave correta\n",
        "        if item.id == chave:\n",
        "          # retorna o resultado\n",
        "          resultado = item\n",
        "          return resultado\n",
        "      # retorna -1 se foi um miss (o elemento nao foi encontrado na lista da sua posicao na tabela hash)\n",
        "      #resultado -1\n",
        "      #return resultado\n",
        "\n",
        "    # retorna -1 se foi um miss (posicao vazia)\n",
        "    #resultado = -1\n",
        "    #return resultado"
      ],
      "metadata": {
        "id": "TbZ_kMPFKB1z"
      },
      "execution_count": 15,
      "outputs": []
    },
    {
      "cell_type": "code",
      "source": [
        "# ARVORE TRIE - IMPLEMENTACAO (inspirada no exemplo de implementacao em C++ disponivel no Moodle da disciplina)\n",
        "\n",
        "# definicao da class TrieNode\n",
        "class TrieNode:\n",
        "    def __init__(self, char):\n",
        "        self.char = char\n",
        "        self.children = [None] * 26\n",
        "        self.isEndOfWord = False\n",
        "        self.player = None\n",
        "\n",
        "# Retorna novo trie node\n",
        "def get_node(char=None):\n",
        "    return TrieNode(char)\n",
        "\n",
        "# Funcao para inserir nova chave na arvore Trie\n",
        "def insertTrie(key, instance):\n",
        "    global root\n",
        "\n",
        "    pCrawl = root # acessa raiz\n",
        "\n",
        "    for char in key:\n",
        "        charInChildren = False # premissa = nao encontrou char\n",
        "\n",
        "        for child in pCrawl.children: # percorre os filhos\n",
        "\n",
        "          if child != None and child.char == char: # verifica se tem um igual\n",
        "            pCrawl = child # seta pCrawl como a child\n",
        "            charInChildren = True # indica que encontrou\n",
        "            break # para de percorrer\n",
        "\n",
        "        if charInChildren == False: # se nao encontrou\n",
        "          newNode = TrieNode(char) # novo no para a letra\n",
        "          pCrawl.children.append(newNode)\n",
        "          pCrawl = newNode # seta pCrawl como novo no\n",
        "\n",
        "    pCrawl.isEndOfWord = True # seta como fim de palavra\n",
        "    pCrawl.player = instance # coloca o jogador no no\n",
        "\n",
        "\n",
        "# Funcao para buscar chave na arvore Trie # NAO USAR\n",
        "def searchTrie(root, key):\n",
        "    pCrawl = root\n",
        "    for char in key:\n",
        "        index = ord(char) - ord('a')\n",
        "        if not pCrawl.children[index]:\n",
        "            return False\n",
        "        pCrawl = pCrawl.children[index]\n",
        "    return pCrawl is not None and pCrawl.isEndOfWord\n",
        "\n",
        "\n",
        "# FUNCAO PARA PROCURAR O PREFIXO NA TRIE\n",
        "\n",
        "def searchPrefix(prefix):\n",
        "  global root\n",
        "\n",
        "  pCrawl = root # comeca pela raiz\n",
        "\n",
        "  if len(root.children) == 0: # nao tem filhos\n",
        "    print('None found')\n",
        "    return None\n",
        "\n",
        "  # se tem filhos\n",
        "  for char in prefix:\n",
        "    found = False\n",
        "\n",
        "    for child in pCrawl.children:\n",
        "      if child is not None:\n",
        "        if child.char == char:\n",
        "            found = True\n",
        "            pCrawl = child\n",
        "            break\n",
        "    if found == False:\n",
        "      print('None found')\n",
        "      return None\n",
        "\n",
        "  return pCrawl\n",
        "\n"
      ],
      "metadata": {
        "id": "7eJXq4TupWSU"
      },
      "execution_count": 16,
      "outputs": []
    },
    {
      "cell_type": "code",
      "source": [
        "# FUNCAO DE BUSCA GERAL\n",
        "\n",
        "def searchInTrie(name):\n",
        "  playersFound = findPlayers(name)\n",
        "\n",
        "  if playersFound == None:\n",
        "    print('None found!!!!')\n",
        "    return\n",
        "  else:\n",
        "    printPlayers(playersFound)"
      ],
      "metadata": {
        "id": "Ab264OWn-cbQ"
      },
      "execution_count": 17,
      "outputs": []
    },
    {
      "cell_type": "code",
      "source": [
        "# FUNCAO PARA JUNTAR TODOS OS JOGADORES ENCONTRADOS COM NOME/PREFIXO\n",
        "\n",
        "def findPlayers(name):\n",
        "  # lista vazia\n",
        "  playersList = []\n",
        "\n",
        "  lastNode = searchPrefix(name)\n",
        "\n",
        "  if lastNode == None:\n",
        "    return None\n",
        "  else:\n",
        "    completeList = searchTrieRec(lastNode, playersList) # chama busca recursiva\n",
        "    return completeList\n",
        "\n"
      ],
      "metadata": {
        "id": "cFpxAxui-jW9"
      },
      "execution_count": 18,
      "outputs": []
    },
    {
      "cell_type": "code",
      "source": [
        "# FUNCAO DE BUSCA RECURSIVA\n",
        "\n",
        "def searchTrieRec(node,playersList):\n",
        "  if node is not None:\n",
        "    if node.isEndOfWord == True:\n",
        "      playersList.append(node.player) # junta o jogador\n",
        "    else:\n",
        "      for child in node.children:\n",
        "        searchTrieRec(child,playersList)\n",
        "    return playersList # retorna a lista\n"
      ],
      "metadata": {
        "id": "a1nmRQZY_BR9"
      },
      "execution_count": 19,
      "outputs": []
    },
    {
      "cell_type": "code",
      "source": [
        "# PARTICIONAMENTO 1\n",
        "# PARTICIONAMENTO LOMUTO\n",
        "\n",
        "def particionamentoLomuto(lista, esq, dir):\n",
        "\n",
        "    pivo = lista[esq]\n",
        "    indice = esq + 1 #indice do menor\n",
        "\n",
        "    i = esq + 1\n",
        "    while (i <= dir):\n",
        "        # se o elemento atual for menor ou igual ao pivo\n",
        "          if lista[i][1] > pivo[1]:\n",
        "            lista[i], lista[indice] = lista[indice], lista[i]\n",
        "            indice += 1\n",
        "          i += 1\n",
        "\n",
        "    # troca de posicao\n",
        "    lista[esq], lista[indice-1] = lista[indice-1], lista[esq]\n",
        "\n",
        "    return (indice-1)\n",
        "\n",
        "\n"
      ],
      "metadata": {
        "id": "PjREWiJMUKRP"
      },
      "execution_count": 20,
      "outputs": []
    },
    {
      "cell_type": "code",
      "source": [
        "# QUICKSORT COM AS LISTAS\n",
        "def quicksort(instancesList, valuesList):\n",
        "\n",
        "    listToSort = []\n",
        "\n",
        "    i = 0\n",
        "    for player in instancesList:\n",
        "        listToSort.append([player, valuesList[i]])\n",
        "        i += 1\n",
        "\n",
        "    quicksortRecursiva(listToSort, 0, (len(listToSort) - 1))\n",
        "\n",
        "    sortedInstances = []\n",
        "    sortedValues= []\n",
        "\n",
        "    for pair in listToSort:\n",
        "        sortedInstances.append(pair[0])\n",
        "        sortedValues.append(pair[1])\n",
        "\n",
        "    return sortedInstances, sortedValues\n",
        "\n",
        "# Recursao do quicksort\n",
        "def quicksortRecursiva(listToSort, esq, dir):\n",
        "    if dir > esq:\n",
        "        indicePivo = particionamentoLomuto(listToSort, esq, dir)\n",
        "        quicksortRecursiva(listToSort, esq, indicePivo - 1)\n",
        "        quicksortRecursiva(listToSort, indicePivo + 1, dir)\n"
      ],
      "metadata": {
        "id": "a20TChvPXDt5"
      },
      "execution_count": 21,
      "outputs": []
    },
    {
      "cell_type": "code",
      "source": [
        "# FUNCAO PARA IMPRIMIR INFORMACOES DOS JOGADORES\n",
        "\n",
        "def printPlayers(listOfPlayers):\n",
        "  # Print header\n",
        "  print(\"{:<15} {:<50} {:<25} {:<15} {:<15}\".format(\"SOFIFA_ID\", \"NAME\", \"POSITIONS\", \"RATING\", \"COUNT\"))\n",
        "  print(\"=\"*120)\n",
        "  for player in listOfPlayers:\n",
        "      print(\"{:<15} {:<50} {:<25} {:<15.6f} {:<15}\".format(str(player.id), player.name, str(player.player_positions), (player.globalRating), str(player.count)))"
      ],
      "metadata": {
        "id": "7ahWnRDX_6vC"
      },
      "execution_count": 65,
      "outputs": []
    },
    {
      "cell_type": "code",
      "source": [
        "# ARQUIVOS DE TESTE - Criacao da tabela Hash a partir dos dados dos jogadores - retirado do Lab4 - Tabelas Hash\n",
        "# A implementacao da tabela Hash deve ser testada com um arquivo .CSV contendo descricoes de 18944 nomes de\n",
        "# jogadores de futebol. O arquivo e disponibilizado no Moodle com o nome de players-fifa.csv. A primeira linha do\n",
        "# arquivo contem a descricao das colunas, seguidos dos dados dos jogadores, um por linha\n",
        "# Cada jogador e identificado por uma chave inteira (campo sofifa.id), seguido do nome e de uma lista de\n",
        "# posicoes que o jogador atua"
      ],
      "metadata": {
        "id": "3fHCvVfu11C8"
      },
      "execution_count": null,
      "outputs": []
    },
    {
      "cell_type": "code",
      "source": [
        "# Arquivo minirating.csv om 10,000 avaliações ao invés das 20 milhões para ajudar nos testes\n",
        "# minirating = readRatings_csv('/content/minirating.csv', 'rating')\n",
        "#print(minirating)"
      ],
      "metadata": {
        "id": "bTOEbbDxtm9R"
      },
      "execution_count": null,
      "outputs": []
    },
    {
      "cell_type": "code",
      "source": [
        "# TABELA HASH PARA AS AVALIACOES DE CADA JOGADOR:\n",
        "# Guardar em uma TABELA HASH as medias de avaliacoes e o total de avaliacoes para cada jogador."
      ],
      "metadata": {
        "id": "jKoqwG0sKN90"
      },
      "execution_count": null,
      "outputs": []
    },
    {
      "cell_type": "code",
      "source": [
        "# 2. PESQUISAS"
      ],
      "metadata": {
        "id": "8ypKcyN7JeZB"
      },
      "execution_count": null,
      "outputs": []
    },
    {
      "cell_type": "code",
      "source": [
        "# 2.1 Pesquisas sobre os nomes de jogadores\n",
        "# Esta pesquisa tem por objetivo retornar a lista de jogadores cujo nome começa com um texto\n",
        "# que pode ser o prefixo ou texto completo do nome de um jogador. Todos os jogadores que\n",
        "# satisfizerem o texto de consulta devem ser retornados, junto com a lista de posicoes dos\n",
        "# jogadores, avaliacao media e numero de avaliacoes. A sintaxe dessa consulta eh:\n",
        "# A consulta pode ser feita diretamente pelo console, e o resultado também pode ser impresso\n",
        "# no console. Tente deixar o texto a ser impresso compacto.\n",
        "\n",
        "# Exemplo: $ player Fer\n",
        "# Retornar: sofifa_id, name, player_positions, rating, count dos jogadores cujos nomes se enquadram na pesquisa"
      ],
      "metadata": {
        "id": "TMu0lA8jJgzN"
      },
      "execution_count": null,
      "outputs": []
    },
    {
      "cell_type": "code",
      "source": [
        "# exemplo:\n",
        "# searchInTrie('Lionel')"
      ],
      "metadata": {
        "id": "094rjSv95XHX"
      },
      "execution_count": null,
      "outputs": []
    },
    {
      "cell_type": "code",
      "source": [
        "# Os dados de jogadores nao contem algumas das informacoes a serem retornadas. Por exemplo, deve-se primeiramente guardar em uma TABELA HASH as medias de avaliacoes\n",
        "# e total de avaliacoes para cada jogador. Essas informacoes devem ser calculadas e armazenadas em uma etapa de pre-processamento.\n",
        "# Para responder esta pesquisa, deve-se implementar uma ARVORE TRIE que busca todos os identificadores de\n",
        "# jogadores que correspondem ao nome ou prefixo dado, e com essa lista de identificadores,\n",
        "# buscar na TABELA HASH as informacoes complementares dos jogadores"
      ],
      "metadata": {
        "id": "iAcwwdEFJgrp"
      },
      "execution_count": null,
      "outputs": []
    },
    {
      "cell_type": "code",
      "source": [
        "# TABELA HASH COM A MEDIA DE AVALIACOES E O TOTAL DE AVALIACOES PARA CADA JOGAR"
      ],
      "metadata": {
        "id": "nwilZswS3aKz"
      },
      "execution_count": null,
      "outputs": []
    },
    {
      "cell_type": "code",
      "source": [
        "# ARVORE TRIE COM OS NOMES DOS JOGADORES PARA BUSCAR TODOS OS IDENTIFICADORES DE JOGADORES QUE  CORRESPONDEM AO NOME OU PREFIXO DADO"
      ],
      "metadata": {
        "id": "Os65fk4a3dfL"
      },
      "execution_count": null,
      "outputs": []
    },
    {
      "cell_type": "code",
      "source": [
        "# BUSCAR NA TABELA HASH AS INFORMACOES COMPLEMENTARES DOS JOGADORES"
      ],
      "metadata": {
        "id": "Tme3XxE24vIe"
      },
      "execution_count": null,
      "outputs": []
    },
    {
      "cell_type": "code",
      "source": [
        "# 2.2 Pesquisas sobre jogadores revisados por usuarios\n",
        "# Esta pesquisa deve retornar a lista com no maximo 20 jogadores revisados pelo usuario e para\n",
        "# cada jogador mostrar a nota dada pelo usuario, a media global e a contagem de avaliacoes. A\n",
        "# lista deve ser ordenada pela nota dada pelo usuario de maneira decrescente (maiores notas\n",
        "# primeiro). A sintaxe dessa consulta eh:\n",
        "# user <userID>\n",
        "\n",
        "# Exemplo: $ user 4\n",
        "# Retornar: sofifa_id, name, global_rating, count, rating dos jogadores que o usuario revisou\n",
        "\n",
        "# Os dados de entrada nao possuem diretamente as informacoes de usuarios\n",
        "# prontas para o retorno dessa pesquisa. Estas informacoes estao colocadas no arquivo\n",
        "# rating.csv. Deve-se implementar uma estrutura de dados (livre) para calcular e agregar em\n",
        "# pre-processamento as informações por usuario. Com essa estrutura construida, para responder\n",
        "# essa pesquisa basta consultar as entradas pelo identificador do usuario e retornar a lista de\n",
        "# jogadores que esse usuario revisou e suas informacoes adicionais."
      ],
      "metadata": {
        "id": "YsVXnZnZJ_MN"
      },
      "execution_count": null,
      "outputs": []
    },
    {
      "cell_type": "code",
      "source": [
        "# FUNCAO PARA PROCURAR AS REVIEWS DE UM USUARIO\n",
        "# A funcao recebe um usuario\n",
        "def searchUserReviews(user_id):\n",
        "  global usersTable, tamanhoPlayersTable\n",
        "\n",
        "  selectedUser = buscaHash(usersTable, int(user_id), tamanhoUsersTable)\n",
        "\n",
        "  if selectedUser == None:  # usuario nao encontrado\n",
        "    return None\n",
        "  else:\n",
        "    # seleciona as informacoes do usuario\n",
        "    playersReviewed = selectedUser.ratedPlayers\n",
        "    playersRatings = selectedUser.ratings\n",
        "\n",
        "    sortedPlayersReviewed, sortedPlayersRatings = quicksort(playersReviewed,playersRatings)\n",
        "\n",
        "    top20playersReviewed = []\n",
        "\n",
        "    i = 0\n",
        "    while(len(top20playersReviewed) < 20 and i < len(sortedPlayersReviewed)):\n",
        "      top20playersReviewed.append([sortedPlayersReviewed[i], sortedPlayersRatings[i]])\n",
        "      i += 1\n",
        "\n",
        "    return top20playersReviewed\n"
      ],
      "metadata": {
        "id": "jgOhi3DwN06m"
      },
      "execution_count": 23,
      "outputs": []
    },
    {
      "cell_type": "code",
      "source": [
        "# Funcao geral para pegar os dados encontrados das avaliacoes do usuario\n",
        "\n",
        "def getUserReviews(user):\n",
        "  listOfTopPlayers = searchUserReviews(user)\n",
        "\n",
        "  if listOfTopPlayers == None:\n",
        "    return print ('Nao tem avaliacoes')\n",
        "  else:\n",
        "    printPlayersReviewed(listOfTopPlayers)"
      ],
      "metadata": {
        "id": "XZVHefSNRGeg"
      },
      "execution_count": 24,
      "outputs": []
    },
    {
      "cell_type": "code",
      "source": [
        "# FUNCAO PARA IMPRIMIR OS TOP 20 JOGADORES AVALIADOS POR UM USUARIO\n",
        "def printPlayersReviewed(listOfPlayersReviewed):\n",
        "    # Print header\n",
        "    print(\"{:<15} {:<50} {:<25} {:<15} {:<15}\".format(\"SOFIFA_ID\", \"NAME\", \" GLOBAL RATING\", \"COUNT\", \"USER RATING\"))\n",
        "    print(\"=\"*120)\n",
        "    for topPlayer, topRating in listOfPlayersReviewed:\n",
        "      print(\"{:<15} {:<50} {:<25.6f} {:<15} {:<15.1f}\".format(str(topPlayer.id), topPlayer.name, topPlayer.globalRating, str(topPlayer.count), topRating))"
      ],
      "metadata": {
        "id": "8bM8X1WQQdR8"
      },
      "execution_count": 71,
      "outputs": []
    },
    {
      "cell_type": "code",
      "source": [
        "# PESQUISAR REVIEWS"
      ],
      "metadata": {
        "id": "LJzUUGEZGHRz"
      },
      "execution_count": null,
      "outputs": []
    },
    {
      "cell_type": "code",
      "source": [
        "# 2.3 Pesquisas sobre os melhores jogadores de uma determinada posicao\n",
        "# Retornar a lista de jogadores com melhores notas de uma dada posicao\n",
        "# Para evitar que um jogador seja retornando com uma boa media mas com poucas\n",
        "# avaliacoes, esta consulta somente deve retornar os melhores jogadores com NO MINIMO 1000\n",
        "# avaliacoes. Para gerenciar o numero de jogadores a serem retornados, a consulta deve\n",
        "# receber como parametro um numero N que corresponde ao numero maximo de jogadores a\n",
        "# serem retornados. O resultado da consulta deve estar ordenado da maior para a menor\n",
        "# avaliaçao.\n",
        "# Sintaxe da consulta: top<N> ‘<position>’\n",
        "# Exemplo: $ top10 'ST''\n",
        "# Retornar: sofifa_id, name, player_position, rating, count"
      ],
      "metadata": {
        "id": "6Y8hntMDNQLH"
      },
      "execution_count": null,
      "outputs": []
    },
    {
      "cell_type": "code",
      "source": [
        "def searchTopPlayersByPosition(position, max_results):\n",
        "    global playersTable, tamanhoPlayersTable\n",
        "    ## OU PEGA A LISTA DE INSTANCIAS DE JOGADORES\n",
        "    global playersList\n",
        "\n",
        "    allTopPlayers = []\n",
        "    topPlayersRatings = []\n",
        "\n",
        "    # Coletar todos os jogadores da posição especificada\n",
        "    #for i in range(tamanhoPlayersTable):\n",
        "    # ou\n",
        "    for player in playersList: # vai direto nos jogadores\n",
        "        # if playersTable[i] is not None:\n",
        "            # for player in playersTable[i]:\n",
        "                if position in player.player_positions:\n",
        "                    if player.count >= 1000:\n",
        "                        # Coloca o jogador na lista de jogadores\n",
        "                        allTopPlayers.append(player)\n",
        "                        # Coloca o global rating do jogador na lista de Ratings # FALTAVA ISSO AQUI\n",
        "                        topPlayersRatings.append(player.globalRating)\n",
        "\n",
        "    # Ordenar os jogadores pelo rating global em ordem decrescente\n",
        "    sortedPlayers, sortedRatings = quicksort(allTopPlayers,topPlayersRatings) #REVISAR\n",
        "\n",
        "    # Limitar o número de resultados\n",
        "    allTopPlayers = sortedPlayers[:int(max_results)]\n",
        "\n",
        "    # print(allTopPlayers)\n",
        "    # Imprimir os dados dos jogadores\n",
        "    printPlayers(allTopPlayers)\n",
        "\n"
      ],
      "metadata": {
        "id": "GX9ZWZ7veVWR"
      },
      "execution_count": 58,
      "outputs": []
    },
    {
      "cell_type": "code",
      "source": [
        "# Exemplo de uso\n",
        "searchTopPlayersByPosition('ST',10)"
      ],
      "metadata": {
        "id": "PD7wME5SfrD7"
      },
      "execution_count": null,
      "outputs": []
    },
    {
      "cell_type": "code",
      "source": [
        "# 2.4 Pesquisas sobre 'tags' de jogadores\n",
        "# Explorar a lista de tags adicionadas por cada usuario em cada revisao.\n",
        "# Para uma lista de tags dada como entrada, a pesquisa deve retornar a lista de\n",
        "# jogadores que estao associados a intersecao de um conjunto de tags.\n",
        "# Sintaxe da consulta: tags <list of tags>\n",
        "# Exemplo: $ tags 'Brazil''Dribbler''\n",
        "# Retornar: sofifa_id, name, player_position, rating, count, de todos os jogadores que apresentam tanto a tag '’Brazil\" como\n",
        "# a tag \"Dribbler\".\n",
        "\n",
        "# Estas informações nao estao diretamente nos arquivos de dados. Portanto, deve-se projetar\n",
        "# uma estrutura de dados para responder essa pesquisa. Como as tags podem ser termos com\n",
        "# espaco (ex.: Solid Player, French Ligue 1, Manchester United), a tag passada na consulta deve\n",
        "# ser escrita entre apostrofes."
      ],
      "metadata": {
        "id": "IYmNbgxYNSc8"
      },
      "execution_count": null,
      "outputs": []
    },
    {
      "cell_type": "code",
      "source": [
        "# Funcao para procurar as tags nos jogadores e retornar a lista de jogadores com a tags indicadas pelo usuario\n",
        "\n",
        "def searchTagsInPlayers(tagsEntrada):\n",
        "  global playersList\n",
        "\n",
        "  tagsEntradaSet = set(tagsEntrada)  # set das tags passadas por parametro\n",
        "  playersTagged = [] # lista para os jogadores com as tags\n",
        "\n",
        "  # percorre os jogadores da lista de jogadores\n",
        "  for player in playersList:\n",
        "    # se o set de tags passado pelo usuario pertence ao set de tags do jogador\n",
        "    if tagsEntradaSet.issubset(player.tags):\n",
        "      # adiciona o jogador na lista de jogadores com a tag desejada\n",
        "      playersTagged.append(player)\n",
        "  # Imprime a lista de jogadores com as tags\n",
        "  printPlayers(playersTagged)\n",
        "\n",
        "\n"
      ],
      "metadata": {
        "id": "YOIg6LJTiX5D"
      },
      "execution_count": 43,
      "outputs": []
    },
    {
      "cell_type": "code",
      "source": [
        "# Exemplo:\n",
        "\n",
        "# tags 'Brazil''Dribbler'\n",
        "entrada = \"tags 'Brazil''Dribbler'\"\n",
        "tags_user = entrada.split(\"'\")[1::2] #separa os elementos\n",
        "searchTagsInPlayers(tags_user)\n"
      ],
      "metadata": {
        "id": "2xXvtizaGGcs"
      },
      "execution_count": null,
      "outputs": []
    },
    {
      "cell_type": "code",
      "source": [
        "# 3 IMPLEMENTACAO\n",
        "# Os usuarios devem construir uma aplicacao que funciona em duas fases.\n",
        "\n",
        "# FASE 1 - CONSTRUCAO E INICIALIZACAO\n",
        "# A fase 1 corresponde a construcao e inicializacao das estruturas de dados necessarias para suportar as consultas.\n",
        "# Ao executar a fase de construcao, esta não deve demorar mais de 3 minutos. Quem conseguir\n",
        "# fazer esta etapa em menos de 1 minuto ganha um bonus de 10%."
      ],
      "metadata": {
        "id": "pupAP0SoUvc6"
      },
      "execution_count": null,
      "outputs": []
    },
    {
      "cell_type": "code",
      "source": [
        "# MAIN - FASE 1 - CONSTRUCAO E INICIALIZACAO\n",
        "\n",
        "tamanhoPlayersTable = 10000 # tamanho da tabela Hash de jogadores\n",
        "tamanhoUsersTable = 20000\n",
        "\n",
        "# INICIA O CRONOMETRO\n",
        "startTime = time.perf_counter() # contador do tempo\n",
        "\n",
        "# CRIACAO DA TABELA HASH PARA OS DADOS DOS JOGADORES\n",
        "# cria a tabela vazia\n",
        "playersTable = [None] * tamanhoPlayersTable\n",
        "# Cria tabela de usuarios\n",
        "usersTable = [None] * tamanhoUsersTable\n",
        "\n",
        "# AROVRE TRIE\n",
        "root = TrieNode('*')\n",
        "\n",
        "# Inicializacao de variaveis\n",
        "lastPlayer = None\n",
        "lastSofifaId = ''\n",
        "\n",
        "\n",
        "playersList = [] # todos os jogadores\n",
        "topPlayers = [] # melhores jogadores com NO MINIMO 1000\n",
        "topPlayersRatings = [] # avaliacoes dos melhores jogadores com NO MINIMO 1000\n",
        "usersList = set() # usuarios\n",
        "\n",
        "# CHAMADA DE FUNCOES PARA LER TABELAS E INSERIR NAS ESTRUTURAS\n",
        "\n",
        "#  Chamadas de leituras para teste - pre-processamento\n",
        "# Arquivo players.csv\n",
        "# Le players.csv, cria instancia de Player, insere players na tabela hash e na arvore trie, adiciona player na lista\n",
        "readPlayers_csv('/content/players.csv')\n",
        "\n",
        "# Arquivo rating.csv\n",
        "# Le rating.csv, vincula rating ao player em questao, atualiza ratings do player, cria instancia de user, adiciona user na Hash Table de users, adiciona user na lista de users\n",
        "readRatings_csv('/content/rating.csv') # MAIS OU MENOS\n",
        "\n",
        "# Arquivo tags.csv\n",
        "# Le tags.csv, vincula tags ao jogador em questao\n",
        "readTags_csv('/content/tags.csv')\n",
        "\n",
        "\n",
        "\n",
        "# INTERROMPE O CRONOMETRO\n",
        "endTime = time.perf_counter()\n",
        "total_time = endTime - startTime\n",
        "\n",
        "print(f'\\nTempo de execucao da Fase 1 - Construcao e Inicializacao: {total_time:.2f} segundos')"
      ],
      "metadata": {
        "colab": {
          "base_uri": "https://localhost:8080/"
        },
        "id": "qDa88qOrZYE7",
        "outputId": "67cb3123-a2c4-4c93-8498-ddfeeef26df2"
      },
      "execution_count": 28,
      "outputs": [
        {
          "output_type": "stream",
          "name": "stdout",
          "text": [
            "\n",
            "Tempo de execucao da Fase 1 - Construcao e Inicializacao: 161.76 segundos\n"
          ]
        }
      ]
    },
    {
      "cell_type": "code",
      "source": [
        "# FASE 2 - MODO CONSOLE\n",
        "# Depois dessas estruturas serem construidas, a aplicacao entra na fase 2, que corresponde ao\n",
        "# modo console. Nesta fase sera possivel fazer as pesquisas listadas na secao anterior, bem\n",
        "# como a exibicao dos resultados."
      ],
      "metadata": {
        "id": "flHhTLzelcTQ"
      },
      "execution_count": null,
      "outputs": []
    },
    {
      "cell_type": "code",
      "source": [
        "# CHAMADAS DE TESTE DAS PESQUISAS\n"
      ],
      "metadata": {
        "id": "tqzhaIA9UQD9"
      },
      "execution_count": null,
      "outputs": []
    },
    {
      "cell_type": "code",
      "source": [
        "# 2.1\n",
        "searchInTrie('Fer')\n",
        "# searchInTrie('Lio')"
      ],
      "metadata": {
        "colab": {
          "base_uri": "https://localhost:8080/"
        },
        "id": "05l_ztr3UYES",
        "outputId": "9a5b29e0-b884-49ce-c80f-a958dd7cf95d"
      },
      "execution_count": 66,
      "outputs": [
        {
          "output_type": "stream",
          "name": "stdout",
          "text": [
            "SOFIFA_ID       NAME                                               POSITIONS                 RATING          COUNT          \n",
            "========================================================================================================================\n",
            "135507          Fernando Luiz Rosa                                 ['CB', 'CDM']             3.720244        6402           \n",
            "212618          Fernando Luis Aristeguieta de Luca                 ['ST']                    2.754755        999            \n",
            "240482          Fernando Luis Bersano                              ['LB']                    2.664393        733            \n",
            "202642          Fernando Lucas Martins                             ['CDM', 'CM']             2.981132        265            \n",
            "178614          Fernando Lopes dos Santos Varela                   ['CB']                    2.793344        1292           \n",
            "184134          Fernando Francisco Reges                           ['CDM', 'CM']             3.421439        4977           \n",
            "228748          Fernando Fabian Fernandez Acosta                   ['ST']                    2.574462        1625           \n",
            "209960          Fernando Pacheco Flores                            ['GK']                    3.061224        343            \n",
            "214916          Fernando Patricio Cordero Fonseca                  ['LB']                    2.593924        1613           \n",
            "207707          Fernando Marcal de Oliveira                        ['LB', 'CB']              3.214713        4513           \n",
            "205288          Fernando Martinez Rubio                            ['GK']                    2.655094        1973           \n",
            "254765          Fernando Martinez Rojas                            ['CM']                    2.278153        444            \n",
            "178628          Fernando Martin Forestieri                         ['ST', 'CAM', 'LW']       2.654244        483            \n",
            "232670          Fernando Matias Zampedri                           ['ST']                    2.829487        390            \n",
            "238507          Fernando Manuel Ferreira Fonseca                   ['RB']                    2.860965        953            \n",
            "229488          Fernando Madrigal Gonzalez                         ['CM']                    2.452336        1605           \n",
            "215985          Fernando Monetti                                   ['GK']                    2.703652        1807           \n",
            "234391          Fernando Medeiros da Silva                         ['CB', 'CDM']             2.540720        1277           \n",
            "240289          Fernando Calero Villa                              ['CB']                    2.920752        1224           \n",
            "216052          Fernando Coniglio                                  ['ST']                    2.362445        458            \n",
            "238406          Fernando Cosciuc                                   ['CB']                    2.415225        289            \n",
            "240471          Fernando Gorriaran Fontes                          ['CM', 'CDM']             2.837413        572            \n",
            "215243          Fernando Gaston Elizari Sedano                     ['CAM', 'ST']             2.565578        1868           \n",
            "162131          Fernando Javier Llorente Torres                    ['ST']                    3.501560        9935           \n",
            "233569          Fernando Javier Saucedo Pereyra                    ['CM', 'CDM']             2.568712        815            \n",
            "211108          Fernando Henrique da Conceicao                     ['RW', 'LW', 'CF']        2.802135        1218           \n",
            "181236          Fernando Henrique Boldrin                          ['CAM', 'RM']             2.697758        1115           \n",
            "186551          Fernando Navarro Moran                             ['RB']                    2.752461        711            \n",
            "214986          Fernando Nicolas Meza                              ['CB', 'RB']              2.649466        1124           \n",
            "252590          Fernando Nino Rodriguez                            ['ST']                    2.767571        1807           \n",
            "165517          Fernando Ruben Gago                                ['CDM', 'CM', 'CB']       3.440452        4467           \n",
            "213444          Fernando Ruben Gonzalez Pineda                     ['CM', 'CDM']             2.536774        1550           \n",
            "254725          Fernando Raul Romero Gonzalez                      ['ST']                    2.478001        1841           \n",
            "215155          Fernando Zuqui                                     ['CM', 'RM']              2.816958        743            \n",
            "251127          Fernando Torrent Guidi                             ['RB']                    2.681328        1762           \n",
            "244389          Fernando Dos Santos Pedro                          ['LM', 'ST']              2.856111        900            \n",
            "143587          Fernando Daniel Belluschi                          ['CM', 'CAM']             3.006569        5176           \n",
            "222379          Fernando David Arce Juarez                         ['CDM', 'CM']             2.581584        1477           \n",
            "230023          Fernando David Luna                                ['CAM', 'LM', 'RM']       2.419274        1790           \n",
            "215262          Fernando Andres Marquez                            ['ST']                    2.643005        965            \n",
            "243591          Fernando Andrade dos Santos                        ['LM', 'ST']              2.634309        376            \n",
            "194014          Fernando Alexander Guerrero Vasquez                ['LM', 'RW', 'RM']        2.598630        365            \n",
            "215118          Fernando Alejandro Manriquez Hernandez             ['CM']                    2.582576        1320           \n",
            "255808          Fernando Agustin Alfaro Bares                      ['LM', 'LW']              2.207756        361            \n",
            "145996          Fernando Seoane Antelo                             ['CDM', 'CM']             2.608696        23             \n",
            "207657          Fernando Omar Barrientos                           ['CM']                    2.573171        328            \n",
            "239945          Fernando Beltran Cruz                              ['CM', 'CDM']             2.750345        725            \n",
            "254754          Fernando Benitez Aguirre                           ['LM']                    2.497555        409            \n",
            "255803          Fernando Esekiel Souza Piriz                       ['CB']                    2.289773        440            \n",
            "232136          Fernand Mayembo                                    ['CB']                    2.659659        880            \n",
            "209835          Fernander Kassai                                   ['CB']                    2.421637        1442           \n",
            "258882          Fernan Ferreiroa Lopez                             ['CAM', 'CM']             2.347139        664            \n",
            "228618          Ferland Mendy                                      ['LB']                    3.186525        1410           \n",
            "241461          Ferran Torres Garcia                               ['RM', 'LM', 'CF']        3.190110        455            \n",
            "236024          Ferris N'Goma                                      ['LM', 'RM', 'CM']        2.550000        1290           \n",
            "143751          Ferhat Oztorun                                     ['LB']                    2.651715        379            \n",
            "205874          Ferhat Kaplan                                      ['GK']                    2.722826        92             \n",
            "222995          Ferhat Gorgulu                                     ['CB']                    2.415718        1406           \n",
            "256977          Ferhat Saglam                                      ['RW', 'ST']              2.304565        1599           \n",
            "205138          Ferhan Hasani                                      ['CAM', 'LW']             2.585000        600            \n",
            "235152          Ferdi Erenay Kadoglu                               ['CAM', 'RW']             2.791667        768            \n",
            "250781          Ferdinand Oswald                                   ['GK']                    2.545272        1745           \n",
            "242202          Ferdy Druijf                                       ['ST']                    2.768585        417            \n",
            "255427          Ferddy Andres Roca Vivancos                        ['ST']                    2.395056        1072           \n"
          ]
        }
      ]
    },
    {
      "cell_type": "code",
      "source": [
        "# 2.2\n",
        "getUserReviews(4)"
      ],
      "metadata": {
        "colab": {
          "base_uri": "https://localhost:8080/"
        },
        "id": "enf_-k4qUgWT",
        "outputId": "0b18bcd8-9f2b-4bbe-8097-9006fd732afe"
      },
      "execution_count": 72,
      "outputs": [
        {
          "output_type": "stream",
          "name": "stdout",
          "text": [
            "SOFIFA_ID       NAME                                                GLOBAL RATING            COUNT           USER RATING    \n",
            "========================================================================================================================\n",
            "176733          Marcus Berg                                        3.506993                  9367            5.0            \n",
            "41              Andres Iniesta Lujan                               3.866787                  9680            5.0            \n",
            "185221          Luiz Gustavo Dias                                  3.612475                  8633            5.0            \n",
            "199206          Domagoj Vida                                       3.577764                  9098            5.0            \n",
            "158963          Lucas Rodrigo Biglia                               3.529665                  6034            5.0            \n",
            "168542          David Josue Jimenez Silva                          3.988069                  8717            4.5            \n",
            "202053          R. Miyaichi                                        2.950679                  5525            4.5            \n",
            "208830          Jamie Vardy                                        3.769690                  6945            4.5            \n",
            "210513          Juan Fernando Quintero Paniagua                    3.307442                  3682            4.5            \n",
            "198554          Anthony Ujah                                       3.016280                  4484            4.5            \n",
            "254428          Joel David Ezequiel Fernandez                      2.604532                  684             4.0            \n",
            "198658          Fredrik Midtsjo                                    3.262148                  5186            4.0            \n",
            "124375          Burak Ylmaz                                        3.268794                  2993            4.0            \n",
            "183285          Mamadou Sakho                                      3.532185                  8622            4.0            \n",
            "192667          Allan Romeo Nyom                                   3.156884                  2760            4.0            \n",
            "201938          Anthony Limbombe Ekango                            2.788538                  1518            4.0            \n",
            "25798           Roque Luis Santa Cruz Cantero                      3.422341                  9722            4.0            \n",
            "206254          Miroslav Stevanovic                                3.067771                  4375            4.0            \n",
            "206506          Tristan Dingome                                    2.746764                  1159            4.0            \n",
            "241569          Hector David Martinez                              2.833938                  1379            4.0            \n"
          ]
        }
      ]
    },
    {
      "cell_type": "code",
      "source": [
        "# 2.3\n",
        "# top10 'ST''\n",
        "searchTopPlayersByPosition('ST', 10)"
      ],
      "metadata": {
        "id": "FSXOdQ8vVIZ5",
        "colab": {
          "base_uri": "https://localhost:8080/"
        },
        "outputId": "4c060ec3-7954-4b7f-cbbd-b43b2f099161"
      },
      "execution_count": 67,
      "outputs": [
        {
          "output_type": "stream",
          "name": "stdout",
          "text": [
            "SOFIFA_ID       NAME                                               POSITIONS                 RATING          COUNT          \n",
            "========================================================================================================================\n",
            "158023          Lionel Andres Messi Cuccittini                     ['RW', 'ST', 'CF']        4.256382        12887          \n",
            "20801           Cristiano Ronaldo dos Santos Aveiro                ['ST', 'LW']              4.247577        11144          \n",
            "176580          Luis Alberto Suarez Diaz                           ['ST']                    4.174944        9403           \n",
            "41236           Zlatan Ibrahimovic                                 ['ST']                    4.105496        9389           \n",
            "188545          Robert Lewandowski                                 ['ST']                    4.081675        7989           \n",
            "153079          Sergio Leonel Aguero del Castillo                  ['ST']                    4.052894        11249          \n",
            "165153          Karim Benzema                                      ['CF', 'ST']              4.036720        10471          \n",
            "183277          Eden Hazard                                        ['LW', 'ST']              4.014172        9314           \n",
            "194765          Antoine Griezmann                                  ['ST', 'CF', 'LW']        4.006960        13937          \n",
            "167664          Gonzalo Gerardo Higuain                            ['ST']                    3.918668        7285           \n"
          ]
        }
      ]
    },
    {
      "cell_type": "code",
      "source": [
        "# 2.4\n",
        "# tags 'Brazil''Dribbler'\n",
        "entrada = \"tags 'Brazil''Dribbler'\"\n",
        "tags_user = entrada.split(\"'\")[1::2] #separa os elementos\n",
        "searchTagsInPlayers(tags_user)"
      ],
      "metadata": {
        "id": "aGhTR1s0VJnE",
        "colab": {
          "base_uri": "https://localhost:8080/"
        },
        "outputId": "59fdb43a-1743-463f-f3ac-d61a97648331"
      },
      "execution_count": 68,
      "outputs": [
        {
          "output_type": "stream",
          "name": "stdout",
          "text": [
            "SOFIFA_ID       NAME                                               POSITIONS                 RATING          COUNT          \n",
            "========================================================================================================================\n",
            "190871          Neymar da Silva Santos Junior                      ['LW', 'CAM']             4.242804        17370          \n",
            "201942          Roberto Firmino Barbosa de Oliveira                ['CF']                    3.802751        5488           \n",
            "230658          Arthur Henrique Ramos de Oliveira Melo             ['CM']                    3.536732        2491           \n",
            "190483          Douglas Costa de Souza                             ['LM', 'RW', 'LW']        3.704957        9663           \n",
            "230666          Gabriel Fernando de Jesus                          ['ST']                    3.476959        4340           \n",
            "176676          Marcelo Vieira da Silva Junior                     ['LB']                    3.929943        11562          \n",
            "189242          Philippe Coutinho Correia                          ['CAM', 'LW', 'CM']       3.928441        7106           \n",
            "200949          Lucas Rodrigues Moura da Silva                     ['RM', 'CF']              3.721487        4761           \n",
            "180403          Willian Borges da Silva                            ['RW', 'LW', 'RM']        3.678571        4004           \n",
            "222716          Everton Sousa Soares                               ['LM']                    3.114625        253            \n",
            "188803          Taison Barcellos Freda                             ['LM', 'CAM']             3.334329        4518           \n",
            "201995          Felipe Anderson Pereira Gomes                      ['LM', 'CAM']             3.665974        5290           \n",
            "238794          Vinicius Jose Paixao de Oliveira Junior            ['LW']                    3.547206        4385           \n",
            "236632          David Neres Campos                                 ['LW', 'RW', 'CAM']       3.706804        7246           \n",
            "210411          Otavio Edmilson da Silva Monteiro                  ['RM', 'CAM', 'CM']       2.922907        227            \n",
            "201400          Rafael Alcantara do Nascimento                     ['CM', 'CAM', 'RM']       3.292032        3652           \n",
            "230475          Adilson Patrick Edrada Pereira                     ['CAM']                   2.888048        661            \n"
          ]
        }
      ]
    },
    {
      "cell_type": "code",
      "source": [
        "# MENU CONSOLE - INTERACAO COM O USUARIO"
      ],
      "metadata": {
        "id": "JlY0X4lmHUHX"
      },
      "execution_count": null,
      "outputs": []
    },
    {
      "cell_type": "code",
      "source": [
        "def menuConsole():\n",
        "  print(\"\\n\\n\" + \"=\"*45 + \" MENU: \" + \"=\"*45)\n",
        "  print(\"\\nSistema de Busca FIFA\")\n",
        "  print(\"\\nDigite o comando da operacao desejada: \")\n",
        "  print(  'player <name or prefix>    -> Lista de jogadores com o nome ou prefixo definidos \\n'\n",
        "          'user   <userID>            -> Lista com no máximo os 20 melhores jogadores revisados pelo usuário\\n'\n",
        "          'top<N> <position>          -> Lista de jogadores com melhores notas de uma dada posição\\n'\n",
        "          'tags   <list of tags>      -> Lista de jogadores com as tags\\n')\n",
        "  print(\"\\nDigite 'SAIR' para sair\")\n",
        "\n",
        "  # LER ENTRADAS DO USUARIO\n",
        "\n",
        "  entrada = input()\n",
        "\n",
        "  # Identifica a entrada:\n",
        "  if entrada.upper() == 'SAIR':\n",
        "    print('Saindo...')\n",
        "  elif entrada[:6] == 'player':\n",
        "    searchInTrie(entrada[7:])  # Pesquisa o prefixo ou o nome na Trie dos jogadores e imprime a lista de jogadores com o nome ou prefixo definidos\n",
        "    menuConsole()\n",
        "  elif entrada[:4] == 'user':\n",
        "    getUserReviews(entrada[5:])  # Pesquisa as reviews do usuario e imprime a lista com no máximo os 20 melhores jogadores revisados pelo usuário\n",
        "    menuConsole()\n",
        "  elif entrada[:3] == 'top': # Pesquisa e retorna a lista de jogadores com melhores notas da posicao\n",
        "    entradaSeparada = entrada.split()  # Separa o input em 2 elementos\n",
        "    searchTopPlayersByPosition(entradaSeparada[1][1:-1],int(entradaSeparada[0][3:]))\n",
        "    menuConsole()\n",
        "  elif entrada[:4] == 'tags':\n",
        "    tagsSeparadas = entrada.split(\"'\")[1::2]  # Separa as tags digitadas\n",
        "    searchTagsInPlayers(tagsSeparadas)  # Pesquisa os jogadores com essas tags e imprime a lista de jogadores com as tags\n",
        "    menuConsole()\n",
        "\n",
        "\n",
        "  else:\n",
        "    print('\\nEntrada inválida. Tente novamente.\\n')\n",
        "    # Chama o menu de novo\n",
        "    menuConsole()\n",
        ""
      ],
      "metadata": {
        "id": "fg2KlygvPwwq"
      },
      "execution_count": 61,
      "outputs": []
    },
    {
      "cell_type": "code",
      "source": [],
      "metadata": {
        "id": "Ks7MUhcHQzbX"
      },
      "execution_count": null,
      "outputs": []
    },
    {
      "cell_type": "code",
      "source": [
        "menuConsole()"
      ],
      "metadata": {
        "colab": {
          "base_uri": "https://localhost:8080/"
        },
        "id": "zWkY_ExIQKS7",
        "outputId": "b8059da3-f5c3-4eca-93bd-0411626930d9"
      },
      "execution_count": 62,
      "outputs": [
        {
          "output_type": "stream",
          "name": "stdout",
          "text": [
            "\n",
            "\n",
            "============================================= MENU: =============================================\n",
            "\n",
            "Sistema de Busca FIFA\n",
            "\n",
            "Digite o comando da operacao desejada: \n",
            "player <name or prefix>    -> Lista de jogadores com o nome ou prefixo definidos \n",
            "user   <userID>            -> Lista com no máximo os 20 melhores jogadores revisados pelo usuário\n",
            "top<N> <position>          -> Lista de jogadores com melhores notas de uma dada posição\n",
            "tags   <list of tags>      -> Lista de jogadores com as tags\n",
            "\n",
            "\n",
            "Digite 'SAIR' para sair\n",
            "top10 'ST'\n",
            "SOFIFA_ID       NAME                                               POSITIONS                 RATING          COUNT          \n",
            "==========================================================================================\n",
            "158023          Lionel Andres Messi Cuccittini                     ['RW', 'ST', 'CF']        4.256382400869093 12887          \n",
            "20801           Cristiano Ronaldo dos Santos Aveiro                ['ST', 'LW']              4.247577171572146 11144          \n",
            "176580          Luis Alberto Suarez Diaz                           ['ST']                    4.1749441667552905 9403           \n",
            "41236           Zlatan Ibrahimovic                                 ['ST']                    4.1054957929491955 9389           \n",
            "188545          Robert Lewandowski                                 ['ST']                    4.081674802853924 7989           \n",
            "153079          Sergio Leonel Aguero del Castillo                  ['ST']                    4.052893590541381 11249          \n",
            "165153          Karim Benzema                                      ['CF', 'ST']              4.036720466049088 10471          \n",
            "183277          Eden Hazard                                        ['LW', 'ST']              4.014172213871591 9314           \n",
            "194765          Antoine Griezmann                                  ['ST', 'CF', 'LW']        4.006959890937791 13937          \n",
            "167664          Gonzalo Gerardo Higuain                            ['ST']                    3.918668496911462 7285           \n",
            "\n",
            "\n",
            "============================================= MENU: =============================================\n",
            "\n",
            "Sistema de Busca FIFA\n",
            "\n",
            "Digite o comando da operacao desejada: \n",
            "player <name or prefix>    -> Lista de jogadores com o nome ou prefixo definidos \n",
            "user   <userID>            -> Lista com no máximo os 20 melhores jogadores revisados pelo usuário\n",
            "top<N> <position>          -> Lista de jogadores com melhores notas de uma dada posição\n",
            "tags   <list of tags>      -> Lista de jogadores com as tags\n",
            "\n",
            "\n",
            "Digite 'SAIR' para sair\n",
            "top20 'oi'\n",
            "SOFIFA_ID       NAME                                               POSITIONS                 RATING          COUNT          \n",
            "==========================================================================================\n",
            "\n",
            "\n",
            "============================================= MENU: =============================================\n",
            "\n",
            "Sistema de Busca FIFA\n",
            "\n",
            "Digite o comando da operacao desejada: \n",
            "player <name or prefix>    -> Lista de jogadores com o nome ou prefixo definidos \n",
            "user   <userID>            -> Lista com no máximo os 20 melhores jogadores revisados pelo usuário\n",
            "top<N> <position>          -> Lista de jogadores com melhores notas de uma dada posição\n",
            "tags   <list of tags>      -> Lista de jogadores com as tags\n",
            "\n",
            "\n",
            "Digite 'SAIR' para sair\n",
            "sair\n",
            "Saindo...\n"
          ]
        }
      ]
    }
  ]
}