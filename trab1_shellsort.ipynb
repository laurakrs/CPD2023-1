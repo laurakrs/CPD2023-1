{
  "cells": [
    {
      "cell_type": "markdown",
      "metadata": {
        "colab_type": "text",
        "id": "view-in-github"
      },
      "source": [
        "<a href=\"https://colab.research.google.com/github/laurakrs/CPD2023-1/blob/main/trab1_shellsort.ipynb\" target=\"_parent\"><img src=\"https://colab.research.google.com/assets/colab-badge.svg\" alt=\"Open In Colab\"/></a>"
      ]
    },
    {
      "cell_type": "code",
      "execution_count": 124,
      "metadata": {
        "id": "25m9l1wwJCs9"
      },
      "outputs": [],
      "source": [
        "#Importa bibliotecas\n",
        "import math\n",
        "import time\n",
        "# Em C / C++\n",
        "# ./test < ENTRADA.TXT > SAIDA.TXT\n",
        "# fopen(\"ENTRADA.TXT\")\n",
        "\n",
        "# Calcula o tempo EM MILISEGUNDOS para a execução de uma função [func]\n",
        "def executionTime(func):\n",
        "    #guarda tempo de início da execução\n",
        "    start_time = time.time_ns()\n",
        "\n",
        "    #executa função\n",
        "    func\n",
        "\n",
        "    #guarda tempo de fim da execução \n",
        "    end_time = time.time_ns()\n",
        "\n",
        "    #retorna a diferença entre tempo de início e fim (tempo total de execução da função)\n",
        "    #obs.: converte de nano segundos para micro segundos\n",
        "    return (end_time-start_time)*0.000001\n",
        "  \n",
        "# Leitura de arquivo txt\n",
        "\n",
        "def readFile(arquivo):\n",
        "    linhas, entradas, numsComQtd = [], [], []\n",
        "\n",
        "    #abre arquivo\n",
        "    with open(arquivo, 'r') as arq:\n",
        "        #lê linhas do arquivo\n",
        "        linhas = arq.readlines()\n",
        "\n",
        "    for linha in linhas:\n",
        "        temp = []\n",
        "        numsStr = linha.split()\n",
        "        numsStr.pop(0)     # tira o primeiro elemento\n",
        "\n",
        "        for numero in numsStr:\n",
        "            temp.append(int(numero))  \n",
        "\n",
        "        entradas.append(temp)\n",
        "\n",
        "        #fecha arquivo\n",
        "        arq.close()\n",
        "\n",
        "    #retorna um array com todos os arrays de entrada do arquivo\n",
        "    return entradas\n",
        "\n",
        "# Escreve resultado\n",
        "\n",
        "def writeFile(arquivo, conteudo):\n",
        "\n",
        "    with open(arquivo, 'a') as arq:\n",
        "        linhas = arq.writelines(str(conteudo))\n",
        "        arq.close()\n",
        "\n",
        "\n",
        "## FUNCAO PARA REMOVER O PRIMEIRO ELEMENTO DO VETOR (LINHA) E CONFERIR SE CORRESPONDE AO TAMANHO CORRETO DO VETOR\n",
        "def checkLength(arr):\n",
        "  return arr.pop(0) == len(arr) # remove e confere se o primeiro elemento == a length\n",
        "\n",
        "\n",
        "listaComTamanho = [5, 1, 2, 3, 4, 5]\n",
        "checkLength(listaComTamanho)\n",
        "\n",
        "\n",
        "# EXERCICIO 1 - SHELLSORT\n",
        "### ---- SHELL GAPS ---- Função para calcular as divisões \"h\" para o Shell Sort\n",
        "def shellGap(arr):\n",
        "  #usa log2 para calcular quantas vezes precisa dividir a lista ao meio\n",
        "  n = math.floor(math.log2(len(arr)))\n",
        "  n -= 1 \n",
        "  arr = []\n",
        "\n",
        "  #calcula lista de potências de dois para usar no shell short\n",
        "  while n >= 0:\n",
        "    arr.append(2**n)\n",
        "    n -= 1\n",
        "\n",
        "  #retorna a lista que foi calculada\n",
        "  return arr\n",
        "\n",
        "### ---- KNUTH GAPS ---- Função para calcular as divisões \"h\" para o Knuth Sort\n",
        "def knuthGap(arr):\n",
        "  n = len(arr)\n",
        "  arr = []\n",
        "  i = 1\n",
        "  gap = 1\n",
        "\n",
        "  while gap < n:\n",
        "    arr.insert(0,gap)\n",
        "    i += 1\n",
        "    gap = (3 ** i - 1) // 2\n",
        "  \n",
        "  return arr\n",
        "\n",
        "### ---- CIURA GAPS ---- Função para calcular as divisões \"h\" para o Ciura Sort\n",
        "def ciuraGap(arr):\n",
        "  #print(\"tamanho lista: \" + str(len(arr)))\n",
        "  sequenciaCiura = [701, 301, 132, 57, 23, 10, 4, 1]\n",
        "  n = len(arr)\n",
        "  arr = []\n",
        "  gap = 1\n",
        "  \n",
        "  if n > 701:\n",
        "    arr = sequenciaCiura.copy()\n",
        "    while n > arr[0]:\n",
        "      print(arr[0])\n",
        "      gap = math.floor(arr[0] * 2.25)\n",
        "      print(gap)\n",
        "      arr.insert(0, gap)\n",
        "\n",
        "  else:\n",
        "    for x in sequenciaCiura:\n",
        "      if x < n:\n",
        "        arr.append(x)\n",
        "\n",
        "  \n",
        "  return arr\n",
        "\n",
        "\n",
        "### ---- GENERIC SORT ---- Função que usa as divisões calculadas para implementar um algoritmo \"genérico\" de Shell Sort\n",
        "##\n",
        "\n",
        "def genericShellSort(alist, gapsSequence, sequenceType): # FUNCAO GENERICA PARA ORDENAR\n",
        "\n",
        "    #Inclui o parâmetro 'sequenceType' que aceita os valores 1, 2 e 3 pra gente poder passar qual tipo de sequência é para imprimir do lado do 'SEQ='\n",
        "    sequencia = ''\n",
        "    match sequenceType:\n",
        "      case 1:\n",
        "        sequencia = 'SHELL'\n",
        "      case 2: \n",
        "        sequencia = 'KNUTH'\n",
        "      case 3:\n",
        "        sequencia = 'CIURA'\n",
        "      case _:\n",
        "        sequencia = '???'\n",
        "\n",
        "    sublistcount = gapsSequence[0]\n",
        "\n",
        "    print(*alist, \"SEQ=\" + str(sequencia))\n",
        "\n",
        "    #Junta todo o alist e o 'SEQ=' em uma única string para passar para a função writeFile\n",
        "    string_to_write = ' '.join(map(str, alist)) + \" SEQ=\" + str(sequencia) + '\\n'\n",
        "    writeFile('/content/saida1.txt', string_to_write)\n",
        "\n",
        "    \n",
        "    while len(gapsSequence) > 0:\n",
        "\n",
        "      gapsSequence.pop(0)   # pops first element (que ele ja selecionou)\n",
        "\n",
        "      for startposition in range(sublistcount):\n",
        "        gapInsertionSort(alist,startposition,sublistcount)\n",
        "\n",
        "      print(*alist, \"INCR=\", sublistcount)\n",
        "      \n",
        "      string_to_write = ' '.join(map(str, alist)) + \" INCR=\" + str(sublistcount) + '\\n'\n",
        "      writeFile('/content/saida1.txt', string_to_write)\n",
        "\n",
        "      if len(gapsSequence) > 0:   # CONFERE NOVAMENTE SE NAO ESGOTOU O ARRAY DE GAPS\n",
        "        sublistcount = gapsSequence[0]  # seleciona o que ficou em primeiro\n",
        "\n",
        "def gapInsertionSort(alist,start,gap):  # CHAMA O INSERTION SORT \n",
        "    for i in range(start+gap,len(alist),gap):\n",
        "\n",
        "        currentvalue = alist[i]\n",
        "        position = i\n",
        "\n",
        "        while position>=gap and alist[position-gap]>currentvalue:\n",
        "            alist[position]=alist[position-gap]\n",
        "            position = position-gap\n",
        "\n",
        "        alist[position]=currentvalue"
      ]
    },
    {
      "cell_type": "code",
      "execution_count": 96,
      "metadata": {
        "colab": {
          "base_uri": "https://localhost:8080/"
        },
        "id": "B4S2Kbjc6Bz6",
        "outputId": "8d49ea36-48ca-4dd4-aeeb-a2b3f9c17463"
      },
      "outputs": [
        {
          "data": {
            "text/plain": [
              "[10, 4, 1]"
            ]
          },
          "execution_count": 96,
          "metadata": {},
          "output_type": "execute_result"
        }
      ],
      "source": [
        "ciuraGap([16, 14, 12, 1, 8, 4, 9, 6, 15, 13, 11, 2, 7, 3, 10, 5])"
      ]
    },
    {
      "cell_type": "markdown",
      "metadata": {
        "id": "XIgNtHyH8x1U"
      },
      "source": [
        "Nesse bloco de código aqui embaixo, eu li os arquivos de entrada e fiz um loop entre todas as listas do arquivo 'entrada1.txt'\n",
        "\n",
        "Como o Google Collab exclui todos os arquivos quando o runtime fecha, a gente precisa fazer o upload deles toda vez que ele abre. Então pra funcionar é só fazer o upload dos arquivos de entrada na pasta 'content' que tem ali em arquivos (na aba aqui na esquerda <<<)\n",
        "\n",
        "Eu fiz algumas mudanças na função shellShortTent:\n",
        "\n",
        "1) coloquei um parâmetro de entrada a mais só para selecionar qual string escrever do lado de 'SORT='. Os valores ficaram 1 = SHELL, 2 = KNUTH e 3 = CIURA, qualquer outro imprime um ???\n",
        "\n",
        "2) Inclui dentro da função as chamadas d writeFile, que escreve as linhas no arquivo de saida (o \"saida.txt\" que é gerado dentro da pasta content, junto com os aruivos de entrada). Como a função só aceita uma string como o parâmetro que vai imprimir, tive que fazer um join de todas as strings e colocar na \"string_to_write\"\n",
        "\n",
        "Obs.: Notei agora que talvez pro exercício 2 nós vamos precisar fazer uma \"versão 2\" da função shellSortTent que não tenha as chamadas da função writeFile, para que a medição do tempo dos algoritmos seja mais exata"
      ]
    },
    {
      "cell_type": "code",
      "execution_count": 125,
      "metadata": {
        "colab": {
          "base_uri": "https://localhost:8080/"
        },
        "id": "DhmMcrsEJ1pa",
        "outputId": "7cb49794-f0df-44c3-90d6-1a6c07b079cf"
      },
      "outputs": [
        {
          "name": "stdout",
          "output_type": "stream",
          "text": [
            "\n",
            " ----------- LISTA NÚMERO 1:\n",
            "[8, 2, 10, 11, 3, 9, 9, 15, 4, 14, 9, 6, 13, 3, 4, 8]\n",
            "\n",
            "\t### Shell gaps: \n",
            "\t[8, 4, 2, 1]\n",
            "8 2 10 11 3 9 9 15 4 14 9 6 13 3 4 8 SEQ=SHELL\n",
            "4 2 9 6 3 3 4 8 8 14 10 11 13 9 9 15 INCR= 8\n",
            "3 2 4 6 4 3 9 8 8 9 9 11 13 14 10 15 INCR= 4\n",
            "3 2 4 3 4 6 8 8 9 9 9 11 10 14 13 15 INCR= 2\n",
            "2 3 3 4 4 6 8 8 9 9 9 10 11 13 14 15 INCR= 1\n",
            "\n",
            "\t### Knuth gaps: \n",
            "\t[13, 4, 1]\n",
            "8 2 10 11 3 9 9 15 4 14 9 6 13 3 4 8 SEQ=KNUTH\n",
            "3 2 8 11 3 9 9 15 4 14 9 6 13 8 4 10 INCR= 13\n",
            "3 2 4 6 3 8 8 10 4 9 9 11 13 14 9 15 INCR= 4\n",
            "2 3 3 4 4 6 8 8 9 9 9 10 11 13 14 15 INCR= 1\n",
            "\n",
            "\t### Ciura gaps: \n",
            "\t[10, 4, 1]\n",
            "8 2 10 11 3 9 9 15 4 14 9 6 13 3 4 8 SEQ=CIURA\n",
            "8 2 10 3 3 8 9 15 4 14 9 6 13 11 4 9 INCR= 10\n",
            "3 2 4 3 4 8 9 6 8 11 9 9 13 14 10 15 INCR= 4\n",
            "2 3 3 4 4 6 8 8 9 9 9 10 11 13 14 15 INCR= 1\n",
            "\n",
            " ----------- LISTA NÚMERO 2:\n",
            "[24, 18, 25, 21, 16, 18, 14, 6, 25, 22, 12, 23, 9, 8, 26, 19, 9, 20, 3, 2, 20, 14, 4, 6, 32, 17, 18, 9, 14, 2, 13, 12]\n",
            "\n",
            "\t### Shell gaps: \n",
            "\t[16, 8, 4, 2, 1]\n",
            "24 18 25 21 16 18 14 6 25 22 12 23 9 8 26 19 9 20 3 2 20 14 4 6 32 17 18 9 14 2 13 12 SEQ=SHELL\n",
            "9 18 3 2 16 14 4 6 25 17 12 9 9 2 13 12 24 20 25 21 20 18 14 6 32 22 18 23 14 8 26 19 INCR= 16\n",
            "9 17 3 2 9 2 4 6 24 18 12 9 14 8 13 6 25 20 18 21 16 14 14 12 32 22 25 23 20 18 26 19 INCR= 8\n",
            "9 2 3 2 9 8 4 6 14 14 12 6 16 17 13 9 20 18 14 12 24 18 18 19 25 20 25 21 32 22 26 23 INCR= 4\n",
            "3 2 4 2 9 6 9 6 12 8 13 9 14 12 14 14 16 17 18 18 20 18 24 19 25 20 25 21 26 22 32 23 INCR= 2\n",
            "2 2 3 4 6 6 8 9 9 9 12 12 13 14 14 14 16 17 18 18 18 19 20 20 21 22 23 24 25 25 26 32 INCR= 1\n",
            "\n",
            "\t### Knuth gaps: \n",
            "\t[13, 4, 1]\n",
            "24 18 25 21 16 18 14 6 25 22 12 23 9 8 26 19 9 20 3 2 20 14 4 6 32 17 18 9 14 2 13 12 SEQ=KNUTH\n",
            "8 9 14 2 13 3 2 6 14 4 6 23 9 18 18 19 9 16 12 14 20 25 22 12 32 17 24 26 25 21 20 18 INCR= 13\n",
            "8 3 2 2 9 4 6 6 9 9 12 12 13 16 14 14 14 17 18 18 20 18 20 19 25 21 22 23 32 25 24 26 INCR= 4\n",
            "2 2 3 4 6 6 8 9 9 9 12 12 13 14 14 14 16 17 18 18 18 19 20 20 21 22 23 24 25 25 26 32 INCR= 1\n",
            "\n",
            "\t### Ciura gaps: \n",
            "\t[23, 10, 4, 1]\n",
            "24 18 25 21 16 18 14 6 25 22 12 23 9 8 26 19 9 20 3 2 20 14 4 6 32 17 18 9 14 2 13 12 SEQ=CIURA\n",
            "6 18 17 18 9 14 2 6 12 22 12 23 9 8 26 19 9 20 3 2 20 14 4 24 32 25 21 16 18 14 13 25 INCR= 23\n",
            "6 14 4 8 9 14 2 6 3 2 12 18 9 18 26 19 9 16 12 14 13 23 17 24 32 25 21 20 18 22 20 25 INCR= 10\n",
            "3 2 2 6 6 14 4 8 9 14 12 14 9 16 12 18 9 18 17 19 13 22 20 20 18 23 21 24 32 25 26 25 INCR= 4\n",
            "2 2 3 4 6 6 8 9 9 9 12 12 13 14 14 14 16 17 18 18 18 19 20 20 21 22 23 24 25 25 26 32 INCR= 1\n",
            "\n",
            " ----------- LISTA NÚMERO 3:\n",
            "[45, 8, 2, 4, 9, 45, 19, 41, 25, 47, 31, 4, 23, 17, 50, 25, 2, 4, 28, 9, 29, 34, 49, 32, 36, 14, 16, 15, 14, 37, 26, 20, 16, 45, 30, 2, 18, 46, 6, 5, 2, 49, 39, 24, 6, 33, 3, 17, 17, 38]\n",
            "\n",
            "\t### Shell gaps: \n",
            "\t[16, 8, 4, 2, 1]\n",
            "45 8 2 4 9 45 19 41 25 47 31 4 23 17 50 25 2 4 28 9 29 34 49 32 36 14 16 15 14 37 26 20 16 45 30 2 18 46 6 5 2 49 39 24 6 33 3 17 17 38 SEQ=SHELL\n",
            "2 4 2 2 9 34 6 5 2 14 16 4 6 17 3 17 16 8 28 4 18 45 19 32 25 47 31 15 14 33 26 20 17 38 30 9 29 46 49 41 36 49 39 24 23 37 50 25 45 45 INCR= 16\n",
            "2 4 2 2 6 17 3 5 2 8 16 4 9 33 6 17 16 14 28 4 14 34 19 20 17 38 30 9 18 37 26 25 25 45 31 15 23 45 49 32 36 47 39 24 29 46 50 41 45 49 INCR= 8\n",
            "2 4 2 2 2 8 3 4 6 14 6 4 9 17 16 5 14 33 19 9 16 34 26 15 17 37 28 17 18 38 30 20 23 45 31 24 25 45 39 25 29 46 49 32 36 47 50 41 45 49 INCR= 4\n",
            "2 2 2 4 2 4 3 4 6 5 6 8 9 9 14 14 16 15 16 17 17 17 18 20 19 24 23 25 25 32 26 33 28 34 29 37 30 38 31 41 36 45 39 45 45 46 49 47 50 49 INCR= 2\n",
            "2 2 2 2 3 4 4 4 5 6 6 8 9 9 14 14 15 16 16 17 17 17 18 19 20 23 24 25 25 26 28 29 30 31 32 33 34 36 37 38 39 41 45 45 45 46 47 49 49 50 INCR= 1\n",
            "\n",
            "\t### Knuth gaps: \n",
            "\t[40, 13, 4, 1]\n",
            "45 8 2 4 9 45 19 41 25 47 31 4 23 17 50 25 2 4 28 9 29 34 49 32 36 14 16 15 14 37 26 20 16 45 30 2 18 46 6 5 2 49 39 24 6 33 3 17 17 38 SEQ=KNUTH\n",
            "2 8 2 4 6 33 3 17 17 38 31 4 23 17 50 25 2 4 28 9 29 34 49 32 36 14 16 15 14 37 26 20 16 45 30 2 18 46 6 5 45 49 39 24 9 45 19 41 25 47 INCR= 40\n",
            "2 8 2 2 4 9 3 17 17 2 18 4 6 5 15 14 4 6 20 9 19 30 25 31 36 14 16 45 25 37 24 28 16 29 34 38 32 46 23 17 50 49 39 26 33 45 45 41 49 47 INCR= 13\n",
            "2 2 2 2 4 5 3 4 4 6 15 9 6 8 16 14 16 9 18 17 17 14 20 17 19 29 23 26 25 30 24 28 32 37 25 31 33 45 34 38 36 46 39 41 49 47 45 45 50 49 INCR= 4\n",
            "2 2 2 2 3 4 4 4 5 6 6 8 9 9 14 14 15 16 16 17 17 17 18 19 20 23 24 25 25 26 28 29 30 31 32 33 34 36 37 38 39 41 45 45 45 46 47 49 49 50 INCR= 1\n",
            "\n",
            "\t### Ciura gaps: \n",
            "\t[23, 10, 4, 1]\n",
            "45 8 2 4 9 45 19 41 25 47 31 4 23 17 50 25 2 4 28 9 29 34 49 32 36 14 16 15 14 37 26 20 16 45 30 2 18 46 6 5 2 49 39 24 6 33 3 17 17 38 SEQ=CIURA\n",
            "3 8 2 4 9 14 19 26 20 16 31 4 2 17 46 6 2 2 28 9 24 6 33 32 17 14 16 15 45 37 41 25 47 45 30 23 18 50 25 5 4 49 39 29 34 49 45 36 17 38 INCR= 23\n",
            "3 4 2 4 9 6 2 2 17 5 4 6 2 17 17 14 16 15 20 9 24 8 33 29 30 14 18 26 25 16 31 25 39 32 34 23 19 36 28 37 41 49 47 45 46 49 45 50 45 38 INCR= 10\n",
            "2 4 2 2 3 5 2 4 9 6 4 6 16 8 17 9 17 14 18 14 19 15 20 23 24 16 28 25 25 17 31 26 30 32 33 29 39 36 34 37 41 38 45 45 45 49 47 50 46 49 INCR= 4\n",
            "2 2 2 2 3 4 4 4 5 6 6 8 9 9 14 14 15 16 16 17 17 17 18 19 20 23 24 25 25 26 28 29 30 31 32 33 34 36 37 38 39 41 45 45 45 46 47 49 49 50 INCR= 1\n",
            "\n",
            " ----------- LISTA NÚMERO 4:\n",
            "[40, 7, 70, 44, 10, 19, 28, 40, 4, 45, 16, 65, 45, 6, 5, 64, 48, 16, 41, 45, 49, 71, 66, 71, 2, 71, 41, 48, 58, 23, 47, 5, 37, 23, 21, 46, 40, 56, 67, 41, 69, 13, 54, 45, 64, 5, 37, 47, 6, 38, 59, 66, 12, 18, 63, 18, 13, 30, 45, 58, 23, 36, 59, 51, 28, 62, 22, 7, 42, 50, 11, 21, 50]\n",
            "\n",
            "\t### Shell gaps: \n",
            "\t[32, 16, 8, 4, 2, 1]\n",
            "40 7 70 44 10 19 28 40 4 45 16 65 45 6 5 64 48 16 41 45 49 71 66 71 2 71 41 48 58 23 47 5 37 23 21 46 40 56 67 41 69 13 54 45 64 5 37 47 6 38 59 66 12 18 63 18 13 30 45 58 23 36 59 51 28 62 22 7 42 50 11 21 50 SEQ=SHELL\n",
            "28 7 21 7 10 19 11 21 4 13 16 45 45 5 5 47 6 16 41 45 12 18 63 18 2 30 41 48 23 23 47 5 37 23 22 44 40 50 28 40 50 45 54 65 64 6 37 64 48 38 59 66 49 71 66 71 13 71 45 58 58 36 59 51 40 62 70 46 42 56 67 41 69 INCR= 32\n",
            "6 7 21 7 10 18 11 18 2 13 16 45 23 5 5 5 28 16 22 44 12 19 28 21 4 30 41 48 45 6 37 47 37 23 41 45 40 50 63 40 13 45 45 58 58 23 47 51 40 38 59 46 42 56 66 41 50 71 54 65 64 36 59 64 48 62 70 66 49 71 67 71 69 INCR= 16\n",
            "2 7 16 7 10 5 5 5 4 13 21 44 12 6 11 18 6 16 22 45 23 18 28 21 13 23 41 45 40 19 37 40 28 30 41 46 42 23 47 41 37 38 45 48 45 36 59 47 40 45 54 58 49 50 63 51 48 62 59 65 58 56 66 64 50 71 70 66 64 71 67 71 69 INCR= 8\n",
            "2 5 5 5 4 6 11 7 6 7 16 18 10 13 21 21 12 16 22 40 13 18 28 41 23 19 37 44 28 23 41 45 37 23 41 45 40 30 45 46 40 36 47 47 42 38 54 48 45 45 59 51 48 50 59 58 49 56 63 64 50 62 66 65 58 71 67 66 64 71 70 71 69 INCR= 4\n",
            "2 5 4 5 5 6 6 7 10 7 11 13 12 16 13 18 16 18 21 19 22 21 23 23 28 23 28 30 37 36 37 38 40 40 40 41 41 44 41 45 42 45 45 45 45 46 47 47 48 48 49 50 50 51 54 56 58 58 59 62 59 64 63 65 64 66 66 71 67 71 69 71 70 INCR= 2\n",
            "2 4 5 5 5 6 6 7 7 10 11 12 13 13 16 16 18 18 19 21 21 22 23 23 23 28 28 30 36 37 37 38 40 40 40 41 41 41 42 44 45 45 45 45 45 46 47 47 48 48 49 50 50 51 54 56 58 58 59 59 62 63 64 64 65 66 66 67 69 70 71 71 71 INCR= 1\n",
            "\n",
            "\t### Knuth gaps: \n",
            "\t[40, 13, 4, 1]\n",
            "40 7 70 44 10 19 28 40 4 45 16 65 45 6 5 64 48 16 41 45 49 71 66 71 2 71 41 48 58 23 47 5 37 23 21 46 40 56 67 41 69 13 54 45 64 5 37 47 6 38 59 66 12 18 63 18 13 30 45 58 23 36 59 51 28 62 22 7 42 50 11 21 50 SEQ=KNUTH\n",
            "40 7 54 44 10 5 28 40 4 38 16 65 12 6 5 18 13 16 41 45 23 36 59 51 2 62 22 7 42 23 11 5 37 23 21 46 40 56 67 41 69 13 70 45 64 19 37 47 6 45 59 66 45 18 63 64 48 30 45 58 49 71 66 71 28 71 41 48 58 50 47 21 50 INCR= 40\n",
            "6 5 13 13 10 5 19 23 4 6 16 2 12 22 7 18 23 11 5 21 23 21 38 40 56 28 40 7 42 44 16 30 28 37 36 46 45 59 62 41 18 48 58 45 41 37 40 47 59 51 65 66 45 41 54 64 48 47 45 50 49 71 66 71 67 71 69 63 70 50 64 45 58 INCR= 13\n",
            "4 5 5 2 6 5 7 7 10 6 13 13 12 11 16 18 18 21 16 21 23 22 19 23 23 28 36 30 28 37 38 40 41 37 40 41 42 41 40 45 45 44 45 45 45 47 54 46 48 48 58 47 49 50 62 50 56 51 64 63 58 59 65 64 59 71 66 66 67 71 69 71 70 INCR= 4\n",
            "2 4 5 5 5 6 6 7 7 10 11 12 13 13 16 16 18 18 19 21 21 22 23 23 23 28 28 30 36 37 37 38 40 40 40 41 41 41 42 44 45 45 45 45 45 46 47 47 48 48 49 50 50 51 54 56 58 58 59 59 62 63 64 64 65 66 66 67 69 70 71 71 71 INCR= 1\n",
            "\n",
            "\t### Ciura gaps: \n",
            "\t[57, 23, 10, 4, 1]\n",
            "40 7 70 44 10 19 28 40 4 45 16 65 45 6 5 64 48 16 41 45 49 71 66 71 2 71 41 48 58 23 47 5 37 23 21 46 40 56 67 41 69 13 54 45 64 5 37 47 6 38 59 66 12 18 63 18 13 30 45 58 23 36 59 51 28 62 22 7 42 50 11 21 50 SEQ=CIURA\n",
            "30 7 58 23 10 19 28 28 4 22 7 42 45 6 5 50 48 16 41 45 49 71 66 71 2 71 41 48 58 23 47 5 37 23 21 46 40 56 67 41 69 13 54 45 64 5 37 47 6 38 59 66 12 18 63 18 13 40 45 70 44 36 59 51 40 62 45 16 65 50 11 21 64 INCR= 57\n",
            "30 2 6 23 10 19 12 18 4 18 7 21 45 6 5 36 41 16 13 45 45 16 5 37 7 21 38 48 58 23 28 5 22 13 40 45 40 44 50 48 51 40 54 45 64 65 50 11 58 41 59 66 28 47 63 37 23 42 46 70 56 67 59 69 41 62 49 71 66 71 47 71 64 INCR= 23\n",
            "7 2 5 6 5 19 12 11 4 18 28 5 6 13 7 21 23 16 13 23 30 16 22 23 10 36 38 18 46 41 45 21 28 37 40 37 40 42 50 45 47 40 45 45 41 45 41 44 58 48 51 66 54 47 63 62 49 48 58 70 56 67 59 69 64 65 50 71 66 71 59 71 64 INCR= 10\n",
            "4 2 5 5 5 13 7 6 6 16 12 11 7 16 13 18 10 18 22 21 23 19 28 21 28 36 38 23 30 37 40 23 40 40 41 37 41 41 45 44 46 42 45 45 47 45 50 45 49 47 50 62 54 48 51 66 56 48 58 69 58 65 59 70 64 67 59 71 64 71 63 71 66 INCR= 4\n",
            "2 4 5 5 5 6 6 7 7 10 11 12 13 13 16 16 18 18 19 21 21 22 23 23 23 28 28 30 36 37 37 38 40 40 40 41 41 41 42 44 45 45 45 45 45 46 47 47 48 48 49 50 50 51 54 56 58 58 59 59 62 63 64 64 65 66 66 67 69 70 71 71 71 INCR= 1\n",
            "\n",
            " ----------- LISTA NÚMERO 5:\n",
            "[93, 82, 83, 89, 11, 91, 88, 48, 34, 98, 14, 37, 84, 16, 4, 45, 74, 76, 33, 79, 89, 10, 26, 72, 73, 59, 42, 56, 3, 57, 42, 51, 71, 5, 44, 18, 48, 84, 90, 50, 88, 46, 75, 85, 92, 35, 40, 48, 72, 10, 69, 68, 75, 54, 58, 9, 50, 81, 78, 17, 93, 79, 71, 70, 84, 54, 26, 44, 36, 53, 54, 94, 5, 52, 73, 59, 9, 52, 24, 23, 61, 85, 24, 90, 90, 30, 74, 78, 17, 14, 92, 24, 29, 56, 62, 81, 5, 24]\n",
            "\n",
            "\t### Shell gaps: \n",
            "\t[32, 16, 8, 4, 2, 1]\n",
            "93 82 83 89 11 91 88 48 34 98 14 37 84 16 4 45 74 76 33 79 89 10 26 72 73 59 42 56 3 57 42 51 71 5 44 18 48 84 90 50 88 46 75 85 92 35 40 48 72 10 69 68 75 54 58 9 50 81 78 17 93 79 71 70 84 54 26 44 36 53 54 94 5 52 73 59 9 52 24 23 61 85 24 90 90 30 74 78 17 14 92 24 29 56 62 81 5 24 SEQ=SHELL\n",
            "5 5 26 18 11 53 54 48 5 46 14 37 9 16 4 23 61 10 24 68 75 10 26 9 17 14 42 17 3 56 42 51 71 24 44 44 36 84 88 50 34 52 73 59 84 35 24 45 72 76 33 79 89 30 58 72 50 59 78 24 29 57 62 70 84 54 83 89 48 91 90 94 88 98 75 85 92 52 40 48 74 85 69 90 90 54 74 78 73 81 92 56 93 79 71 81 93 82 INCR= 32\n",
            "5 5 24 18 11 10 26 9 5 14 14 17 3 16 4 23 61 10 26 44 36 30 54 48 17 46 42 24 9 35 24 45 71 24 33 68 48 53 58 50 34 52 73 37 29 52 40 48 72 54 44 79 75 54 74 72 50 59 75 56 84 56 42 51 74 76 69 89 89 84 88 78 73 81 78 59 92 57 62 70 84 82 83 90 90 91 90 94 88 98 92 85 93 79 71 81 93 85 INCR= 16\n",
            "5 5 14 17 3 10 4 9 5 10 24 18 9 16 24 23 17 14 26 24 11 30 26 45 34 24 33 37 29 35 40 48 50 46 42 44 36 52 42 48 61 52 44 56 48 53 54 50 71 54 69 59 75 54 58 51 72 59 73 68 84 56 62 70 73 76 75 79 89 57 71 72 74 81 78 85 90 79 74 78 84 82 83 89 92 84 88 81 88 85 92 90 93 91 90 94 93 98 INCR= 8\n",
            "3 5 4 9 5 10 14 17 5 10 24 18 9 14 24 23 11 16 26 24 17 24 26 37 29 30 33 44 34 35 40 45 36 46 42 48 48 52 42 48 50 52 44 50 61 53 54 51 71 54 58 56 72 54 62 59 73 56 69 68 74 57 71 70 75 59 73 72 84 76 74 78 84 79 75 79 88 81 78 81 89 82 83 85 90 84 88 89 92 85 90 90 93 91 92 94 93 98 INCR= 4\n",
            "3 5 4 9 5 10 5 10 9 14 11 16 14 17 17 18 24 23 24 24 26 24 26 30 29 35 33 37 34 44 36 45 40 46 42 48 42 48 44 50 48 51 50 52 54 52 58 53 61 54 62 54 69 56 71 56 71 57 72 59 73 59 73 68 74 70 74 72 75 76 75 78 78 79 83 79 84 81 84 81 88 82 88 84 89 85 90 85 90 89 92 90 92 91 93 94 93 98 INCR= 2\n",
            "3 4 5 5 5 9 9 10 10 11 14 14 16 17 17 18 23 24 24 24 24 26 26 29 30 33 34 35 36 37 40 42 42 44 44 45 46 48 48 48 50 50 51 52 52 53 54 54 54 56 56 57 58 59 59 61 62 68 69 70 71 71 72 72 73 73 74 74 75 75 76 78 78 79 79 81 81 82 83 84 84 84 85 85 88 88 89 89 90 90 90 91 92 92 93 93 94 98 INCR= 1\n",
            "\n",
            "\t### Knuth gaps: \n",
            "\t[40, 13, 4, 1]\n",
            "93 82 83 89 11 91 88 48 34 98 14 37 84 16 4 45 74 76 33 79 89 10 26 72 73 59 42 56 3 57 42 51 71 5 44 18 48 84 90 50 88 46 75 85 92 35 40 48 72 10 69 68 75 54 58 9 50 81 78 17 93 79 71 70 84 54 26 44 36 53 54 94 5 52 73 59 9 52 24 23 61 85 24 90 90 30 74 78 17 14 92 24 29 56 62 81 5 24 SEQ=KNUTH\n",
            "61 46 24 85 11 30 40 48 17 10 14 24 29 16 4 9 5 24 33 17 89 10 26 70 73 54 26 44 3 53 42 51 5 5 44 18 9 52 24 23 88 82 75 89 90 35 74 48 34 14 69 37 75 54 58 45 50 76 78 79 93 79 71 72 84 59 42 56 36 57 54 94 71 52 73 59 48 84 90 50 93 85 83 90 92 91 88 78 72 98 92 68 84 56 62 81 74 81 INCR= 40\n",
            "16 4 3 5 11 30 5 5 10 10 9 24 24 23 42 9 36 24 33 17 48 17 18 14 48 29 26 44 24 45 42 51 35 71 44 26 14 52 37 59 46 56 53 50 54 40 74 48 34 59 69 54 61 50 56 62 57 74 78 79 52 73 70 72 84 68 54 58 75 81 76 81 89 88 78 71 73 84 75 84 82 85 83 90 92 91 93 79 72 98 92 90 88 93 85 89 90 94 INCR= 13\n",
            "10 4 3 5 11 10 5 5 14 17 9 9 16 23 18 14 24 24 26 17 24 29 33 24 34 30 37 26 35 40 42 44 36 45 42 48 46 50 44 50 48 52 53 51 48 56 54 54 52 59 56 58 54 68 69 59 57 71 70 62 61 73 74 71 72 74 75 72 73 81 76 79 75 84 78 79 82 85 78 81 84 88 83 84 88 91 85 89 89 93 92 90 90 94 93 90 92 98 INCR= 4\n",
            "3 4 5 5 5 9 9 10 10 11 14 14 16 17 17 18 23 24 24 24 24 26 26 29 30 33 34 35 36 37 40 42 42 44 44 45 46 48 48 48 50 50 51 52 52 53 54 54 54 56 56 57 58 59 59 61 62 68 69 70 71 71 72 72 73 73 74 74 75 75 76 78 78 79 79 81 81 82 83 84 84 84 85 85 88 88 89 89 90 90 90 91 92 92 93 93 94 98 INCR= 1\n",
            "\n",
            "\t### Ciura gaps: \n",
            "\t[57, 23, 10, 4, 1]\n",
            "93 82 83 89 11 91 88 48 34 98 14 37 84 16 4 45 74 76 33 79 89 10 26 72 73 59 42 56 3 57 42 51 71 5 44 18 48 84 90 50 88 46 75 85 92 35 40 48 72 10 69 68 75 54 58 9 50 81 78 17 93 79 71 70 84 54 26 44 36 53 54 94 5 52 73 59 9 52 24 23 61 85 24 90 90 30 74 78 17 14 92 24 29 56 62 81 5 24 SEQ=CIURA\n",
            "81 78 17 89 11 71 70 48 34 26 14 36 53 16 4 5 52 73 33 9 52 10 23 61 73 24 42 56 3 57 42 17 14 5 24 18 48 62 81 5 24 46 75 85 92 35 40 48 72 10 69 68 75 54 58 9 50 93 82 83 93 79 91 88 84 54 98 44 37 84 54 94 45 74 76 59 79 89 24 26 72 85 59 90 90 30 74 78 51 71 92 44 29 56 84 90 50 88 INCR= 57\n",
            "29 48 17 10 11 3 57 42 17 9 5 24 18 16 4 5 5 24 33 9 52 10 23 40 54 24 42 50 68 59 48 34 14 14 36 53 48 62 79 30 73 46 51 71 44 35 61 56 72 45 56 71 70 54 58 24 26 72 82 59 90 81 52 74 78 54 85 92 37 81 73 84 89 69 76 75 79 89 26 50 93 85 83 93 90 91 88 84 75 98 92 44 84 78 94 90 74 88 INCR= 23\n",
            "5 10 14 10 4 3 5 24 17 9 29 24 17 14 11 5 26 42 26 9 48 34 18 16 36 24 42 50 33 30 52 44 23 40 44 24 48 56 37 45 56 46 51 54 54 35 57 62 68 50 73 48 52 69 58 53 61 72 72 59 73 71 70 71 76 54 74 84 75 59 90 81 83 74 78 75 79 88 79 81 92 84 84 78 90 90 85 89 82 98 93 85 89 93 94 91 88 92 INCR= 10\n",
            "4 3 5 5 5 9 11 9 17 10 14 10 17 14 18 16 23 24 26 24 26 30 29 24 33 34 37 24 36 35 42 44 48 40 44 45 48 42 51 48 52 46 52 50 54 50 57 53 56 54 58 54 61 56 70 59 68 59 72 62 73 69 73 71 75 71 74 75 76 72 78 78 79 74 79 81 82 84 84 81 83 88 85 84 88 90 90 85 89 92 93 89 90 93 94 91 92 98 INCR= 4\n",
            "3 4 5 5 5 9 9 10 10 11 14 14 16 17 17 18 23 24 24 24 24 26 26 29 30 33 34 35 36 37 40 42 42 44 44 45 46 48 48 48 50 50 51 52 52 53 54 54 54 56 56 57 58 59 59 61 62 68 69 70 71 71 72 72 73 73 74 74 75 75 76 78 78 79 79 81 81 82 83 84 84 84 85 85 88 88 89 89 90 90 90 91 92 92 93 93 94 98 INCR= 1\n"
          ]
        }
      ],
      "source": [
        "# FUNCAO MAIN\n",
        "\n",
        "#Lê arquivos de entradas fornecidos:\n",
        "\n",
        "#Lê arquivo \"entrada1.txt\"\n",
        "listasExercicio1 = readFile('/content/entrada1.txt')\n",
        "\n",
        "#Lê arquivo \"entrada1.txt\"\n",
        "listasExercicio2 = readFile('/content/entrada2.txt')\n",
        "\n",
        "# Lista de teste\n",
        "listaTeste = [100000,26,93,17,77,31,44,55,20, 3]\n",
        "\n",
        "listaTesteEnunciado = [16, 14, 12, 1, 8, 4, 9, 6, 15, 13, 11, 2, 7, 3, 10, 5]\n",
        "\n",
        "# EXERCICIO 1\n",
        "#Iteração entre listas lidas do arquivo 'entrada1.txt'\n",
        "\n",
        "i = 1\n",
        "for lista in listasExercicio1:\n",
        "  print('\\n ----------- LISTA NÚMERO ' + str(i) + ':')\n",
        "  print(lista)\n",
        "  i += 1\n",
        "  print('\\n\\t### Shell gaps: ')\n",
        "  print('\\t' + str(shellGap(lista)))\n",
        "  genericShellSort(lista.copy(), shellGap(lista), 1)\n",
        "  print('\\n\\t### Knuth gaps: ')\n",
        "  print('\\t' + str(knuthGap(lista)))\n",
        "  genericShellSort(lista.copy(), knuthGap(lista), 2)\n",
        "  print('\\n\\t### Ciura gaps: ')\n",
        "  print('\\t' + str(ciuraGap(lista)))\n",
        "  genericShellSort(lista.copy(), ciuraGap(lista), 3)\n",
        "\n"
      ]
    },
    {
      "cell_type": "markdown",
      "metadata": {
        "id": "MDjWlbGn47QI"
      },
      "source": [
        "# New Section"
      ]
    },
    {
      "cell_type": "code",
      "execution_count": null,
      "metadata": {
        "colab": {
          "base_uri": "https://localhost:8080/"
        },
        "id": "TnkrC00k8rUT",
        "outputId": "cd9c23c2-700a-4c0d-f9e2-f180c8a8b8e4"
      },
      "outputs": [
        {
          "data": {
            "text/plain": [
              "[8, 4, 2, 1]"
            ]
          },
          "execution_count": 4,
          "metadata": {},
          "output_type": "execute_result"
        }
      ],
      "source": [
        "shellGap(listaTesteEnunciado)"
      ]
    },
    {
      "cell_type": "code",
      "execution_count": null,
      "metadata": {
        "colab": {
          "base_uri": "https://localhost:8080/"
        },
        "id": "twAqcxr1c4qd",
        "outputId": "c800e84d-133b-415d-a6b8-984a79f263a4"
      },
      "outputs": [
        {
          "name": "stdout",
          "output_type": "stream",
          "text": [
            "16 14 12 1 8 4 9 6 15 13 11 2 7 3 10 5 SEQ=SHELL\n",
            "15 13 11 1 7 3 9 5 16 14 12 2 8 4 10 6 INCR= 8\n",
            "7 3 9 1 8 4 10 2 15 13 11 5 16 14 12 6 INCR= 4\n",
            "7 1 8 2 9 3 10 4 11 5 12 6 15 13 16 14 INCR= 2\n",
            "1 2 3 4 5 6 7 8 9 10 11 12 13 14 15 16 INCR= 1\n"
          ]
        }
      ],
      "source": [
        "genericShellSort(listaTesteEnunciado, shellGap(listaTesteEnunciado), 1)"
      ]
    },
    {
      "cell_type": "code",
      "execution_count": null,
      "metadata": {
        "colab": {
          "base_uri": "https://localhost:8080/"
        },
        "id": "F6ZihJxQ6ErR",
        "outputId": "11a6c81f-d5e9-455f-adbe-e5238d2fe72c"
      },
      "outputs": [
        {
          "data": {
            "text/plain": [
              "[13, 4, 1]"
            ]
          },
          "execution_count": 22,
          "metadata": {},
          "output_type": "execute_result"
        }
      ],
      "source": [
        "knuthGap(listaTesteEnunciado)"
      ]
    },
    {
      "cell_type": "code",
      "execution_count": null,
      "metadata": {
        "colab": {
          "base_uri": "https://localhost:8080/"
        },
        "id": "L1FRbwFC50UM",
        "outputId": "c7e5ee0b-db5b-4565-f73d-90cac9b809c8"
      },
      "outputs": [
        {
          "name": "stdout",
          "output_type": "stream",
          "text": [
            "1 2 3 4 5 6 7 8 9 10 11 12 13 14 15 16 SEQ= inserir tipo de sequencia utilizada\n",
            "1 2 3 4 5 6 7 8 9 10 11 12 13 14 15 16 INCR= 13\n",
            "1 2 3 4 5 6 7 8 9 10 11 12 13 14 15 16 INCR= 4\n",
            "1 2 3 4 5 6 7 8 9 10 11 12 13 14 15 16 INCR= 1\n"
          ]
        }
      ],
      "source": [
        "genericShellSort(listaTesteEnunciado,knuthGap(listaTesteEnunciado), 2)"
      ]
    },
    {
      "cell_type": "code",
      "execution_count": null,
      "metadata": {
        "colab": {
          "base_uri": "https://localhost:8080/"
        },
        "id": "yiOpbN4z8Grk",
        "outputId": "a692ac24-acce-468a-f495-c9b70e3b8dff"
      },
      "outputs": [
        {
          "name": "stdout",
          "output_type": "stream",
          "text": [
            "tamanho lista: 16\n"
          ]
        },
        {
          "data": {
            "text/plain": [
              "[10, 4, 1]"
            ]
          },
          "execution_count": 24,
          "metadata": {},
          "output_type": "execute_result"
        }
      ],
      "source": [
        "ciuraGap(listaTesteEnunciado)"
      ]
    },
    {
      "cell_type": "code",
      "execution_count": null,
      "metadata": {
        "id": "2t2SzxJs6797"
      },
      "outputs": [],
      "source": [
        "genericShellSort(listaTesteEnunciado, ciuraGap(listaTesteEnunciado), 3)"
      ]
    },
    {
      "cell_type": "markdown",
      "metadata": {
        "id": "QjOoVgtQu1S7"
      },
      "source": [
        "EXERCICIO 2\n",
        "\n",
        "Cronometre o tempo de execucao em vetores contendo numeros aleatorios de tamanho 100, 1000, 10000, 100000 e \n",
        "1000000 para todas as tres sequencias da questao anterior. Estes vetores serao informados no arquivo entrada2.txt seguindo o mesmo formato da questao anterior."
      ]
    },
    {
      "cell_type": "markdown",
      "metadata": {
        "id": "nSNuQLR_vKQ-"
      },
      "source": [
        "Em cada linha coloca-se o nome da sequencia usada, seguido do tamanho de vetor de entrada e tempo em milisegundos para ordenar o vetor\n",
        "usando o algoritmo de ShellSort e a sequencia respectiva, e ao final uma descricao do processador usado para rodar os testes. Os resultados devem\n",
        "ser colocados em um arquivo chamado saida2.txt."
      ]
    },
    {
      "cell_type": "code",
      "execution_count": null,
      "metadata": {
        "id": "Eom-Eujs0xue"
      },
      "outputs": [],
      "source": [
        "# EXERCICIO 2 - TESTES DE ESCALA\n",
        "#ENTRADA 2\n",
        "#SAIDA 2 = TEMPO EM MILISEGUNDOS \n",
        "#NOME DA SEQUENCIA, TAMANHO DO VETOR DE ENTRADA, TEMPO EM MILISEGUNDOS, DESCRICAO DO PROCESSADOR"
      ]
    },
    {
      "cell_type": "code",
      "execution_count": 126,
      "metadata": {
        "id": "tUFGS4HfwZ6-"
      },
      "outputs": [],
      "source": [
        "### ---- GENERIC SORT ---- Função que usa as divisões calculadas para implementar um algoritmo \"genérico\" de Shell Sort\n",
        "##\n",
        "\n",
        "def genericShellSort2(alist, gapsSequence, sequenceType): # FUNCAO GENERICA PARA ORDENAR\n",
        "\n",
        "    #Inclui o parâmetro 'sequenceType' que aceita os valores 1, 2 e 3 pra gente poder passar qual tipo de sequência é para imprimir do lado do 'SEQ='\n",
        "    sequencia = ''\n",
        "    match sequenceType:\n",
        "      case 1:\n",
        "        sequencia = 'SHELL'\n",
        "      case 2: \n",
        "        sequencia = 'KNUTH'\n",
        "      case 3:\n",
        "        sequencia = 'CIURA'\n",
        "      case _:\n",
        "        sequencia = '???'\n",
        "\n",
        "    sublistcount = gapsSequence[0]\n",
        "\n",
        "    #print(*alist, \"SEQ=\" + str(sequencia))\n",
        "\n",
        "    #Junta todo o alist e o 'SEQ=' em uma única string para passar para a função writeFile\n",
        "    #string_to_write = ' '.join(map(str, alist)) + \" SEQ=\" + str(sequencia) + '\\n'\n",
        "    #writeFile('/content/saida1.txt', string_to_write)\n",
        "\n",
        "    \n",
        "    while len(gapsSequence) > 0:\n",
        "\n",
        "      gapsSequence.pop(0)   # pops first element (que ele ja selecionou)\n",
        "\n",
        "      for startposition in range(sublistcount):\n",
        "        gapInsertionSort(alist,startposition,sublistcount)\n",
        "\n",
        "      #print(*alist, \"INCR=\", sublistcount)\n",
        "      \n",
        "      #string_to_write = ' '.join(map(str, alist)) + \" INCR=\" + str(sublistcount) + '\\n'\n",
        "      #writeFile('/content/saida1.txt', string_to_write)\n",
        "\n",
        "      if len(gapsSequence) > 0:   # CONFERE NOVAMENTE SE NAO ESGOTOU O ARRAY DE GAPS\n",
        "        sublistcount = gapsSequence[0]  # seleciona o que ficou em primeiro\n"
      ]
    },
    {
      "cell_type": "code",
      "execution_count": 121,
      "metadata": {
        "colab": {
          "base_uri": "https://localhost:8080/"
        },
        "id": "yQEgadaG_nn9",
        "outputId": "f4fc0b52-8720-453c-fa0a-43f7749ef679"
      },
      "outputs": [
        {
          "name": "stdout",
          "output_type": "stream",
          "text": [
            "[8, 2, 10, 11, 3, 9, 9, 15, 4, 14, 9, 6, 13, 3, 4, 8]\n"
          ]
        }
      ],
      "source": [
        "print(listasExercicio1[0])"
      ]
    },
    {
      "cell_type": "code",
      "execution_count": 120,
      "metadata": {
        "colab": {
          "base_uri": "https://localhost:8080/"
        },
        "id": "b_gp0kHj-vlT",
        "outputId": "a378888d-75df-403c-cb1f-d81b2fb0b09f"
      },
      "outputs": [
        {
          "name": "stdout",
          "output_type": "stream",
          "text": [
            "46\n"
          ]
        }
      ],
      "source": [
        "print(listasExercicio2[0][0])"
      ]
    },
    {
      "cell_type": "code",
      "execution_count": 119,
      "metadata": {
        "colab": {
          "base_uri": "https://localhost:8080/"
        },
        "id": "g63FsS1OB7sW",
        "outputId": "c233b21c-d3d2-44d5-c0a1-4dea85096c17"
      },
      "outputs": [
        {
          "name": "stdout",
          "output_type": "stream",
          "text": [
            "46\n"
          ]
        }
      ],
      "source": [
        "print(listasExercicio2[0][0])"
      ]
    },
    {
      "cell_type": "code",
      "execution_count": 127,
      "metadata": {
        "colab": {
          "base_uri": "https://localhost:8080/"
        },
        "id": "dRWNzurPIbTr",
        "outputId": "fd808eb5-022a-43bc-9dd3-aa4b793fc8f3"
      },
      "outputs": [
        {
          "name": "stdout",
          "output_type": "stream",
          "text": [
            "701\n",
            "1577\n",
            "701\n",
            "1577\n",
            "1577\n",
            "3548\n",
            "3548\n",
            "7983\n",
            "7983\n",
            "17961\n",
            "701\n",
            "1577\n",
            "1577\n",
            "3548\n",
            "3548\n",
            "7983\n",
            "7983\n",
            "17961\n",
            "17961\n",
            "40412\n",
            "40412\n",
            "90927\n",
            "90927\n",
            "204585\n",
            "701\n",
            "1577\n",
            "1577\n",
            "3548\n",
            "3548\n",
            "7983\n",
            "7983\n",
            "17961\n",
            "17961\n",
            "40412\n",
            "40412\n",
            "90927\n",
            "90927\n",
            "204585\n",
            "204585\n",
            "460316\n",
            "460316\n",
            "1035711\n"
          ]
        }
      ],
      "source": [
        "# EXERCICIO 2\n",
        "# Exemplo: 'SHELL,' + str(arr[0]) + ',' + str(executionTime(func)) +  'processador Intel i5'\n",
        "for lista2 in listasExercicio2: \n",
        "  string_to_write = 'SHELL,' + str(len(lista2)) + ', ' + str(executionTime(genericShellSort2(lista2.copy(), shellGap(lista2), 1))) + ', INFORMACAO DO PROCESSADOR\\n'\n",
        "  writeFile('/content/saida2.txt', string_to_write)\n",
        "\n",
        "  string_to_write = 'KNUTH,' + str(len(lista2)) + ', ' + str(executionTime(genericShellSort2(lista2.copy(), knuthGap(lista2), 2))) + ', INFORMACAO DO PROCESSADOR\\n'\n",
        "  writeFile('/content/saida2.txt', string_to_write)\n",
        "\n",
        "  string_to_write = 'CIURA,' + str(len(lista2)) + ', ' + str(executionTime(genericShellSort2(lista2.copy(), ciuraGap(lista2), 3))) + ', INFORMACAO DO PROCESSADOR\\n'\n",
        "  writeFile('/content/saida2.txt', string_to_write)\n",
        "\n"
      ]
    },
    {
      "cell_type": "markdown",
      "metadata": {
        "id": "8iYnq4Uz802Z"
      },
      "source": [
        "# New Section"
      ]
    }
  ],
  "metadata": {
    "colab": {
      "gpuType": "T4",
      "include_colab_link": true,
      "provenance": []
    },
    "kernelspec": {
      "display_name": "Python 3",
      "language": "python",
      "name": "python3"
    },
    "language_info": {
      "name": "python",
      "version": "3.11.2"
    },
    "vscode": {
      "interpreter": {
        "hash": "aee8b7b246df8f9039afb4144a1f6fd8d2ca17a180786b69acc140d282b71a49"
      }
    }
  },
  "nbformat": 4,
  "nbformat_minor": 0
}
