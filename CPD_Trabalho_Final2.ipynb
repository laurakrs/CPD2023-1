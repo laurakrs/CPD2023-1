{
  "nbformat": 4,
  "nbformat_minor": 0,
  "metadata": {
    "colab": {
      "provenance": [],
      "include_colab_link": true
    },
    "kernelspec": {
      "name": "python3",
      "display_name": "Python 3"
    },
    "language_info": {
      "name": "python"
    }
  },
  "cells": [
    {
      "cell_type": "markdown",
      "metadata": {
        "id": "view-in-github",
        "colab_type": "text"
      },
      "source": [
        "<a href=\"https://colab.research.google.com/github/laurakrs/CPD2023-1/blob/main/CPD_Trabalho_Final2.ipynb\" target=\"_parent\"><img src=\"https://colab.research.google.com/assets/colab-badge.svg\" alt=\"Open In Colab\"/></a>"
      ]
    },
    {
      "cell_type": "code",
      "execution_count": null,
      "metadata": {
        "id": "UJP8fqhsvXas"
      },
      "outputs": [],
      "source": [
        "# CLASSIFICACAO E PESQUISA DE DADOS - TRABALHO FINAL - FIFA21-PLAYERS\n",
        "\n",
        "# ALUNAS:\n",
        "# Laura Keidann Rodrigues da Silva (00217870)\n",
        "# Raissa Bitencourt Borowski (00326579)"
      ]
    },
    {
      "cell_type": "code",
      "source": [
        "from collections import defaultdict\n",
        "import csv\n",
        "import time"
      ],
      "metadata": {
        "id": "EEmEessMS3_b"
      },
      "execution_count": 1,
      "outputs": []
    },
    {
      "cell_type": "code",
      "source": [
        "# Objetivo do trabalho: implementar estruturas de dados e algoritmos que suportam as seguintes pesquisas sobre os dados:\n",
        "\n",
        "# - Pesquisas sobre os nomes de jogadores\n",
        "# - Pesquisas sobre jogadores revisados por usuarios\n",
        "# - Pesquisas sobre os melhores jogadores de uma determinada posicao\n",
        "# - Pesquisas sobre ‘tags’ de jogadores"
      ],
      "metadata": {
        "id": "7AsX3LXRMleM"
      },
      "execution_count": null,
      "outputs": []
    },
    {
      "cell_type": "code",
      "source": [
        "# 1 - DADOS\n",
        "# Os dados sao compostos dos arquivos players.csv, rating.csv e tags.csv, contendo\n",
        "# respectivamente informaçoes sobre jogadores, avaliações de usuarios e anotacoes em\n",
        "# texto-livre (tags).\n",
        "# PLAYERS.CSV\n",
        "# O arquivo players.csv contem informações de 18.944 jogadores, composto de um id no FIFA, seu nome e uma lista de posiçoes"
      ],
      "metadata": {
        "id": "DMogFaEsIoTq"
      },
      "execution_count": null,
      "outputs": []
    },
    {
      "cell_type": "code",
      "source": [
        "# RATING.CSV\n",
        "# O arquivo rating.csv contem 24,188,078 de avaliaçees (notas entre 1 e 5) de usuarios para\n",
        "# jogadores. Esses dados foram gerados simulando avaliacoes de usuários para cada jogador\n",
        "# disponivel no dataset"
      ],
      "metadata": {
        "id": "WpiPomHsI13n"
      },
      "execution_count": null,
      "outputs": []
    },
    {
      "cell_type": "code",
      "source": [
        "# ARQUIVO DE TESTE PARA RATINGS - MINIRATING.CSV\n",
        "# TambEm disponibilizamos um arquivo com 10,000 avaliacos ao inves das 20 milhoes para\n",
        "# ajudar nos testes (minirating.csv - disponivel para download apenas no Moodle). A leitura\n",
        "# dos dados a partir do CSV pode ser lenta, em especial para o arquivo rating.csv que possui mais de 400MB de dados."
      ],
      "metadata": {
        "id": "_0Rr70DfJJ7U"
      },
      "execution_count": null,
      "outputs": []
    },
    {
      "cell_type": "code",
      "source": [
        "# TAG.CSV\n",
        "# O arquivo tag.csv contem 364,950 anotacoes de texto livre (tags) (ex.: Brazil, FK Specialist,\n",
        "# Speedster, Playmaker, Paris Saint-Germain) para 18,944 jogadores."
      ],
      "metadata": {
        "id": "UdNShsX9I7h2"
      },
      "execution_count": null,
      "outputs": []
    },
    {
      "cell_type": "code",
      "source": [
        "# Classe jogador - player - para juntar as informacoes das 3 tabelas na entidade de cada jogador\n",
        "class Player:\n",
        "    def __init__(self, name, sofifa_id, player_positions):\n",
        "        self.name = name\n",
        "        self.id = sofifa_id\n",
        "        self.player_positions = player_positions.split(', ')  # Transforma a string em lista\n",
        "        self.tags = []\n",
        "        # relativa a rating:\n",
        "        self.count = 0\n",
        "        self.sum = 0\n",
        "        self.globalRating = 0.0\n",
        "\n",
        "    def add_rating(self, rating):\n",
        "        self.count += 1\n",
        "        self.sum += rating\n",
        "        self.globalRating = self.sum / self.count\n",
        "\n",
        "    def add_tag(self, tag):\n",
        "        self.tags.append(tag)"
      ],
      "metadata": {
        "id": "-asj6q4z8xp2"
      },
      "execution_count": 2,
      "outputs": []
    },
    {
      "cell_type": "code",
      "source": [
        "# Classe usuario - user - para juntar as informacoes dos usuarios\n",
        "class User:\n",
        "    def __init__(self, id):\n",
        "        self.id = id\n",
        "        self.ratedPlayers = []\n",
        "        self.ratings = []\n",
        "\n",
        "    def add_playerRating(self, rating):\n",
        "        self.ratings.append(rating)\n",
        "\n",
        "    def add_ratedPlayer(self, a_ratedPlayer):\n",
        "        self.ratedPlayers.append(a_ratedPlayer)"
      ],
      "metadata": {
        "id": "aHCg9JuJW02d"
      },
      "execution_count": 3,
      "outputs": []
    },
    {
      "cell_type": "code",
      "source": [
        "# FUNCAO PARA LER A TABELA DE JOGADORES E INSERIR AS INFORMACOES NA INSTANCIA JOGADOR,\n",
        "# INSERIR JOGADOR NA TABELA HASH\n",
        "# INSERIR JOGADOR NA ARVORE TRIE\n",
        "\n",
        "def readPlayers_csv(file):\n",
        "  global playersList, playersTable, tamanhoPlayersTable\n",
        "\n",
        "  with open(file, newline='') as csvfile:\n",
        "        reader = csv.reader(csvfile) # Le o CSV\n",
        "        next(reader)  # Pular a primeira linha\n",
        "\n",
        "        # percorre os dados\n",
        "        for row in reader:\n",
        "            sofifa_id = int(row[0]) # primeiro elemento da linha\n",
        "            name = row[1] # segundo elemento da linha\n",
        "            player_positions = row[2] # terceiro elemento da linha\n",
        "\n",
        "            a_player = Player(name, sofifa_id, player_positions) # cria um jogador\n",
        "\n",
        "            playersList.append(a_player) # adicona o jogador na lista de todos os jogadores\n",
        "\n",
        "            # Insere jogador na tabela Hash\n",
        "            insereHash(playersTable, a_player.id, a_player, tamanhoPlayersTable)\n",
        "\n",
        "            # Insere jogador na arvore Trie\n",
        "            insertTrie(name, a_player)"
      ],
      "metadata": {
        "id": "IEHh0eq9eR3-"
      },
      "execution_count": 4,
      "outputs": []
    },
    {
      "cell_type": "code",
      "source": [
        "# FUNCAO PARA LER A TABELA DE RATINGS E INSERIR OS VALORES NAS ENTIDADES APROPRIADAS\n",
        "# MAIS OU MENOS\n",
        "# TEM ALGO DE ERRADO AQUI!! !!!!!!!!\n",
        "\n",
        "def readRatings_csv(file):\n",
        "  global lastSofifaId, lastPlayer, playersTable, usersTable, usersList, tamanhoPlayersTable, tamanhoUsersTable\n",
        "\n",
        "  with open(file, newline='') as csvfile:\n",
        "        reader = csv.reader(csvfile) # Le o CSV\n",
        "        next(reader)  # Pular a primeira linha\n",
        "\n",
        "        # percorre os dados\n",
        "        for row in reader:\n",
        "          if len(row) == 3:\n",
        "            user_id = int(row[0]) # primeiro elemento da linha\n",
        "            sofifa_id = int(row[1]) # segundo elemento da linha\n",
        "            rating = float(row[2]) # terceiro elemento da linha\n",
        "\n",
        "            # confere valores recebidos\n",
        "            if sofifa_id == lastSofifaId:\n",
        "              player = lastPlayer\n",
        "            else:\n",
        "            # procura o jogador\n",
        "              a_player = buscaHash(playersTable, sofifa_id, tamanhoPlayersTable)\n",
        "              #if a_player is None: # ISSO AQUI FICOU ESTRANHO, ele tava procunrando umas ids que nao existiam\n",
        "                #print(sofifa_id)\n",
        "              #else:\n",
        "              lastSofifaID = a_player.id\n",
        "              lastPlayer = a_player\n",
        "\n",
        "              # ERRO = nao ta achando jogador\n",
        "              a_player.add_rating(rating)\n",
        "\n",
        "\n",
        "            # Processa dados referentes ao usuario\n",
        "            if user_id in usersList:\n",
        "              # procura na tabela hash de usuarios\n",
        "              user = buscaHash(usersTable, user_id, tamanhoUsersTable)\n",
        "              # de qualquer forma, adiciona as avaliacoes no user\n",
        "              user.add_ratedPlayer(a_player) #adiciona o rated player\n",
        "              user.add_playerRating(rating) #adiciona o rating\n",
        "            else: # se o usuario nao consta na lista ainda\n",
        "              usersList.add(user_id) # adiciona no set\n",
        "              # cria nova instancia\n",
        "              user = User(user_id)\n",
        "              # de qualquer forma, adiciona as avaliacoes no user\n",
        "              user.add_ratedPlayer(a_player) #adiciona o rated player\n",
        "              user.add_playerRating(rating) #adiciona o rating\n",
        "              # adiciona na Hash Table de usuarios\n",
        "              insereHash(usersTable,user_id,user,tamanhoUsersTable)\n",
        "\n",
        "\n"
      ],
      "metadata": {
        "id": "E8i81qB6ekOn"
      },
      "execution_count": 5,
      "outputs": []
    },
    {
      "cell_type": "code",
      "source": [
        "#   test para tentar entender O QUE TA ERRADO\n",
        "# FUNCAO PARA LER A TABELA DE RATINGS E INSERIR OS VALORES NAS ENTIDADES APROPRIADAS\n",
        "# MAIS OU MENOS\n",
        "# TEM ALGO DE ERRADO AQUI!! !!!!!!!!\n",
        "#\n",
        "\n",
        "def readRatings_csv_test(file):\n",
        "  global lastSofifaId, lastPlayer, playersTable, usersTable, usersList, tamanhoPlayersTable, tamanhoUsersTable\n",
        "\n",
        "  with open(file, newline='') as csvfile:\n",
        "        reader = csv.reader(csvfile) # Le o CSV\n",
        "        next(reader)  # Pular a primeira linha\n",
        "\n",
        "        # percorre os dados\n",
        "        for row in reader:\n",
        "          #if len(row) == 3:\n",
        "            user_id = int(row[0]) # primeiro elemento da linha\n",
        "            sofifa_id = int(row[1]) # segundo elemento da linha\n",
        "            rating = float(row[2]) # terceiro elemento da linha\n",
        "\n",
        "            # confere valores recebidos\n",
        "            #if sofifa_id == lastSofifaId:\n",
        "              #player = lastPlayer\n",
        "            #else:\n",
        "            # procura o jogador\n",
        "            a_player = buscaHash(playersTable, sofifa_id, tamanhoPlayersTable)\n",
        "            a_player.add_rating(rating)\n",
        "\n",
        "\n",
        "            # Processa dados referentes ao usuario\n",
        "            if user_id in usersList:\n",
        "              # procura na tabela hash de usuarios\n",
        "              user = buscaHash(usersTable, user_id, tamanhoUsersTable)\n",
        "              # de qualquer forma, adiciona as avaliacoes no user\n",
        "              user.add_ratedPlayer(a_player) #adiciona o rated player\n",
        "              user.add_playerRating(rating) #adiciona o rating\n",
        "            else: # se o usuario nao consta na lista ainda\n",
        "              usersList.add(user_id) # adiciona no set\n",
        "              # cria nova instancia\n",
        "              user = User(user_id)\n",
        "              # de qualquer forma, adiciona as avaliacoes no user\n",
        "              user.add_ratedPlayer(a_player) #adiciona o rated player\n",
        "              user.add_playerRating(rating) #adiciona o rating\n",
        "              # adiciona na Hash Table de usuarios\n",
        "              insereHash(usersTable,user_id,user,tamanhoUsersTable)\n",
        "\n",
        "\n"
      ],
      "metadata": {
        "id": "B-12-95aob72"
      },
      "execution_count": 6,
      "outputs": []
    },
    {
      "cell_type": "code",
      "source": [
        "'39475' in usersList"
      ],
      "metadata": {
        "colab": {
          "base_uri": "https://localhost:8080/"
        },
        "id": "9-5b7McOgr12",
        "outputId": "0886d25b-dbe6-4f44-9a69-1e1cdbf34661"
      },
      "execution_count": null,
      "outputs": [
        {
          "output_type": "execute_result",
          "data": {
            "text/plain": [
              "True"
            ]
          },
          "metadata": {},
          "execution_count": 88
        }
      ]
    },
    {
      "cell_type": "code",
      "source": [
        "# FUNCAO PARA LER AS TAGS\n",
        "\n",
        "def readTags_csv(file):\n",
        "  global lastSofifaId, lastPlayer, playersTable, tamanhoPlayersTable\n",
        "\n",
        "  with open(file, newline='') as csvfile:\n",
        "        reader = csv.reader(csvfile)\n",
        "        next(reader)  # Pular a primeira linha\n",
        "\n",
        "        for row in reader:\n",
        "            sofifa_id = row[1]\n",
        "            tag = row[2]\n",
        "\n",
        "            # confere valores recebidos\n",
        "            if sofifa_id == lastSofifaId:\n",
        "              player = lastPlayer\n",
        "            else:\n",
        "              player = buscaHash(playersTable, int(sofifa_id), tamanhoPlayersTable)\n",
        "              lastSofifaId = sofifa_id\n",
        "              lastPlayer = player\n",
        "\n",
        "            player.add_tag(tag) # adiciona a tag\n",
        "\n"
      ],
      "metadata": {
        "id": "NVsYW-1ziAeQ"
      },
      "execution_count": 7,
      "outputs": []
    },
    {
      "cell_type": "code",
      "source": [
        "# FUNCOES AUXILIARES:\n",
        "\n",
        "# Escreve arquivo\n",
        "def writeFile(arquivo, conteudo):\n",
        "\n",
        "    with open(arquivo, 'a') as arq:\n",
        "        linhas = arq.writelines(str(conteudo))\n",
        "        arq.close()"
      ],
      "metadata": {
        "id": "3TS5W42X6y2V"
      },
      "execution_count": null,
      "outputs": []
    },
    {
      "cell_type": "code",
      "source": [
        "# Leitura de arquivo txt separando itens a cada nova linha\n",
        "def readFile(arquivo):\n",
        "    entradas = []\n",
        "\n",
        "    #abre arquivo\n",
        "    with open(arquivo, 'r') as arq:\n",
        "\n",
        "        #le o arquivo completo e separa as entradas a cada nova linha encontrada\n",
        "        entradas = arq.read().split(\"\\n\")\n",
        "\n",
        "        #fecha arquivo\n",
        "        arq.close()\n",
        "\n",
        "    #retorna um array com todos os arrays de entrada do arquivo\n",
        "    return entradas"
      ],
      "metadata": {
        "id": "1M832qcg615c"
      },
      "execution_count": null,
      "outputs": []
    },
    {
      "cell_type": "code",
      "source": [
        "# TABELA HASH - IMPLEMENTACAO\n",
        "# O tamanho da tabela M e variavel e deve ser informado na construcao\n",
        "# A tabela hash deve armazenar registros compostos de uma chave identificadora e dados satelites associados\n",
        "# Tarefas para implementacao:\n",
        "# Escolha uma funcao de hash para mapear a chave de cada registro para um inteiro entre 0 e M −1;\n",
        "# Implemente o metodo de resolucao de conflitos de enderecamento fechado com listas encadeadas;\n",
        "# Implemente a operacao de insercao de um elemento na tabela hash;\n",
        "# Implemente a operacao de busca de um nome na tabela hash"
      ],
      "metadata": {
        "id": "RPgFWmMTvrcI"
      },
      "execution_count": null,
      "outputs": []
    },
    {
      "cell_type": "code",
      "source": [
        "def funcaoPolinomial(id, tamanho):\n",
        "    p = 53\n",
        "    m = tamanho\n",
        "    power_of_p = 1\n",
        "    hash_key = 0\n",
        "\n",
        "    while id > 0:\n",
        "        hash_key = ((hash_key + (id % 10) * power_of_p) % m)\n",
        "        power_of_p = (power_of_p * p) % m\n",
        "        id //= 10\n",
        "\n",
        "    return int(hash_key)"
      ],
      "metadata": {
        "id": "wu1_4n9cyJcm"
      },
      "execution_count": 8,
      "outputs": []
    },
    {
      "cell_type": "code",
      "source": [
        "# TALVEZ FAZER UMA FUNCAO HASH MAIS SIMPLES\n"
      ],
      "metadata": {
        "id": "hVNcj9AuS_kq"
      },
      "execution_count": null,
      "outputs": []
    },
    {
      "cell_type": "code",
      "source": [
        "# Operacao de Insercao na Tabela Hash(com listas encadeadas)\n",
        "\n",
        "def insereHash(tabela, chave, valor, tamanho):\n",
        "  # calcula a funcao hash\n",
        "  hash_key = funcaoPolinomial(chave, tamanho)\n",
        "\n",
        "  if tabela[hash_key] is None:\n",
        "      tabela[hash_key] = []\n",
        "\n",
        "  # adiciona elemento\n",
        "  tabela[hash_key].append(valor)\n",
        "\n"
      ],
      "metadata": {
        "id": "Kmut-gpNR6py"
      },
      "execution_count": 9,
      "outputs": []
    },
    {
      "cell_type": "code",
      "source": [
        "# Operacao de Busca\n",
        "# A funcao de busca recebe uma tabela hash, uma chave para buscar e o tamanho da tabela hash\n",
        "# A funcao procura o elemento com a chave na tabela hash\n",
        "# Se o elemento for encontrado, retorna o elemento\n",
        "# Caso contrario, retorna -1\n",
        "\n",
        "def buscaHash(tabela, chave, size):\n",
        "    # Calcula hash\n",
        "    i = funcaoPolinomial(chave, size)\n",
        "\n",
        "    # Acha a posicao correta\n",
        "    while tabela[i] is not None:\n",
        "      # percorre os itens daquela posicao da tabela\n",
        "      for item in tabela[i]:\n",
        "        # se encontrar o item com a chave correta\n",
        "        if item.id == chave:\n",
        "          # retorna o resultado\n",
        "          resultado = item\n",
        "          return resultado\n",
        "      # retorna -1 se foi um miss (o elemento nao foi encontrado na lista da sua posicao na tabela hash)\n",
        "      #resultado -1\n",
        "      #return resultado\n",
        "\n",
        "    # retorna -1 se foi um miss (posicao vazia)\n",
        "    #resultado = -1\n",
        "    #return resultado"
      ],
      "metadata": {
        "id": "TbZ_kMPFKB1z"
      },
      "execution_count": 10,
      "outputs": []
    },
    {
      "cell_type": "code",
      "source": [
        "# ARVORE TRIE - IMPLEMENTACAO (inspirada no exemplo de implementacao em C++ disponivel no Moodle da disciplina)\n",
        "\n",
        "# definicao da class TrieNode\n",
        "class TrieNode:\n",
        "    def __init__(self, char):\n",
        "        self.char = char\n",
        "        self.children = [None] * 26\n",
        "        self.isEndOfWord = False\n",
        "        self.player = None\n",
        "\n",
        "# Retorna novo trie node\n",
        "def get_node(char=None):\n",
        "    return TrieNode(char)\n",
        "\n",
        "# Funcao para inserir nova chave na arvore Trie\n",
        "def insertTrie(key, instance):\n",
        "    global root\n",
        "\n",
        "    pCrawl = root # acessa raiz\n",
        "\n",
        "    for char in key:\n",
        "        charInChildren = False # premissa = nao encontrou char\n",
        "\n",
        "        for child in pCrawl.children: # percorre os filhos\n",
        "\n",
        "          if child != None and child.char == char: # verifica se tem um igual\n",
        "            pCrawl = child # seta pCrawl como a child\n",
        "            charInChildren = True # indica que encontrou\n",
        "            break # para de percorrer\n",
        "\n",
        "        if charInChildren == False: # se nao encontrou\n",
        "          newNode = TrieNode(char) # novo no para a letra\n",
        "          pCrawl.children.append(newNode)\n",
        "          pCrawl = newNode # seta pCrawl como novo no\n",
        "\n",
        "    pCrawl.isEndOfWord = True # seta como fim de palavra\n",
        "    pCrawl.player = instance # coloca o jogador no no\n",
        "\n",
        "\n",
        "# Funcao para buscar chave na arvore Trie # NAO USAR\n",
        "def searchTrie(root, key):\n",
        "    pCrawl = root\n",
        "    for char in key:\n",
        "        index = ord(char) - ord('a')\n",
        "        if not pCrawl.children[index]:\n",
        "            return False\n",
        "        pCrawl = pCrawl.children[index]\n",
        "    return pCrawl is not None and pCrawl.isEndOfWord\n",
        "\n",
        "\n",
        "# FUNCAO PARA PROCURAR O PREFIXO NA TRIE\n",
        "\n",
        "def searchPrefix(prefix):\n",
        "  global root\n",
        "\n",
        "  pCrawl = root # comeca pela raiz\n",
        "\n",
        "  if len(root.children) == 0: # nao tem filhos\n",
        "    print('None found')\n",
        "    return None\n",
        "\n",
        "  # se tem filhos\n",
        "  for char in prefix:\n",
        "    found = False\n",
        "\n",
        "    for child in pCrawl.children:\n",
        "      if child is not None:\n",
        "        if child.char == char:\n",
        "            found = True\n",
        "            pCrawl = child\n",
        "            break\n",
        "    if found == False:\n",
        "      print('None found')\n",
        "      return None\n",
        "\n",
        "  return pCrawl\n",
        "\n"
      ],
      "metadata": {
        "id": "7eJXq4TupWSU"
      },
      "execution_count": 11,
      "outputs": []
    },
    {
      "cell_type": "code",
      "source": [
        "# FUNCAO DE BUSCA GERAL\n",
        "\n",
        "def searchInTrie(name):\n",
        "  playersFound = findPlayers(name)\n",
        "\n",
        "  if playersFound == None:\n",
        "    print('None found!!!!')\n",
        "    return\n",
        "  else:\n",
        "    printPlayers(playersFound)"
      ],
      "metadata": {
        "id": "Ab264OWn-cbQ"
      },
      "execution_count": 12,
      "outputs": []
    },
    {
      "cell_type": "code",
      "source": [
        "# FUNCAO PARA JUNTAR TODOS OS JOGADORES ENCONTRADOS COM NOME/PREFIXO\n",
        "\n",
        "def findPlayers(name):\n",
        "  playersList = []\n",
        "\n",
        "  lastNode = searchPrefix(name)\n",
        "\n",
        "  if lastNode == None:\n",
        "    return None\n",
        "  else:\n",
        "    completeList = searchTrieRec(lastNode, playersList) # chama busca recursiva\n",
        "    return completeList\n",
        "\n"
      ],
      "metadata": {
        "id": "cFpxAxui-jW9"
      },
      "execution_count": 13,
      "outputs": []
    },
    {
      "cell_type": "code",
      "source": [
        "# FUNCAO DE BUSCA RECURSIVA\n",
        "\n",
        "def searchTrieRec(node,playersList):\n",
        "  if node is not None:\n",
        "    if node.isEndOfWord == True:\n",
        "      playersList.append(node.player) # junta o jogador\n",
        "    else:\n",
        "      for child in node.children:\n",
        "        searchTrieRec(child,playersList)\n",
        "    return playersList # retorna a lista\n"
      ],
      "metadata": {
        "id": "a1nmRQZY_BR9"
      },
      "execution_count": 14,
      "outputs": []
    },
    {
      "cell_type": "code",
      "source": [
        "# QUICKSORT - para ordenar as top reviews"
      ],
      "metadata": {
        "id": "xAaPVJPzTzSm"
      },
      "execution_count": null,
      "outputs": []
    },
    {
      "cell_type": "code",
      "source": [
        "# PARTICIONAMENTO 1\n",
        "# PARTICIONAMENTO LOMUTO\n",
        "\n",
        "def particionamentoLomuto(lista, esq, dir):\n",
        "\n",
        "    pivo = lista[esq]\n",
        "    indice = esq + 1 #indice do menor\n",
        "\n",
        "    i = esq + 1\n",
        "    while (i <= dir):\n",
        "        # se o elemento atual for menor ou igual ao pivo\n",
        "          if lista[i][1] > pivo[1]:\n",
        "            lista[i], lista[indice] = lista[indice], lista[i]\n",
        "            indice += 1\n",
        "          i += 1\n",
        "\n",
        "    # troca de posicao\n",
        "    lista[esq], lista[indice-1] = lista[indice-1], lista[esq]\n",
        "\n",
        "    return (indice-1)\n",
        "\n",
        "\n"
      ],
      "metadata": {
        "id": "PjREWiJMUKRP"
      },
      "execution_count": 15,
      "outputs": []
    },
    {
      "cell_type": "code",
      "source": [
        "# ELEMENTO ALEATORIO\n",
        "\n",
        "# funcao para selecionar um elemento aleatorio da lista\n",
        "def aleatorio(lista):\n",
        "    from random import randrange\n",
        "    indice = randrange(len(lista))\n",
        "    # retorna o indice do elemento aleatorio\n",
        "    return (indice)"
      ],
      "metadata": {
        "id": "Q9fuMrI_VBPA"
      },
      "execution_count": 16,
      "outputs": []
    },
    {
      "cell_type": "code",
      "source": [
        "# FUNCAO DO QUICKSORT\n",
        "\n",
        "def quicksortOld(lista, esq, dir):\n",
        "\n",
        "    global numRecursoes\n",
        "\n",
        "    # incrementa a cada chamada\n",
        "    numRecursoes += 1\n",
        "\n",
        "    if(dir > esq):\n",
        "        indicePivo = particionamentoLomuto(lista, esq, dir)\n",
        "        # divide a lista no pivo e chama a funcao para a parte da esquerda e da direita\n",
        "        quicksortOld(lista, esq, indicePivo-1)\n",
        "        quicksortOld(lista, indicePivo+1, dir)\n",
        "\n",
        "# TIPO DE PIVO\n",
        "\n",
        "def definePivo(lista):\n",
        "  indicePivo = aleatorio(lista)\n",
        "\n",
        "  # faz o swap\n",
        "  lista[0], lista[indicePivo] = lista[indicePivo], lista[0]\n",
        "\n"
      ],
      "metadata": {
        "id": "b56bVAv7UdQQ"
      },
      "execution_count": null,
      "outputs": []
    },
    {
      "cell_type": "code",
      "source": [
        "# FUNCAO PARA EXECUTAR QUICKSORT\n",
        "def performQuickSort(lista):\n",
        "   # Define pivo\n",
        "  definePivo(lista)\n",
        "  # Chama a quicksort\n",
        "  quicksortOld(lista, 0, (len(lista)-1))"
      ],
      "metadata": {
        "id": "n2UsHvquVKuC"
      },
      "execution_count": 17,
      "outputs": []
    },
    {
      "cell_type": "code",
      "source": [
        "# QUICKSORT COM AS LISTAS\n",
        "def quicksort(instancesList, valuesList):\n",
        "\n",
        "    listToSort = []\n",
        "\n",
        "    i = 0\n",
        "    for player in instancesList:\n",
        "        listToSort.append([player, valuesList[i]])\n",
        "        i += 1\n",
        "\n",
        "    quicksortRecursiva(listToSort, 0, (len(listToSort) - 1))\n",
        "\n",
        "    sortedInstances = []\n",
        "    sortedValues= []\n",
        "\n",
        "    for pair in listToSort:\n",
        "        sortedInstances.append(pair[0])\n",
        "        sortedValues.append(pair[1])\n",
        "\n",
        "    return sortedInstances, sortedValues\n",
        "\n",
        "# Recursao do quicksort\n",
        "def quicksortRecursiva(listToSort, esq, dir):\n",
        "    if dir > esq:\n",
        "        indicePivo = particionamentoLomuto(listToSort, esq, dir)\n",
        "        quicksortRecursiva(listToSort, esq, indicePivo - 1)\n",
        "        quicksortRecursiva(listToSort, indicePivo + 1, dir)\n"
      ],
      "metadata": {
        "id": "a20TChvPXDt5"
      },
      "execution_count": 18,
      "outputs": []
    },
    {
      "cell_type": "code",
      "source": [
        "# FUNCAO PARA IMPRIMIR INFORMACOES DOS JOGADORES\n",
        "\n",
        "def printPlayers(playersList):\n",
        "  for player in playersList:\n",
        "    print('sofifa_id: ' + str(player.id))\n",
        "    print('name: ' + player.name)\n",
        "    print('player postions: ' + str(player.player_positions))\n",
        "    print('rating: ' + str(player.globalRating))\n",
        "    print('count: ' + str(player.count))"
      ],
      "metadata": {
        "id": "7ahWnRDX_6vC"
      },
      "execution_count": 19,
      "outputs": []
    },
    {
      "cell_type": "code",
      "source": [
        "searchInTrie('Lionel')"
      ],
      "metadata": {
        "colab": {
          "base_uri": "https://localhost:8080/"
        },
        "id": "Y_jwqqDMAzcA",
        "outputId": "8695c660-da67-426e-f09a-8fae221856ce"
      },
      "execution_count": null,
      "outputs": [
        {
          "output_type": "stream",
          "name": "stdout",
          "text": [
            "sofifa_id: 158023\n",
            "name: Lionel Andres Messi Cuccittini\n",
            "player postions: ['RW', 'ST', 'CF']\n",
            "rating: 4.256382400869093\n",
            "count: 12887\n",
            "sofifa_id: 201041\n",
            "name: Lionel Jules Carole\n",
            "player postions: ['LWB', 'LB']\n",
            "rating: 2.7442660550458715\n",
            "count: 1744\n",
            "sofifa_id: 223150\n",
            "name: Lionel Mpasi-Nzau\n",
            "player postions: ['GK']\n",
            "rating: 2.516349583828775\n",
            "count: 1682\n"
          ]
        }
      ]
    },
    {
      "cell_type": "code",
      "source": [
        "# ARQUIVOS DE TESTE - Criacao da tabela Hash a partir dos dados dos jogadores - retirado do Lab4 - Tabelas Hash\n",
        "# A implementacao da tabela Hash deve ser testada com um arquivo .CSV contendo descricoes de 18944 nomes de\n",
        "# jogadores de futebol. O arquivo e disponibilizado no Moodle com o nome de players-fifa.csv. A primeira linha do\n",
        "# arquivo contem a descricao das colunas, seguidos dos dados dos jogadores, um por linha\n",
        "# Cada jogador e identificado por uma chave inteira (campo sofifa.id), seguido do nome e de uma lista de\n",
        "# posicoes que o jogador atua"
      ],
      "metadata": {
        "id": "3fHCvVfu11C8"
      },
      "execution_count": null,
      "outputs": []
    },
    {
      "cell_type": "code",
      "source": [
        "# Arquivo minirating.csv om 10,000 avaliações ao invés das 20 milhões para ajudar nos testes\n",
        "minirating = readRatings_csv('/content/minirating.csv', 'rating')\n",
        "#print(minirating)"
      ],
      "metadata": {
        "id": "bTOEbbDxtm9R"
      },
      "execution_count": null,
      "outputs": []
    },
    {
      "cell_type": "code",
      "source": [
        "# TABELA HASH PARA AS AVALIACOES DE CADA JOGADOR:\n",
        "# Guardar em uma TABELA HASH as medias de avaliacoes e o total de avaliacoes para cada jogador."
      ],
      "metadata": {
        "id": "jKoqwG0sKN90"
      },
      "execution_count": null,
      "outputs": []
    },
    {
      "cell_type": "code",
      "source": [
        "# 2. PESQUISAS"
      ],
      "metadata": {
        "id": "8ypKcyN7JeZB"
      },
      "execution_count": null,
      "outputs": []
    },
    {
      "cell_type": "code",
      "source": [
        "# 2.1 Pesquisas sobre os nomes de jogadores\n",
        "# Esta pesquisa tem por objetivo retornar a lista de jogadores cujo nome começa com um texto\n",
        "# que pode ser o prefixo ou texto completo do nome de um jogador. Todos os jogadores que\n",
        "# satisfizerem o texto de consulta devem ser retornados, junto com a lista de posicoes dos\n",
        "# jogadores, avaliacao media e numero de avaliacoes. A sintaxe dessa consulta eh:\n",
        "# player <name or prefix>\n",
        "# A consulta pode ser feita diretamente pelo console, e o resultado também pode ser impresso\n",
        "# no console. Tente deixar o texto a ser impresso compacto.\n",
        "\n",
        "# Exemplo: $ player Fer\n",
        "# Retornar: sofifa_id, name, player_positions, rating, count dos jogadores cujos nomes se enquadram na pesquisa"
      ],
      "metadata": {
        "id": "TMu0lA8jJgzN"
      },
      "execution_count": null,
      "outputs": []
    },
    {
      "cell_type": "code",
      "source": [
        "# exemplo:\n",
        "searchInTrie('Lionel')"
      ],
      "metadata": {
        "id": "094rjSv95XHX"
      },
      "execution_count": null,
      "outputs": []
    },
    {
      "cell_type": "code",
      "source": [
        "searchInTrie('Fer')"
      ],
      "metadata": {
        "id": "cCo0KCkbIXCW",
        "outputId": "97eca5af-a4dd-4443-cee6-2947019edb7e",
        "colab": {
          "base_uri": "https://localhost:8080/"
        }
      },
      "execution_count": null,
      "outputs": [
        {
          "output_type": "stream",
          "name": "stdout",
          "text": [
            "sofifa_id: 135507\n",
            "name: Fernando Luiz Rosa\n",
            "player postions: ['CB', 'CDM']\n",
            "rating: 3.7202436738519213\n",
            "count: 6402\n",
            "sofifa_id: 212618\n",
            "name: Fernando Luis Aristeguieta de Luca\n",
            "player postions: ['ST']\n",
            "rating: 0.0\n",
            "count: 0\n",
            "sofifa_id: 240482\n",
            "name: Fernando Luis Bersano\n",
            "player postions: ['LB']\n",
            "rating: 0.0\n",
            "count: 0\n",
            "sofifa_id: 202642\n",
            "name: Fernando Lucas Martins\n",
            "player postions: ['CDM', 'CM']\n",
            "rating: 0.0\n",
            "count: 0\n",
            "sofifa_id: 178614\n",
            "name: Fernando Lopes dos Santos Varela\n",
            "player postions: ['CB']\n",
            "rating: 0.0\n",
            "count: 0\n",
            "sofifa_id: 184134\n",
            "name: Fernando Francisco Reges\n",
            "player postions: ['CDM', 'CM']\n",
            "rating: 0.0\n",
            "count: 0\n",
            "sofifa_id: 228748\n",
            "name: Fernando Fabian Fernandez Acosta\n",
            "player postions: ['ST']\n",
            "rating: 0.0\n",
            "count: 0\n",
            "sofifa_id: 209960\n",
            "name: Fernando Pacheco Flores\n",
            "player postions: ['GK']\n",
            "rating: 0.0\n",
            "count: 0\n",
            "sofifa_id: 214916\n",
            "name: Fernando Patricio Cordero Fonseca\n",
            "player postions: ['LB']\n",
            "rating: 0.0\n",
            "count: 0\n",
            "sofifa_id: 207707\n",
            "name: Fernando Marcal de Oliveira\n",
            "player postions: ['LB', 'CB']\n",
            "rating: 0.0\n",
            "count: 0\n",
            "sofifa_id: 205288\n",
            "name: Fernando Martinez Rubio\n",
            "player postions: ['GK']\n",
            "rating: 0.0\n",
            "count: 0\n",
            "sofifa_id: 254765\n",
            "name: Fernando Martinez Rojas\n",
            "player postions: ['CM']\n",
            "rating: 0.0\n",
            "count: 0\n",
            "sofifa_id: 178628\n",
            "name: Fernando Martin Forestieri\n",
            "player postions: ['ST', 'CAM', 'LW']\n",
            "rating: 0.0\n",
            "count: 0\n",
            "sofifa_id: 232670\n",
            "name: Fernando Matias Zampedri\n",
            "player postions: ['ST']\n",
            "rating: 0.0\n",
            "count: 0\n",
            "sofifa_id: 238507\n",
            "name: Fernando Manuel Ferreira Fonseca\n",
            "player postions: ['RB']\n",
            "rating: 0.0\n",
            "count: 0\n",
            "sofifa_id: 229488\n",
            "name: Fernando Madrigal Gonzalez\n",
            "player postions: ['CM']\n",
            "rating: 0.0\n",
            "count: 0\n",
            "sofifa_id: 215985\n",
            "name: Fernando Monetti\n",
            "player postions: ['GK']\n",
            "rating: 0.0\n",
            "count: 0\n",
            "sofifa_id: 234391\n",
            "name: Fernando Medeiros da Silva\n",
            "player postions: ['CB', 'CDM']\n",
            "rating: 0.0\n",
            "count: 0\n",
            "sofifa_id: 240289\n",
            "name: Fernando Calero Villa\n",
            "player postions: ['CB']\n",
            "rating: 0.0\n",
            "count: 0\n",
            "sofifa_id: 216052\n",
            "name: Fernando Coniglio\n",
            "player postions: ['ST']\n",
            "rating: 0.0\n",
            "count: 0\n",
            "sofifa_id: 238406\n",
            "name: Fernando Cosciuc\n",
            "player postions: ['CB']\n",
            "rating: 0.0\n",
            "count: 0\n",
            "sofifa_id: 240471\n",
            "name: Fernando Gorriaran Fontes\n",
            "player postions: ['CM', 'CDM']\n",
            "rating: 0.0\n",
            "count: 0\n",
            "sofifa_id: 215243\n",
            "name: Fernando Gaston Elizari Sedano\n",
            "player postions: ['CAM', 'ST']\n",
            "rating: 0.0\n",
            "count: 0\n",
            "sofifa_id: 162131\n",
            "name: Fernando Javier Llorente Torres\n",
            "player postions: ['ST']\n",
            "rating: 0.0\n",
            "count: 0\n",
            "sofifa_id: 233569\n",
            "name: Fernando Javier Saucedo Pereyra\n",
            "player postions: ['CM', 'CDM']\n",
            "rating: 0.0\n",
            "count: 0\n",
            "sofifa_id: 211108\n",
            "name: Fernando Henrique da Conceicao\n",
            "player postions: ['RW', 'LW', 'CF']\n",
            "rating: 0.0\n",
            "count: 0\n",
            "sofifa_id: 181236\n",
            "name: Fernando Henrique Boldrin\n",
            "player postions: ['CAM', 'RM']\n",
            "rating: 0.0\n",
            "count: 0\n",
            "sofifa_id: 186551\n",
            "name: Fernando Navarro Moran\n",
            "player postions: ['RB']\n",
            "rating: 0.0\n",
            "count: 0\n",
            "sofifa_id: 214986\n",
            "name: Fernando Nicolas Meza\n",
            "player postions: ['CB', 'RB']\n",
            "rating: 0.0\n",
            "count: 0\n",
            "sofifa_id: 252590\n",
            "name: Fernando Nino Rodriguez\n",
            "player postions: ['ST']\n",
            "rating: 0.0\n",
            "count: 0\n",
            "sofifa_id: 165517\n",
            "name: Fernando Ruben Gago\n",
            "player postions: ['CDM', 'CM', 'CB']\n",
            "rating: 0.0\n",
            "count: 0\n",
            "sofifa_id: 213444\n",
            "name: Fernando Ruben Gonzalez Pineda\n",
            "player postions: ['CM', 'CDM']\n",
            "rating: 0.0\n",
            "count: 0\n",
            "sofifa_id: 254725\n",
            "name: Fernando Raul Romero Gonzalez\n",
            "player postions: ['ST']\n",
            "rating: 0.0\n",
            "count: 0\n",
            "sofifa_id: 215155\n",
            "name: Fernando Zuqui\n",
            "player postions: ['CM', 'RM']\n",
            "rating: 0.0\n",
            "count: 0\n",
            "sofifa_id: 251127\n",
            "name: Fernando Torrent Guidi\n",
            "player postions: ['RB']\n",
            "rating: 0.0\n",
            "count: 0\n",
            "sofifa_id: 244389\n",
            "name: Fernando Dos Santos Pedro\n",
            "player postions: ['LM', 'ST']\n",
            "rating: 0.0\n",
            "count: 0\n",
            "sofifa_id: 143587\n",
            "name: Fernando Daniel Belluschi\n",
            "player postions: ['CM', 'CAM']\n",
            "rating: 0.0\n",
            "count: 0\n",
            "sofifa_id: 222379\n",
            "name: Fernando David Arce Juarez\n",
            "player postions: ['CDM', 'CM']\n",
            "rating: 0.0\n",
            "count: 0\n",
            "sofifa_id: 230023\n",
            "name: Fernando David Luna\n",
            "player postions: ['CAM', 'LM', 'RM']\n",
            "rating: 0.0\n",
            "count: 0\n",
            "sofifa_id: 215262\n",
            "name: Fernando Andres Marquez\n",
            "player postions: ['ST']\n",
            "rating: 0.0\n",
            "count: 0\n",
            "sofifa_id: 243591\n",
            "name: Fernando Andrade dos Santos\n",
            "player postions: ['LM', 'ST']\n",
            "rating: 0.0\n",
            "count: 0\n",
            "sofifa_id: 194014\n",
            "name: Fernando Alexander Guerrero Vasquez\n",
            "player postions: ['LM', 'RW', 'RM']\n",
            "rating: 0.0\n",
            "count: 0\n",
            "sofifa_id: 215118\n",
            "name: Fernando Alejandro Manriquez Hernandez\n",
            "player postions: ['CM']\n",
            "rating: 0.0\n",
            "count: 0\n",
            "sofifa_id: 255808\n",
            "name: Fernando Agustin Alfaro Bares\n",
            "player postions: ['LM', 'LW']\n",
            "rating: 0.0\n",
            "count: 0\n",
            "sofifa_id: 145996\n",
            "name: Fernando Seoane Antelo\n",
            "player postions: ['CDM', 'CM']\n",
            "rating: 0.0\n",
            "count: 0\n",
            "sofifa_id: 207657\n",
            "name: Fernando Omar Barrientos\n",
            "player postions: ['CM']\n",
            "rating: 0.0\n",
            "count: 0\n",
            "sofifa_id: 239945\n",
            "name: Fernando Beltran Cruz\n",
            "player postions: ['CM', 'CDM']\n",
            "rating: 0.0\n",
            "count: 0\n",
            "sofifa_id: 254754\n",
            "name: Fernando Benitez Aguirre\n",
            "player postions: ['LM']\n",
            "rating: 0.0\n",
            "count: 0\n",
            "sofifa_id: 255803\n",
            "name: Fernando Esekiel Souza Piriz\n",
            "player postions: ['CB']\n",
            "rating: 0.0\n",
            "count: 0\n",
            "sofifa_id: 232136\n",
            "name: Fernand Mayembo\n",
            "player postions: ['CB']\n",
            "rating: 0.0\n",
            "count: 0\n",
            "sofifa_id: 209835\n",
            "name: Fernander Kassai\n",
            "player postions: ['CB']\n",
            "rating: 0.0\n",
            "count: 0\n",
            "sofifa_id: 258882\n",
            "name: Fernan Ferreiroa Lopez\n",
            "player postions: ['CAM', 'CM']\n",
            "rating: 0.0\n",
            "count: 0\n",
            "sofifa_id: 228618\n",
            "name: Ferland Mendy\n",
            "player postions: ['LB']\n",
            "rating: 3.1865248226950356\n",
            "count: 1410\n",
            "sofifa_id: 241461\n",
            "name: Ferran Torres Garcia\n",
            "player postions: ['RM', 'LM', 'CF']\n",
            "rating: 0.0\n",
            "count: 0\n",
            "sofifa_id: 236024\n",
            "name: Ferris N'Goma\n",
            "player postions: ['LM', 'RM', 'CM']\n",
            "rating: 0.0\n",
            "count: 0\n",
            "sofifa_id: 143751\n",
            "name: Ferhat Oztorun\n",
            "player postions: ['LB']\n",
            "rating: 0.0\n",
            "count: 0\n",
            "sofifa_id: 205874\n",
            "name: Ferhat Kaplan\n",
            "player postions: ['GK']\n",
            "rating: 0.0\n",
            "count: 0\n",
            "sofifa_id: 222995\n",
            "name: Ferhat Gorgulu\n",
            "player postions: ['CB']\n",
            "rating: 0.0\n",
            "count: 0\n",
            "sofifa_id: 256977\n",
            "name: Ferhat Saglam\n",
            "player postions: ['RW', 'ST']\n",
            "rating: 0.0\n",
            "count: 0\n",
            "sofifa_id: 205138\n",
            "name: Ferhan Hasani\n",
            "player postions: ['CAM', 'LW']\n",
            "rating: 0.0\n",
            "count: 0\n",
            "sofifa_id: 235152\n",
            "name: Ferdi Erenay Kadoglu\n",
            "player postions: ['CAM', 'RW']\n",
            "rating: 0.0\n",
            "count: 0\n",
            "sofifa_id: 250781\n",
            "name: Ferdinand Oswald\n",
            "player postions: ['GK']\n",
            "rating: 0.0\n",
            "count: 0\n",
            "sofifa_id: 242202\n",
            "name: Ferdy Druijf\n",
            "player postions: ['ST']\n",
            "rating: 0.0\n",
            "count: 0\n",
            "sofifa_id: 255427\n",
            "name: Ferddy Andres Roca Vivancos\n",
            "player postions: ['ST']\n",
            "rating: 0.0\n",
            "count: 0\n"
          ]
        }
      ]
    },
    {
      "cell_type": "code",
      "source": [
        "# Os dados de jogadores nao contem algumas das informacoes a serem retornadas. Por exemplo, deve-se primeiramente guardar em uma TABELA HASH as medias de avaliacoes\n",
        "# e total de avaliacoes para cada jogador. Essas informacoes devem ser calculadas e armazenadas em uma etapa de pre-processamento.\n",
        "# Para responder esta pesquisa, deve-se implementar uma ARVORE TRIE que busca todos os identificadores de\n",
        "# jogadores que correspondem ao nome ou prefixo dado, e com essa lista de identificadores,\n",
        "# buscar na TABELA HASH as informacoes complementares dos jogadores"
      ],
      "metadata": {
        "id": "iAcwwdEFJgrp"
      },
      "execution_count": null,
      "outputs": []
    },
    {
      "cell_type": "code",
      "source": [
        "# TABELA HASH COM A MEDIA DE AVALIACOES E O TOTAL DE AVALIACOES PARA CADA JOGAR"
      ],
      "metadata": {
        "id": "nwilZswS3aKz"
      },
      "execution_count": null,
      "outputs": []
    },
    {
      "cell_type": "code",
      "source": [
        "# ARVORE TRIE COM OS NOMES DOS JOGADORES PARA BUSCAR TODOS OS IDENTIFICADORES DE JOGADORES QUE  CORRESPONDEM AO NOME OU PREFIXO DADO"
      ],
      "metadata": {
        "id": "Os65fk4a3dfL"
      },
      "execution_count": null,
      "outputs": []
    },
    {
      "cell_type": "code",
      "source": [
        "# BUSCAR NA TABELA HASH AS INFORMACOES COMPLEMENTARES DOS JOGADORES"
      ],
      "metadata": {
        "id": "Tme3XxE24vIe"
      },
      "execution_count": null,
      "outputs": []
    },
    {
      "cell_type": "code",
      "source": [
        "# 2.2 Pesquisas sobre jogadores revisados por usuarios\n",
        "# Esta pesquisa deve retornar a lista com no maximo 20 jogadores revisados pelo usuario e para\n",
        "# cada jogador mostrar a nota dada pelo usuario, a media global e a contagem de avaliacoes. A\n",
        "# lista deve ser ordenada pela nota dada pelo usuario de maneira decrescente (maiores notas\n",
        "# primeiro). A sintaxe dessa consulta eh:\n",
        "# user <userID>\n",
        "\n",
        "# Exemplo: $ user 4\n",
        "# Retornar: sofifa_id, name, global_rating, count, rating dos jogadores que o usuario revisou\n",
        "\n",
        "# Os dados de entrada nao possuem diretamente as informacoes de usuarios\n",
        "# prontas para o retorno dessa pesquisa. Estas informacoes estao colocadas no arquivo\n",
        "# rating.csv. Deve-se implementar uma estrutura de dados (livre) para calcular e agregar em\n",
        "# pre-processamento as informações por usuario. Com essa estrutura construida, para responder\n",
        "# essa pesquisa basta consultar as entradas pelo identificador do usuario e retornar a lista de\n",
        "# jogadores que esse usuario revisou e suas informacoes adicionais."
      ],
      "metadata": {
        "id": "YsVXnZnZJ_MN"
      },
      "execution_count": null,
      "outputs": []
    },
    {
      "cell_type": "code",
      "source": [
        "# FUNCAO PARA PROCURAR AS REVIEWS DE UM USUARIO\n",
        "# A funcao recebe um usuario\n",
        "def searchUserReviews(user_id):\n",
        "  global usersTable, tamanhoPlayersTable\n",
        "\n",
        "  selectedUser = buscaHash(usersTable, int(user_id), tamanhoUsersTable)\n",
        "\n",
        "  if selectedUser == None:  # usuario nao encontrado\n",
        "    return None\n",
        "  else:\n",
        "    # seleciona as informacoes do usuario\n",
        "    playersReviewed = selectedUser.ratedPlayers\n",
        "    playersRatings = selectedUser.ratings\n",
        "\n",
        "    sortedPlayersReviewed, sortedPlayersRatings = quicksort(playersReviewed,playersRatings)\n",
        "\n",
        "    top20playersReviewed = []\n",
        "\n",
        "    i = 0\n",
        "    while(len(top20playersReviewed) < 20 and i < len(sortedPlayersReviewed)):\n",
        "      top20playersReviewed.append([sortedPlayersReviewed[i], sortedPlayersRatings[i]])\n",
        "      i += 1\n",
        "\n",
        "    return top20playersReviewed\n"
      ],
      "metadata": {
        "id": "jgOhi3DwN06m"
      },
      "execution_count": 20,
      "outputs": []
    },
    {
      "cell_type": "code",
      "source": [
        "# Funcao geral para pegar os dados encontrados das avaliacoes do usuario\n",
        "\n",
        "def getUserReviews(user):\n",
        "  listOfTopPlayers = searchUserReviews(user)\n",
        "\n",
        "  if listOfTopPlayers == None:\n",
        "    return print ('Nao tem avaliacoes')\n",
        "  else:\n",
        "    printPlayersReviewed(listOfTopPlayers)"
      ],
      "metadata": {
        "id": "XZVHefSNRGeg"
      },
      "execution_count": 21,
      "outputs": []
    },
    {
      "cell_type": "code",
      "source": [
        "# FUNCAO PARA IMPRIMIR OS TOP 20 JOGADORES AVALIADOS POR UM USUARIO\n",
        "def printPlayersReviewed(listOfPlayersReviewed):\n",
        "    #i = 1\n",
        "    for topPlayer, topRating in listOfPlayersReviewed:\n",
        "      print(str(i) + 'sofifa_id: ' + str(topPlayer.id))\n",
        "      print('name: ' + topPlayer.name)\n",
        "      print('global rating: ' + str(topPlayer.globalRating))\n",
        "      print('count: ' + str(topPlayer.count))\n",
        "      print('user rating: ' + str(topRating))\n",
        "      #i += 1"
      ],
      "metadata": {
        "id": "8bM8X1WQQdR8"
      },
      "execution_count": 39,
      "outputs": []
    },
    {
      "cell_type": "code",
      "source": [
        "getUserReviews('4')"
      ],
      "metadata": {
        "colab": {
          "base_uri": "https://localhost:8080/"
        },
        "id": "DQQ-lhs4_gqQ",
        "outputId": "5d20f67b-a275-439b-ff6b-2bb93060ec12"
      },
      "execution_count": 40,
      "outputs": [
        {
          "output_type": "stream",
          "name": "stdout",
          "text": [
            "1sofifa_id: 199206\n",
            "name: Domagoj Vida\n",
            "global rating: 3.5777643438118267\n",
            "count: 9098\n",
            "user rating: 5.0\n",
            "2sofifa_id: 41\n",
            "name: Andres Iniesta Lujan\n",
            "global rating: 3.8667871900826447\n",
            "count: 9680\n",
            "user rating: 5.0\n",
            "3sofifa_id: 185221\n",
            "name: Luiz Gustavo Dias\n",
            "global rating: 3.612475385150006\n",
            "count: 8633\n",
            "user rating: 5.0\n",
            "4sofifa_id: 168542\n",
            "name: David Josue Jimenez Silva\n",
            "global rating: 3.988069289893312\n",
            "count: 8717\n",
            "user rating: 4.5\n",
            "5sofifa_id: 210513\n",
            "name: Juan Fernando Quintero Paniagua\n",
            "global rating: 3.307441607821836\n",
            "count: 3682\n",
            "user rating: 4.5\n",
            "6sofifa_id: 208830\n",
            "name: Jamie Vardy\n",
            "global rating: 3.7696904247660186\n",
            "count: 6945\n",
            "user rating: 4.5\n",
            "7sofifa_id: 124375\n",
            "name: Burak Ylmaz\n",
            "global rating: 3.268793852322085\n",
            "count: 2993\n",
            "user rating: 4.0\n",
            "8sofifa_id: 232432\n",
            "name: Luka Jovic\n",
            "global rating: 3.0877497827975673\n",
            "count: 1151\n",
            "user rating: 4.0\n",
            "9sofifa_id: 201995\n",
            "name: Felipe Anderson Pereira Gomes\n",
            "global rating: 3.6659735349716445\n",
            "count: 5290\n",
            "user rating: 4.0\n",
            "10sofifa_id: 198658\n",
            "name: Fredrik Midtsjo\n",
            "global rating: 3.2621480910142693\n",
            "count: 5186\n",
            "user rating: 4.0\n",
            "11sofifa_id: 172871\n",
            "name: Jan Bert Lieve Vertonghen\n",
            "global rating: 3.7084517045454546\n",
            "count: 7040\n",
            "user rating: 3.5\n",
            "12sofifa_id: 183899\n",
            "name: Pablo Daniel Piatti\n",
            "global rating: 3.2623752291709107\n",
            "count: 4909\n",
            "user rating: 3.5\n",
            "13sofifa_id: 230201\n",
            "name: Maikel Renan Catarino Fagundes\n",
            "global rating: 3.003807106598985\n",
            "count: 788\n",
            "user rating: 3.5\n",
            "14sofifa_id: 183900\n",
            "name: Diego Perotti\n",
            "global rating: 3.625335511728323\n",
            "count: 8569\n",
            "user rating: 3.5\n",
            "15sofifa_id: 189560\n",
            "name: Vicente Iborra de la Fuente\n",
            "global rating: 3.302248339294839\n",
            "count: 3914\n",
            "user rating: 3.5\n",
            "16sofifa_id: 199715\n",
            "name: Victor Machin Perez\n",
            "global rating: 3.2736368184092046\n",
            "count: 3998\n",
            "user rating: 3.5\n",
            "17sofifa_id: 211256\n",
            "name: Nicolas Alejandro Tagliafico\n",
            "global rating: 3.7307855626326965\n",
            "count: 7065\n",
            "user rating: 3.0\n",
            "18sofifa_id: 189881\n",
            "name: Chris Smalling\n",
            "global rating: 3.622363614940497\n",
            "count: 8487\n",
            "user rating: 3.0\n",
            "19sofifa_id: 190544\n",
            "name: Adem Ljajic\n",
            "global rating: 3.3569450853714815\n",
            "count: 2167\n",
            "user rating: 3.0\n",
            "20sofifa_id: 202857\n",
            "name: Karim Bellarabi\n",
            "global rating: 3.661700106850291\n",
            "count: 8423\n",
            "user rating: 3.0\n"
          ]
        }
      ]
    },
    {
      "cell_type": "code",
      "source": [
        "# PESQUISAR REVIEWS"
      ],
      "metadata": {
        "id": "LJzUUGEZGHRz"
      },
      "execution_count": null,
      "outputs": []
    },
    {
      "cell_type": "code",
      "source": [
        "# 2.3 Pesquisas sobre os melhores jogadores de uma determinada posicao\n",
        "# Retornar a lista de jogadores com melhores notas de uma dada posicao\n",
        "# Para evitar que um jogador seja retornando com uma boa media mas com poucas\n",
        "# avaliacoes, esta consulta somente deve retornar os melhores jogadores com NO MINIMO 1000\n",
        "# avaliacoes. Para gerenciar o numero de jogadores a serem retornados, a consulta deve\n",
        "# receber como parametro um numero N que corresponde ao numero maximo de jogadores a\n",
        "# serem retornados. O resultado da consulta deve estar ordenado da maior para a menor\n",
        "# avaliaçao.\n",
        "# Sintaxe da consulta: top<N> ‘<position>’\n",
        "# Exemplo: $ top10 'ST''\n",
        "# Retornar: sofifa_id, name, player_position, rating, count"
      ],
      "metadata": {
        "id": "6Y8hntMDNQLH"
      },
      "execution_count": null,
      "outputs": []
    },
    {
      "cell_type": "code",
      "source": [
        "def top_players_by_position(table_players, position, N):\n",
        "    position = position.upper()\n",
        "    result = []\n",
        "\n",
        "    # Percorre a tabela de jogadores\n",
        "    for i in range(len(table_players)):\n",
        "        # Verifica se o jogador está na posição desejada e possui pelo menos 1000 avaliações\n",
        "        player = table_players[i]\n",
        "        if player and position in player[\"player_positions\"] and player[\"count\"] >= 1000:\n",
        "            result.append(player)\n",
        "\n",
        "    # Ordena a lista de jogadores pelo rating em ordem decrescente\n",
        "    result.sort(key=lambda x: x[\"globalRating\"], reverse=True)\n",
        "\n",
        "    # Retorna os N melhores jogadores\n",
        "    return result[:N]\n"
      ],
      "metadata": {
        "id": "804NV8pDUN94"
      },
      "execution_count": null,
      "outputs": []
    },
    {
      "cell_type": "code",
      "source": [
        "# Consulta os 10 melhores atacantes (ST) com pelo menos 1000 avaliações\n",
        "top_players = top_players_by_position(table_players, 'ST', 10)\n",
        "\n",
        "# Exibe os resultados\n",
        "for player in top_players:\n",
        "    print(player[\"sofifa_id\"], player[\"name\"], player[\"player_positions\"], player[\"globalRating\"], player[\"count\"])"
      ],
      "metadata": {
        "id": "wG0cd2seUR0b",
        "colab": {
          "base_uri": "https://localhost:8080/",
          "height": 246
        },
        "outputId": "d60940c9-398a-4ebf-83c4-3b509fde330a"
      },
      "execution_count": null,
      "outputs": [
        {
          "output_type": "error",
          "ename": "NameError",
          "evalue": "ignored",
          "traceback": [
            "\u001b[0;31m---------------------------------------------------------------------------\u001b[0m",
            "\u001b[0;31mNameError\u001b[0m                                 Traceback (most recent call last)",
            "\u001b[0;32m<ipython-input-26-3470c69c5693>\u001b[0m in \u001b[0;36m<cell line: 2>\u001b[0;34m()\u001b[0m\n\u001b[1;32m      1\u001b[0m \u001b[0;31m# Consulta os 10 melhores atacantes (ST) com pelo menos 1000 avaliações\u001b[0m\u001b[0;34m\u001b[0m\u001b[0;34m\u001b[0m\u001b[0m\n\u001b[0;32m----> 2\u001b[0;31m \u001b[0mtop_players\u001b[0m \u001b[0;34m=\u001b[0m \u001b[0mtop_players_by_position\u001b[0m\u001b[0;34m(\u001b[0m\u001b[0mtable_players\u001b[0m\u001b[0;34m,\u001b[0m \u001b[0;34m'ST'\u001b[0m\u001b[0;34m,\u001b[0m \u001b[0;36m10\u001b[0m\u001b[0;34m)\u001b[0m\u001b[0;34m\u001b[0m\u001b[0;34m\u001b[0m\u001b[0m\n\u001b[0m\u001b[1;32m      3\u001b[0m \u001b[0;34m\u001b[0m\u001b[0m\n\u001b[1;32m      4\u001b[0m \u001b[0;31m# Exibe os resultados\u001b[0m\u001b[0;34m\u001b[0m\u001b[0;34m\u001b[0m\u001b[0m\n\u001b[1;32m      5\u001b[0m \u001b[0;32mfor\u001b[0m \u001b[0mplayer\u001b[0m \u001b[0;32min\u001b[0m \u001b[0mtop_players\u001b[0m\u001b[0;34m:\u001b[0m\u001b[0;34m\u001b[0m\u001b[0;34m\u001b[0m\u001b[0m\n",
            "\u001b[0;31mNameError\u001b[0m: name 'table_players' is not defined"
          ]
        }
      ]
    },
    {
      "cell_type": "code",
      "source": [
        "# 2.4 Pesquisas sobre 'tags' de jogadores\n",
        "# Explorar a lista de tags adicionadas por cada usuario em cada revisao.\n",
        "# Para uma lista de tags dada como entrada, a pesquisa deve retornar a lista de\n",
        "# jogadores que estao associados a intersecao de um conjunto de tags.\n",
        "# Sintaxe da consulta: tags <list of tags>\n",
        "# Exemplo: $ tags 'Brazil''Dribbler''\n",
        "# Retornar: sofifa_id, name, player_position, rating, count, de todos os jogadores que apresentam tanto a tag '’Brazil\" como\n",
        "# a tag \"Dribbler\".\n",
        "\n",
        "# Estas informações nao estao diretamente nos arquivos de dados. Portanto, deve-se projetar\n",
        "# uma estrutura de dados para responder essa pesquisa. Como as tags podem ser termos com\n",
        "# espaco (ex.: Solid Player, French Ligue 1, Manchester United), a tag passada na consulta deve\n",
        "# ser escrita entre apostrofes."
      ],
      "metadata": {
        "id": "IYmNbgxYNSc8"
      },
      "execution_count": null,
      "outputs": []
    },
    {
      "cell_type": "code",
      "source": [
        "def build_tags_index(table_players):\n",
        "    tags_index = {}\n",
        "\n",
        "    # Percorre a tabela de jogadores para construir o índice de tags\n",
        "    for i in range(len(table_players)):\n",
        "        player = table_players[i]\n",
        "        if player:\n",
        "            player_id = player[\"sofifa_id\"]\n",
        "            player_tags = player[\"tags\"]\n",
        "\n",
        "            # Adiciona as tags do jogador ao índice\n",
        "            for tag in player_tags:\n",
        "                if tag not in tags_index:\n",
        "                    tags_index[tag] = set()\n",
        "                tags_index[tag].add(player_id)\n",
        "\n",
        "    return tags_index\n",
        "\n",
        "\n",
        "def search_by_tags(tags_index, tags):\n",
        "    tags = set(tags)\n",
        "    result = set(tags_index.get(tags.pop(), set()))\n",
        "\n",
        "    # Realiza a interseção com as demais tags\n",
        "    for tag in tags:\n",
        "        result.intersection_update(tags_index.get(tag, set()))\n",
        "\n",
        "    # Obtém os dados dos jogadores resultantes\n",
        "    players = [player for player in players_info if player[\"sofifa_id\"] in result]\n",
        "\n",
        "    # Ordena a lista de jogadores pelo rating em ordem decrescente\n",
        "    players.sort(key=lambda x: x[\"globalRating\"], reverse=True)\n",
        "\n",
        "    return players\n",
        "\n",
        "\n",
        "# Uso da função\n",
        "# Primeiro, construímos o índice de tags\n",
        "tags_index = build_tags_index(table_players)\n",
        "\n",
        "# Em seguida, pesquisamos os jogadores que possuem as tags 'Brazil' e 'Dribbler'\n",
        "tags_to_search = ['Brazil', 'Dribbler']\n",
        "result_players = search_by_tags(tags_index, tags_to_search)\n",
        "\n",
        "# Exibindo os resultados\n",
        "for player in result_players:\n",
        "    print(player[\"sofifa_id\"], player[\"name\"], player[\"player_positions\"], player[\"globalRating\"], player[\"count\"])\n"
      ],
      "metadata": {
        "id": "vcC6kyb1UQdi"
      },
      "execution_count": null,
      "outputs": []
    },
    {
      "cell_type": "code",
      "source": [
        "# 3 IMPLEMENTACAO\n",
        "# Os usuarios devem construir uma aplicacao que funciona em duas fases.\n",
        "\n",
        "# FASE 1 - CONSTRUCAO E INICIALIZACAO\n",
        "# A fase 1 corresponde a construcao e inicializacao das estruturas de dados necessarias para suportar as consultas.\n",
        "# Ao executar a fase de construcao, esta não deve demorar mais de 3 minutos. Quem conseguir\n",
        "# fazer esta etapa em menos de 1 minuto ganha um bonus de 10%."
      ],
      "metadata": {
        "id": "pupAP0SoUvc6"
      },
      "execution_count": null,
      "outputs": []
    },
    {
      "cell_type": "code",
      "source": [
        "# MAIN - FASE 1 - CONSTRUCAO E INICIALIZACAO\n",
        "\n",
        "tamanhoPlayersTable = 10000 # tamanho da tabela Hash de jogadores\n",
        "tamanhoUsersTable = 15000\n",
        "\n",
        "# INICIA O CRONOMETRO\n",
        "startTime = time.perf_counter() # contador do tempo\n",
        "\n",
        "# CRIACAO DA TABELA HASH PARA OS DADOS DOS JOGADORES\n",
        "# cria a tabela vazia\n",
        "playersTable = [None] * tamanhoPlayersTable\n",
        "# Cria tabela de usuarios\n",
        "usersTable = [None] * tamanhoUsersTable\n",
        "\n",
        "# AROVRE TRIE\n",
        "root = TrieNode('*')\n",
        "\n",
        "# Inicializacao de variaveis\n",
        "lastPlayer = None\n",
        "lastSofifaId = ''\n",
        "\n",
        "\n",
        "playersList = [] # todos os jogadores\n",
        "topPlayers = [] # melhores jogadores com NO MINIMO 1000\n",
        "topPlayersRatings = [] # avaliacoes dos melhores jogadores com NO MINIMO 1000\n",
        "usersList = set() # usuarios\n",
        "\n",
        "# CHAMADA DE FUNCOES PARA LER TABELAS E INSERIR NAS ESTRUTURAS\n",
        "\n",
        "#  Chamadas de leituras para teste - pre-processamento\n",
        "# Arquivo players.csv\n",
        "# Le players.csv, cria instancia de Player, insere players na tabela hash e na arvore trie, adiciona player na lista\n",
        "readPlayers_csv('/content/players.csv')\n",
        "\n",
        "# Arquivo rating.csv\n",
        "# Le rating.csv, vincula rating ao player em questao, atualiza ratings do player, cria instancia de user, adiciona user na Hash Table de users, adiciona user na lista de users\n",
        "readRatings_csv('/content/rating.csv') # MAIS OU MENOS\n",
        "\n",
        "# Arquivo tags.csv\n",
        "# Le tags.csv, vincula tags ao jogador em questao\n",
        "readTags_csv('/content/tags.csv')\n",
        "\n",
        "\n",
        "\n",
        "# INTERROMPE O CRONOMETRO\n",
        "endTime = time.perf_counter()\n",
        "total_time = endTime - startTime\n",
        "\n",
        "print(f'\\nTempo de execucao da Fase 1 - Construcao e Inicializacao: {total_time:.2f} segundos')"
      ],
      "metadata": {
        "colab": {
          "base_uri": "https://localhost:8080/"
        },
        "id": "qDa88qOrZYE7",
        "outputId": "66065f13-42d1-4e03-d894-87e4cd0632e2"
      },
      "execution_count": 29,
      "outputs": [
        {
          "output_type": "stream",
          "name": "stdout",
          "text": [
            "\n",
            "Tempo de execucao da Fase 1 - Construcao e Inicializacao: 28.15 segundos\n"
          ]
        }
      ]
    },
    {
      "cell_type": "code",
      "source": [
        "buscaHash(usersTable, 4, tamanhoUsersTable).ratedPlayers"
      ],
      "metadata": {
        "id": "e9edQOtXiPjt",
        "outputId": "86c47ba1-83b2-4f8d-9dd3-81a64082a1b2",
        "colab": {
          "base_uri": "https://localhost:8080/"
        }
      },
      "execution_count": 30,
      "outputs": [
        {
          "output_type": "execute_result",
          "data": {
            "text/plain": [
              "[<__main__.Player at 0x7a21702f79a0>,\n",
              " <__main__.Player at 0x7a217021e6e0>,\n",
              " <__main__.Player at 0x7a21702c83a0>,\n",
              " <__main__.Player at 0x7a2171c297b0>,\n",
              " <__main__.Player at 0x7a2142b5eb60>,\n",
              " <__main__.Player at 0x7a2137b972e0>,\n",
              " <__main__.Player at 0x7a213726ca00>,\n",
              " <__main__.Player at 0x7a21372ab520>,\n",
              " <__main__.Player at 0x7a21372bef20>,\n",
              " <__main__.Player at 0x7a21372da9e0>,\n",
              " <__main__.Player at 0x7a2138c9fbb0>,\n",
              " <__main__.Player at 0x7a2138cd5150>,\n",
              " <__main__.Player at 0x7a2138ce0490>,\n",
              " <__main__.Player at 0x7a2138cf0b50>,\n",
              " <__main__.Player at 0x7a2138c0a980>,\n",
              " <__main__.Player at 0x7a2138c221d0>,\n",
              " <__main__.Player at 0x7a2138c27c10>,\n",
              " <__main__.Player at 0x7a217025f0a0>,\n",
              " <__main__.Player at 0x7a2170195a50>,\n",
              " <__main__.Player at 0x7a217023d630>,\n",
              " <__main__.Player at 0x7a217023dff0>,\n",
              " <__main__.Player at 0x7a21701d2bf0>,\n",
              " <__main__.Player at 0x7a21702cf340>,\n",
              " <__main__.Player at 0x7a2170310550>,\n",
              " <__main__.Player at 0x7a21702bac50>,\n",
              " <__main__.Player at 0x7a21700a2f20>,\n",
              " <__main__.Player at 0x7a2170121cf0>,\n",
              " <__main__.Player at 0x7a21701222f0>]"
            ]
          },
          "metadata": {},
          "execution_count": 30
        }
      ]
    },
    {
      "cell_type": "code",
      "source": [
        "user4 = buscaHash(usersTable, 4, tamanhoUsersTable)"
      ],
      "metadata": {
        "id": "TWqMWK1PfU7R"
      },
      "execution_count": 31,
      "outputs": []
    },
    {
      "cell_type": "code",
      "source": [
        "buscaHash(playersTable,176733,tamanhoPlayersTable).count"
      ],
      "metadata": {
        "colab": {
          "base_uri": "https://localhost:8080/"
        },
        "id": "oYLoSPKApNs1",
        "outputId": "50ba11e4-1f9c-4bd0-81be-549a26055d84"
      },
      "execution_count": null,
      "outputs": [
        {
          "output_type": "execute_result",
          "data": {
            "text/plain": [
              "0"
            ]
          },
          "metadata": {},
          "execution_count": 130
        }
      ]
    },
    {
      "cell_type": "code",
      "source": [
        "getUserReviews('4')"
      ],
      "metadata": {
        "colab": {
          "base_uri": "https://localhost:8080/"
        },
        "id": "lUtXVplqhXqF",
        "outputId": "f48a8ef8-349f-49cb-ba0f-543a3429df3f"
      },
      "execution_count": 32,
      "outputs": [
        {
          "output_type": "stream",
          "name": "stdout",
          "text": [
            "sofifa_id: 199206\n",
            "name: Domagoj Vida\n",
            "global rating: 3.5777643438118267\n",
            "count: 9098\n",
            "user rating: 5.0\n",
            "sofifa_id: 41\n",
            "name: Andres Iniesta Lujan\n",
            "global rating: 3.8667871900826447\n",
            "count: 9680\n",
            "user rating: 5.0\n",
            "sofifa_id: 185221\n",
            "name: Luiz Gustavo Dias\n",
            "global rating: 3.612475385150006\n",
            "count: 8633\n",
            "user rating: 5.0\n",
            "sofifa_id: 168542\n",
            "name: David Josue Jimenez Silva\n",
            "global rating: 3.988069289893312\n",
            "count: 8717\n",
            "user rating: 4.5\n",
            "sofifa_id: 210513\n",
            "name: Juan Fernando Quintero Paniagua\n",
            "global rating: 3.307441607821836\n",
            "count: 3682\n",
            "user rating: 4.5\n",
            "sofifa_id: 208830\n",
            "name: Jamie Vardy\n",
            "global rating: 3.7696904247660186\n",
            "count: 6945\n",
            "user rating: 4.5\n",
            "sofifa_id: 124375\n",
            "name: Burak Ylmaz\n",
            "global rating: 3.268793852322085\n",
            "count: 2993\n",
            "user rating: 4.0\n",
            "sofifa_id: 232432\n",
            "name: Luka Jovic\n",
            "global rating: 3.0877497827975673\n",
            "count: 1151\n",
            "user rating: 4.0\n",
            "sofifa_id: 201995\n",
            "name: Felipe Anderson Pereira Gomes\n",
            "global rating: 3.6659735349716445\n",
            "count: 5290\n",
            "user rating: 4.0\n",
            "sofifa_id: 198658\n",
            "name: Fredrik Midtsjo\n",
            "global rating: 3.2621480910142693\n",
            "count: 5186\n",
            "user rating: 4.0\n",
            "sofifa_id: 172871\n",
            "name: Jan Bert Lieve Vertonghen\n",
            "global rating: 3.7084517045454546\n",
            "count: 7040\n",
            "user rating: 3.5\n",
            "sofifa_id: 183899\n",
            "name: Pablo Daniel Piatti\n",
            "global rating: 3.2623752291709107\n",
            "count: 4909\n",
            "user rating: 3.5\n",
            "sofifa_id: 230201\n",
            "name: Maikel Renan Catarino Fagundes\n",
            "global rating: 3.003807106598985\n",
            "count: 788\n",
            "user rating: 3.5\n",
            "sofifa_id: 183900\n",
            "name: Diego Perotti\n",
            "global rating: 3.625335511728323\n",
            "count: 8569\n",
            "user rating: 3.5\n",
            "sofifa_id: 189560\n",
            "name: Vicente Iborra de la Fuente\n",
            "global rating: 3.302248339294839\n",
            "count: 3914\n",
            "user rating: 3.5\n",
            "sofifa_id: 199715\n",
            "name: Victor Machin Perez\n",
            "global rating: 3.2736368184092046\n",
            "count: 3998\n",
            "user rating: 3.5\n",
            "sofifa_id: 211256\n",
            "name: Nicolas Alejandro Tagliafico\n",
            "global rating: 3.7307855626326965\n",
            "count: 7065\n",
            "user rating: 3.0\n",
            "sofifa_id: 189881\n",
            "name: Chris Smalling\n",
            "global rating: 3.622363614940497\n",
            "count: 8487\n",
            "user rating: 3.0\n",
            "sofifa_id: 190544\n",
            "name: Adem Ljajic\n",
            "global rating: 3.3569450853714815\n",
            "count: 2167\n",
            "user rating: 3.0\n",
            "sofifa_id: 202857\n",
            "name: Karim Bellarabi\n",
            "global rating: 3.661700106850291\n",
            "count: 8423\n",
            "user rating: 3.0\n"
          ]
        }
      ]
    },
    {
      "cell_type": "code",
      "source": [
        "for player in user4.ratedPlayers:\n",
        "  print(player.name)"
      ],
      "metadata": {
        "colab": {
          "base_uri": "https://localhost:8080/"
        },
        "id": "UIvgCj59UPOC",
        "outputId": "30cd0e75-60b2-4892-da55-3166285f9512"
      },
      "execution_count": null,
      "outputs": [
        {
          "output_type": "stream",
          "name": "stdout",
          "text": [
            "David Josue Jimenez Silva\n",
            "Jamie Vardy\n",
            "Diego Roberto Godin Leal\n",
            "Nicolas Alejandro Tagliafico\n"
          ]
        }
      ]
    },
    {
      "cell_type": "code",
      "source": [
        "funcaoPolinomial(100,tamanhoPlayersTable)"
      ],
      "metadata": {
        "id": "xHwih0ZrUPI5",
        "colab": {
          "base_uri": "https://localhost:8080/"
        },
        "outputId": "6623a442-ab91-4b41-b5b3-dd107856571e"
      },
      "execution_count": null,
      "outputs": [
        {
          "output_type": "execute_result",
          "data": {
            "text/plain": [
              "2809"
            ]
          },
          "metadata": {},
          "execution_count": 112
        }
      ]
    },
    {
      "cell_type": "code",
      "source": [
        "funcaoPolinomial(2,tamanhoUsersTable)"
      ],
      "metadata": {
        "colab": {
          "base_uri": "https://localhost:8080/"
        },
        "id": "o8X1jgQ9TWDo",
        "outputId": "7a73f59c-40eb-40af-af1a-d3cc33329e72"
      },
      "execution_count": null,
      "outputs": [
        {
          "output_type": "execute_result",
          "data": {
            "text/plain": [
              "2"
            ]
          },
          "metadata": {},
          "execution_count": 113
        }
      ]
    },
    {
      "cell_type": "code",
      "source": [
        "for player in usersTable[4][0].ratedPlayers:\n",
        "  print(player.name)"
      ],
      "metadata": {
        "colab": {
          "base_uri": "https://localhost:8080/"
        },
        "id": "c_p6TgyKTcCB",
        "outputId": "f4aee59a-a534-4c52-fca2-0e5e566e3fe2"
      },
      "execution_count": null,
      "outputs": [
        {
          "output_type": "stream",
          "name": "stdout",
          "text": [
            "Lionel Andres Messi Cuccittini\n",
            "Neymar da Silva Santos Junior\n",
            "Sergio Ramos Garcia\n",
            "Karim Benzema\n",
            "Kalidou Koulibaly\n",
            "Sergio Busquets i Burgos\n"
          ]
        }
      ]
    },
    {
      "cell_type": "code",
      "source": [
        "# Testes:"
      ],
      "metadata": {
        "id": "XDrNcpqfTe3N"
      },
      "execution_count": null,
      "outputs": []
    },
    {
      "cell_type": "code",
      "source": [
        "funcaoPolinomial(158023, tamanhoPlayersTable)"
      ],
      "metadata": {
        "colab": {
          "base_uri": "https://localhost:8080/"
        },
        "id": "cvJtiDyFXhjg",
        "outputId": "ebf01db8-e38b-40ad-e8e0-9fed92f733e6"
      },
      "execution_count": null,
      "outputs": [
        {
          "output_type": "execute_result",
          "data": {
            "text/plain": [
              "9023"
            ]
          },
          "metadata": {},
          "execution_count": 115
        }
      ]
    },
    {
      "cell_type": "code",
      "source": [
        "print(playersTable[9023][0].name)\n",
        "print(playersTable[9023][0].tags)\n",
        "playersTable[9023][0].globalRating\n"
      ],
      "metadata": {
        "colab": {
          "base_uri": "https://localhost:8080/"
        },
        "id": "sXQWWSmMX1Ch",
        "outputId": "2200f07e-5a16-4eda-943b-ad99e1b96c6b"
      },
      "execution_count": null,
      "outputs": [
        {
          "output_type": "stream",
          "name": "stdout",
          "text": [
            "Lionel Andres Messi Cuccittini\n",
            "['Clinical Finisher', 'Complete Forward', 'Dribbler', 'Distance Shooter', 'FK Specialist', 'Finesse Shot', 'Team Player', 'Speed Dribbler', 'One Club Player', 'Long Shot Taker', 'Argentina', 'FC Barcelona', 'Spain Primera Division', 'Acrobat', 'Clinical Finisher', 'Distance Shooter', 'Complete Forward', 'Dribbler', 'Outside Foot Shot', 'Playmaker', 'Finesse Shot', 'Chip Shot', 'Long Shot Taker', 'Argentina', 'FC Barcelona', 'Spain Primera Division', 'Complete Forward', 'Dribbler', 'Clinical Finisher', 'FK Specialist', 'Distance Shooter', 'Speed Dribbler', 'Finesse Shot', 'Chip Shot', 'Playmaker', 'Team Player', 'Argentina', 'FC Barcelona', 'Spain Primera Division', 'Distance Shooter', 'FK Specialist', 'Dribbler', 'Complete Forward', 'Acrobat', 'Playmaker', 'Finesse Shot', 'Long Shot Taker', 'Team Player', 'Speed Dribbler', 'Argentina', 'FC Barcelona', 'Spain Primera Division', 'Clinical Finisher', 'Complete Forward', 'Dribbler', 'Acrobat', 'Distance Shooter', 'One Club Player', 'Long Shot Taker', 'Chip Shot', 'Team Player', 'Finesse Shot', 'Argentina', 'FC Barcelona', 'Spain Primera Division']\n"
          ]
        },
        {
          "output_type": "execute_result",
          "data": {
            "text/plain": [
              "4.256382400869093"
            ]
          },
          "metadata": {},
          "execution_count": 116
        }
      ]
    },
    {
      "cell_type": "code",
      "source": [
        "buscaHash(playersTable,2,tamanhoPlayersTable)"
      ],
      "metadata": {
        "id": "V76gae9sJWPB"
      },
      "execution_count": null,
      "outputs": []
    },
    {
      "cell_type": "code",
      "source": [
        "buscaHash(usersTable,7,tamanhoUsersTable).ratedPlayers"
      ],
      "metadata": {
        "colab": {
          "base_uri": "https://localhost:8080/"
        },
        "id": "u9evz6shDoVx",
        "outputId": "18b37446-c07b-423f-cca4-fddcd30f29aa"
      },
      "execution_count": null,
      "outputs": [
        {
          "output_type": "execute_result",
          "data": {
            "text/plain": [
              "[<__main__.Player at 0x7db13bfe8100>,\n",
              " <__main__.Player at 0x7db13be0e9b0>,\n",
              " <__main__.Player at 0x7db13be2b670>,\n",
              " <__main__.Player at 0x7db13be9b010>,\n",
              " <__main__.Player at 0x7db13bec6050>,\n",
              " <__main__.Player at 0x7db13bef41c0>,\n",
              " <__main__.Player at 0x7db13bd2bb50>]"
            ]
          },
          "metadata": {},
          "execution_count": 53
        }
      ]
    },
    {
      "cell_type": "code",
      "source": [
        "getUserReviews(4)"
      ],
      "metadata": {
        "colab": {
          "base_uri": "https://localhost:8080/"
        },
        "id": "are_0RWETeIy",
        "outputId": "9684ec17-ef9a-40b7-ceeb-200b327ac0d7"
      },
      "execution_count": null,
      "outputs": [
        {
          "output_type": "stream",
          "name": "stdout",
          "text": [
            "sofifa_id: 168542\n",
            "name: David Josue Jimenez Silva\n",
            "global rating: 3.988069289893312\n",
            "count: 8717\n",
            "user rating: 4.5\n",
            "sofifa_id: 208830\n",
            "name: Jamie Vardy\n",
            "global rating: 3.7696904247660186\n",
            "count: 6945\n",
            "user rating: 4.5\n",
            "sofifa_id: 211256\n",
            "name: Nicolas Alejandro Tagliafico\n",
            "global rating: 3.7307855626326965\n",
            "count: 7065\n",
            "user rating: 3.0\n",
            "sofifa_id: 182493\n",
            "name: Diego Roberto Godin Leal\n",
            "global rating: 3.769797137267017\n",
            "count: 9711\n",
            "user rating: 2.5\n"
          ]
        }
      ]
    },
    {
      "cell_type": "code",
      "source": [
        "# FASE 2 - MODO CONSOLE\n",
        "# Depois dessas estruturas serem construidas, a aplicacao entra na fase 2, que corresponde ao\n",
        "# modo console. Nesta fase sera possivel fazer as pesquisas listadas na secao anterior, bem\n",
        "# como a exibicao dos resultados."
      ],
      "metadata": {
        "id": "flHhTLzelcTQ"
      },
      "execution_count": null,
      "outputs": []
    },
    {
      "cell_type": "code",
      "source": [
        "# MENU CONSOLE - INTERACAO COM O USUARIO"
      ],
      "metadata": {
        "id": "JlY0X4lmHUHX"
      },
      "execution_count": null,
      "outputs": []
    }
  ]
}