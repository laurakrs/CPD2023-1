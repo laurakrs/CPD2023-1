{
  "nbformat": 4,
  "nbformat_minor": 0,
  "metadata": {
    "colab": {
      "provenance": [],
      "include_colab_link": true
    },
    "kernelspec": {
      "name": "python3",
      "display_name": "Python 3"
    },
    "language_info": {
      "name": "python"
    }
  },
  "cells": [
    {
      "cell_type": "markdown",
      "metadata": {
        "id": "view-in-github",
        "colab_type": "text"
      },
      "source": [
        "<a href=\"https://colab.research.google.com/github/laurakrs/CPD2023-1/blob/main/CPD_Trabalho_Final.ipynb\" target=\"_parent\"><img src=\"https://colab.research.google.com/assets/colab-badge.svg\" alt=\"Open In Colab\"/></a>"
      ]
    },
    {
      "cell_type": "code",
      "execution_count": null,
      "metadata": {
        "id": "UJP8fqhsvXas"
      },
      "outputs": [],
      "source": [
        "# CLASSIFICACAO E PESQUISA DE DADOS - TRABALHO FINAL - FIFA21-PLAYERS\n",
        "\n",
        "# ALUNAS:\n",
        "# Laura Keidann Rodrigues da Silva (00217870)\n",
        "# Raissa Bitencourt Borowski (00326579)"
      ]
    },
    {
      "cell_type": "code",
      "source": [
        "from collections import defaultdict\n",
        "import csv\n",
        "import time"
      ],
      "metadata": {
        "id": "EEmEessMS3_b"
      },
      "execution_count": 1,
      "outputs": []
    },
    {
      "cell_type": "code",
      "source": [
        "# Objetivo do trabalho: implementar estruturas de dados e algoritmos que suportam as seguintes pesquisas sobre os dados:\n",
        "\n",
        "# - Pesquisas sobre os nomes de jogadores\n",
        "# - Pesquisas sobre jogadores revisados por usuarios\n",
        "# - Pesquisas sobre os melhores jogadores de uma determinada posicao\n",
        "# - Pesquisas sobre ‘tags’ de jogadores"
      ],
      "metadata": {
        "id": "7AsX3LXRMleM"
      },
      "execution_count": null,
      "outputs": []
    },
    {
      "cell_type": "code",
      "source": [
        "# 1 - DADOS\n",
        "# Os dados sao compostos dos arquivos players.csv, rating.csv e tags.csv, contendo\n",
        "# respectivamente informaçoes sobre jogadores, avaliações de usuarios e anotacoes em\n",
        "# texto-livre (tags).\n",
        "# PLAYERS.CSV\n",
        "# O arquivo players.csv contem informações de 18.944 jogadores, composto de um id no FIFA, seu nome e uma lista de posiçoes"
      ],
      "metadata": {
        "id": "DMogFaEsIoTq"
      },
      "execution_count": null,
      "outputs": []
    },
    {
      "cell_type": "code",
      "source": [
        "# RATING.CSV\n",
        "# O arquivo rating.csv contem 24,188,078 de avaliaçees (notas entre 1 e 5) de usuarios para\n",
        "# jogadores. Esses dados foram gerados simulando avaliacoes de usuários para cada jogador\n",
        "# disponivel no dataset"
      ],
      "metadata": {
        "id": "WpiPomHsI13n"
      },
      "execution_count": null,
      "outputs": []
    },
    {
      "cell_type": "code",
      "source": [
        "# ARQUIVO DE TESTE PARA RATINGS - MINIRATING.CSV\n",
        "# TambEm disponibilizamos um arquivo com 10,000 avaliacos ao inves das 20 milhoes para\n",
        "# ajudar nos testes (minirating.csv - disponivel para download apenas no Moodle). A leitura\n",
        "# dos dados a partir do CSV pode ser lenta, em especial para o arquivo rating.csv que possui mais de 400MB de dados."
      ],
      "metadata": {
        "id": "_0Rr70DfJJ7U"
      },
      "execution_count": null,
      "outputs": []
    },
    {
      "cell_type": "code",
      "source": [
        "# TAG.CSV\n",
        "# O arquivo tag.csv contem 364,950 anotacoes de texto livre (tags) (ex.: Brazil, FK Specialist,\n",
        "# Speedster, Playmaker, Paris Saint-Germain) para 18,944 jogadores."
      ],
      "metadata": {
        "id": "UdNShsX9I7h2"
      },
      "execution_count": null,
      "outputs": []
    },
    {
      "cell_type": "code",
      "source": [
        "# Classe jogador - player - para juntar as informacoes das 3 tabelas na entidade de cada jogador\n",
        "class Player:\n",
        "    def __init__(self, name, sofifa_id, player_positions):\n",
        "        self.name = name\n",
        "        self.id = sofifa_id\n",
        "        self.player_positions = player_positions.split(', ')  # Transforma a string em lista\n",
        "        self.tags = []\n",
        "        # relativa a rating:\n",
        "        self.count = 0\n",
        "        self.sum = 0\n",
        "        self.globalRating = 0.0\n",
        "\n",
        "    def add_rating(self, rating):\n",
        "        self.count += 1\n",
        "        self.sum += rating\n",
        "        self.globalRating = self.sum / self.count\n",
        "\n",
        "    def add_tag(self, tag):\n",
        "        self.tags.append(tag)"
      ],
      "metadata": {
        "id": "-asj6q4z8xp2"
      },
      "execution_count": 2,
      "outputs": []
    },
    {
      "cell_type": "code",
      "source": [
        "# Classe usuario - user - para juntar as informacoes dos usuarios\n",
        "class User:\n",
        "    def __init__(self, id):\n",
        "        self.id = id\n",
        "        self.ratedPlayers = []\n",
        "        self.ratings = []\n",
        "\n",
        "    def add_playerRating(self, rating):\n",
        "        self.ratings.append(rating)\n",
        "\n",
        "    def add_ratedPlayer(self, a_ratedPlayer):\n",
        "        self.ratedPlayers.append(a_ratedPlayer)"
      ],
      "metadata": {
        "id": "aHCg9JuJW02d"
      },
      "execution_count": 3,
      "outputs": []
    },
    {
      "cell_type": "code",
      "source": [
        "# FUNCAO PARA LER A TABELA DE JOGADORES E INSERIR AS INFORMACOES NA INSTANCIA JOGADOR,\n",
        "# INSERIR JOGADOR NA TABELA HASH\n",
        "# INSERIR JOGADOR NA ARVORE TRIE\n",
        "\n",
        "def readPlayers_csv(file):\n",
        "  global playersList, playersTable, tamanhoPlayersTable\n",
        "\n",
        "  with open(file, newline='') as csvfile:\n",
        "        reader = csv.reader(csvfile) # Le o CSV\n",
        "        next(reader)  # Pular a primeira linha\n",
        "\n",
        "        # percorre os dados\n",
        "        for row in reader:\n",
        "            sofifa_id = int(row[0]) # primeiro elemento da linha\n",
        "            name = row[1] # segundo elemento da linha\n",
        "            player_positions = row[2] # terceiro elemento da linha\n",
        "\n",
        "            a_player = Player(name, sofifa_id, player_positions) # cria um jogador\n",
        "\n",
        "            playersList.append(a_player) # adicona o jogador na lista de todos os jogadores\n",
        "\n",
        "            # Insere jogador na tabela Hash\n",
        "            insereHash(playersTable, a_player.id, a_player, tamanhoPlayersTable)\n",
        "\n",
        "            # Insere jogador na arvore Trie\n",
        "            insertTrie(name, a_player)"
      ],
      "metadata": {
        "id": "IEHh0eq9eR3-"
      },
      "execution_count": 4,
      "outputs": []
    },
    {
      "cell_type": "code",
      "source": [
        "readPlayers_csv('/content/players.csv')"
      ],
      "metadata": {
        "id": "8JWrQl501y-U",
        "colab": {
          "base_uri": "https://localhost:8080/",
          "height": 304
        },
        "outputId": "4430b23d-95c7-456a-a3c1-5ac05c43e844"
      },
      "execution_count": null,
      "outputs": [
        {
          "output_type": "error",
          "ename": "NameError",
          "evalue": "ignored",
          "traceback": [
            "\u001b[0;31m---------------------------------------------------------------------------\u001b[0m",
            "\u001b[0;31mNameError\u001b[0m                                 Traceback (most recent call last)",
            "\u001b[0;32m<ipython-input-12-cf386dc4f8ca>\u001b[0m in \u001b[0;36m<cell line: 1>\u001b[0;34m()\u001b[0m\n\u001b[0;32m----> 1\u001b[0;31m \u001b[0mreadPlayers_csv\u001b[0m\u001b[0;34m(\u001b[0m\u001b[0;34m'/content/players.csv'\u001b[0m\u001b[0;34m)\u001b[0m\u001b[0;34m\u001b[0m\u001b[0;34m\u001b[0m\u001b[0m\n\u001b[0m",
            "\u001b[0;32m<ipython-input-11-457cc72b3314>\u001b[0m in \u001b[0;36mreadPlayers_csv\u001b[0;34m(file)\u001b[0m\n\u001b[1;32m     18\u001b[0m             \u001b[0ma_player\u001b[0m \u001b[0;34m=\u001b[0m \u001b[0mPlayer\u001b[0m\u001b[0;34m(\u001b[0m\u001b[0mname\u001b[0m\u001b[0;34m,\u001b[0m \u001b[0msofifa_id\u001b[0m\u001b[0;34m,\u001b[0m \u001b[0mplayer_positions\u001b[0m\u001b[0;34m)\u001b[0m \u001b[0;31m# cria um jogador\u001b[0m\u001b[0;34m\u001b[0m\u001b[0;34m\u001b[0m\u001b[0m\n\u001b[1;32m     19\u001b[0m \u001b[0;34m\u001b[0m\u001b[0m\n\u001b[0;32m---> 20\u001b[0;31m             \u001b[0mplayersList\u001b[0m\u001b[0;34m.\u001b[0m\u001b[0mappend\u001b[0m\u001b[0;34m(\u001b[0m\u001b[0ma_player\u001b[0m\u001b[0;34m)\u001b[0m \u001b[0;31m# adicona o jogador na lista de todos os jogadores\u001b[0m\u001b[0;34m\u001b[0m\u001b[0;34m\u001b[0m\u001b[0m\n\u001b[0m\u001b[1;32m     21\u001b[0m \u001b[0;34m\u001b[0m\u001b[0m\n\u001b[1;32m     22\u001b[0m             \u001b[0;31m# Insere jogador na tabela Hash\u001b[0m\u001b[0;34m\u001b[0m\u001b[0;34m\u001b[0m\u001b[0m\n",
            "\u001b[0;31mNameError\u001b[0m: name 'playersList' is not defined"
          ]
        }
      ]
    },
    {
      "cell_type": "code",
      "source": [],
      "metadata": {
        "id": "rYrHCLTb17Hs"
      },
      "execution_count": null,
      "outputs": []
    },
    {
      "cell_type": "code",
      "source": [
        "# FUNCAO PARA LER A TABELA DE RATINGS E INSERIR OS VALORES NAS ENTIDADES APROPRIADAS\n",
        "# MAIS OU MENOS\n",
        "\n",
        "def readRatings_csv(file):\n",
        "  global lastSofifaId, lastPlayer, playersTable, usersTable, usersList, tamanhoPlayersTable, tamanhoUsersTable\n",
        "\n",
        "  with open(file, newline='') as csvfile:\n",
        "        reader = csv.reader(csvfile) # Le o CSV\n",
        "        next(reader)  # Pular a primeira linha\n",
        "\n",
        "        # percorre os dados\n",
        "        for row in reader:\n",
        "          if len(row) == 3:\n",
        "            user_id = row[0] # primeiro elemento da linha\n",
        "            sofifa_id = row[1] # segundo elemento da linha\n",
        "            rating = float(row[2]) # terceiro elemento da linha\n",
        "\n",
        "            # confere valores recebidos\n",
        "            if int(sofifa_id) == lastSofifaId:\n",
        "              player = lastPlayer\n",
        "            else:\n",
        "            # procura o jogador\n",
        "              a_player = buscaHash(playersTable, int(sofifa_id), tamanhoPlayersTable)\n",
        "              if a_player is None: # ISSO AQUI FICOU ESTRANHO, ele tava procunrando umas ids que nao existiam\n",
        "                print(sofifa_id)\n",
        "              else:\n",
        "                lastSofifaID = a_player.id\n",
        "                lastPlayer = a_player\n",
        "\n",
        "                # ERRO = nao ta achando jogador\n",
        "                a_player.add_rating(rating)\n",
        "\n",
        "\n",
        "            # Processa dados referentes ao usuario\n",
        "            if user_id in usersList:\n",
        "              # procura na tabela hash de usuarios\n",
        "              user = buscaHash(usersTable, int(user_id), tamanhoUsersTable)\n",
        "            else: # se o usuario nao consta na lista ainda\n",
        "              usersList.add(user_id) # adiciona no set\n",
        "              # cria nova instancia\n",
        "              user = User(int(user_id))\n",
        "              # adiciona na Hash Table de usuarios\n",
        "              insereHash(usersTable,int(user_id),user,tamanhoUsersTable)\n",
        "\n",
        "            # de qualquer forma, adiciona as avaliacoes no user\n",
        "            user.add_ratedPlayer(a_player) #adiciona o rated player\n",
        "            user.add_playerRating(rating) #adiciona o rating\n"
      ],
      "metadata": {
        "id": "E8i81qB6ekOn"
      },
      "execution_count": 5,
      "outputs": []
    },
    {
      "cell_type": "code",
      "source": [
        "# FUNCAO PARA LER AS TAGS\n",
        "\n",
        "def readTags_csv(file):\n",
        "  global lastSofifaId, lastPlayer, playersTable, tamanhoPlayersTable\n",
        "\n",
        "  with open(file, newline='') as csvfile:\n",
        "        reader = csv.reader(csvfile)\n",
        "        next(reader)  # Pular a primeira linha\n",
        "        for row in reader:\n",
        "            sofifa_id = row[1]\n",
        "            tag = row[2]\n",
        "\n",
        "            # confere valores recebidos\n",
        "            if sofifa_id == lastSofifaId:\n",
        "              player = lastPlayer\n",
        "            else:\n",
        "              player = buscaHash(playersTable, int(sofifa_id), tamanhoPlayersTable)\n",
        "              lastSofifaId = sofifa_id\n",
        "              lastPlayer = player\n",
        "\n",
        "            player.add_tag(tag) # adiciona a tag\n",
        "\n"
      ],
      "metadata": {
        "id": "NVsYW-1ziAeQ"
      },
      "execution_count": 6,
      "outputs": []
    },
    {
      "cell_type": "code",
      "source": [
        "# FUNCOES AUXILIARES:\n",
        "\n",
        "# Escreve arquivo\n",
        "def writeFile(arquivo, conteudo):\n",
        "\n",
        "    with open(arquivo, 'a') as arq:\n",
        "        linhas = arq.writelines(str(conteudo))\n",
        "        arq.close()"
      ],
      "metadata": {
        "id": "3TS5W42X6y2V"
      },
      "execution_count": 7,
      "outputs": []
    },
    {
      "cell_type": "code",
      "source": [
        "# Leitura de arquivo txt separando itens a cada nova linha\n",
        "def readFile(arquivo):\n",
        "    entradas = []\n",
        "\n",
        "    #abre arquivo\n",
        "    with open(arquivo, 'r') as arq:\n",
        "\n",
        "        #le o arquivo completo e separa as entradas a cada nova linha encontrada\n",
        "        entradas = arq.read().split(\"\\n\")\n",
        "\n",
        "        #fecha arquivo\n",
        "        arq.close()\n",
        "\n",
        "    #retorna um array com todos os arrays de entrada do arquivo\n",
        "    return entradas"
      ],
      "metadata": {
        "id": "1M832qcg615c"
      },
      "execution_count": 8,
      "outputs": []
    },
    {
      "cell_type": "code",
      "source": [
        "# TABELA HASH - IMPLEMENTACAO\n",
        "# O tamanho da tabela M e variavel e deve ser informado na construcao\n",
        "# A tabela hash deve armazenar registros compostos de uma chave identificadora e dados satelites associados\n",
        "# Tarefas para implementacao:\n",
        "# Escolha uma funcao de hash para mapear a chave de cada registro para um inteiro entre 0 e M −1;\n",
        "# Implemente o metodo de resolucao de conflitos de enderecamento fechado com listas encadeadas;\n",
        "# Implemente a operacao de insercao de um elemento na tabela hash;\n",
        "# Implemente a operacao de busca de um nome na tabela hash"
      ],
      "metadata": {
        "id": "RPgFWmMTvrcI"
      },
      "execution_count": null,
      "outputs": []
    },
    {
      "cell_type": "code",
      "source": [
        "def funcaoPolinomial(id, tamanho):\n",
        "    p = 53\n",
        "    m = tamanho\n",
        "    power_of_p = 1\n",
        "    hash_key = 0\n",
        "\n",
        "    while id > 0:\n",
        "        hash_key = ((hash_key + (id % 10) * power_of_p) % m)\n",
        "        power_of_p = (power_of_p * p) % m\n",
        "        id //= 10\n",
        "\n",
        "    return int(hash_key)"
      ],
      "metadata": {
        "id": "wu1_4n9cyJcm"
      },
      "execution_count": 9,
      "outputs": []
    },
    {
      "cell_type": "code",
      "source": [
        "# Operacao de Insercao na Tabela Hash(com listas encadeadas)\n",
        "\n",
        "def insereHash(tabela, chave, valor, tamanho):\n",
        "  # calcula a funcao hash\n",
        "  hash_key = funcaoPolinomial(chave, tamanho)\n",
        "\n",
        "  if tabela[hash_key] is None:\n",
        "      tabela[hash_key] = []\n",
        "\n",
        "  # adiciona elemento\n",
        "  tabela[hash_key].append(valor)\n",
        "\n"
      ],
      "metadata": {
        "id": "Kmut-gpNR6py"
      },
      "execution_count": 10,
      "outputs": []
    },
    {
      "cell_type": "code",
      "source": [
        "# Operacao de Busca\n",
        "# A funcao de busca recebe uma tabela hash, uma chave para buscar e o tamanho da tabela hash\n",
        "# A funcao procura o elemento com a chave na tabela hash\n",
        "# Se o elemento for encontrado, retorna o elemento\n",
        "# Caso contrario, retorna -1\n",
        "\n",
        "def buscaHash(tabela, chave, size):\n",
        "    # Calcula hash\n",
        "    i = funcaoPolinomial(chave, size)\n",
        "\n",
        "    # Acha a posicao correta\n",
        "    while tabela[i] is not None:\n",
        "      # percorre os itens daquela posicao da tabela\n",
        "      for item in tabela[i]:\n",
        "        # se encontrar o item com a chave correta\n",
        "        if item.id == chave:\n",
        "          # retorna o resultado\n",
        "          resultado = item\n",
        "          return resultado\n",
        "      # retorna -1 se foi um miss (o elemento nao foi encontrado na lista da sua posicao na tabela hash)\n",
        "      #resultado -1\n",
        "      #return resultado\n",
        "\n",
        "    # retorna -1 se foi um miss (posicao vazia)\n",
        "    #resultado = -1\n",
        "    #return resultado"
      ],
      "metadata": {
        "id": "TbZ_kMPFKB1z"
      },
      "execution_count": 11,
      "outputs": []
    },
    {
      "cell_type": "code",
      "source": [
        "# ARVORE TRIE - IMPLEMENTACAO (inspirada no exemplo de implementacao em C++ disponivel no Moodle da disciplina)\n",
        "\n",
        "# definicao da class TrieNode\n",
        "class TrieNode:\n",
        "    def __init__(self, char):\n",
        "        self.char = char\n",
        "        self.children = [None] * 26\n",
        "        self.isEndOfWord = False\n",
        "        self.player = None\n",
        "\n",
        "# Retorna novo trie node\n",
        "def get_node(char=None):\n",
        "    return TrieNode(char)\n",
        "\n",
        "# Funcao para inserir nova chave na arvore Trie\n",
        "def insertTrie(key, instance):\n",
        "    global root\n",
        "\n",
        "    pCrawl = root # acessa raiz\n",
        "\n",
        "    for char in key:\n",
        "        charInChildren = False # premissa = nao encontrou char\n",
        "\n",
        "        for child in pCrawl.children: # percorre os filhos\n",
        "\n",
        "          if child != None and child.char == char: # verifica se tem um igual\n",
        "            pCrawl = child # seta pCrawl como a child\n",
        "            charInChildren = True # indica que encontrou\n",
        "            break # para de percorrer\n",
        "\n",
        "        if charInChildren == False: # se nao encontrou\n",
        "          newNode = TrieNode(char) # novo no para a letra\n",
        "          pCrawl.children.append(newNode)\n",
        "          pCrawl = newNode # seta pCrawl como novo no\n",
        "\n",
        "    pCrawl.isEndOfWord = True # seta como fim de palavra\n",
        "    pCrawl.player = instance # coloca o jogador no no\n",
        "\n",
        "\n",
        "# Funcao para buscar chave na arvore Trie # NAO USAR\n",
        "def searchTrie(root, key):\n",
        "    pCrawl = root\n",
        "    for char in key:\n",
        "        index = ord(char) - ord('a')\n",
        "        if not pCrawl.children[index]:\n",
        "            return False\n",
        "        pCrawl = pCrawl.children[index]\n",
        "    return pCrawl is not None and pCrawl.isEndOfWord\n",
        "\n",
        "\n",
        "# FUNCAO PARA PROCURAR O PREFIXO NA TRIE\n",
        "\n",
        "def searchPrefix(prefix):\n",
        "  global root\n",
        "\n",
        "  pCrawl = root # comeca pela raiz\n",
        "\n",
        "  if len(root.children) == 0: # nao tem filhos\n",
        "    print('None found')\n",
        "    return None\n",
        "\n",
        "  # se tem filhos\n",
        "  for char in prefix:\n",
        "    found = False\n",
        "\n",
        "    for child in pCrawl.children:\n",
        "      if child is not None:\n",
        "        if child.char == char:\n",
        "            found = True\n",
        "            pCrawl = child\n",
        "            break\n",
        "    if found == False:\n",
        "      print('None found')\n",
        "      return None\n",
        "\n",
        "  return pCrawl\n",
        "\n"
      ],
      "metadata": {
        "id": "7eJXq4TupWSU"
      },
      "execution_count": 92,
      "outputs": []
    },
    {
      "cell_type": "code",
      "source": [
        "# FUNCAO DE BUSCA GERAL\n",
        "\n",
        "def searchInTrie(name):\n",
        "  playersFound = findPlayers(name)\n",
        "\n",
        "  if playersFound == None:\n",
        "    print('None found!!!!')\n",
        "    return\n",
        "  else:\n",
        "    printPlayers(playersFound)"
      ],
      "metadata": {
        "id": "Ab264OWn-cbQ"
      },
      "execution_count": 68,
      "outputs": []
    },
    {
      "cell_type": "code",
      "source": [
        "# FUNCAO PARA JUNTAR TODOS OS JOGADORES ENCONTRADOS COM NOME/PREFIXO\n",
        "\n",
        "def findPlayers(name):\n",
        "  playersList = []\n",
        "\n",
        "  lastNode = searchPrefix(name)\n",
        "\n",
        "  if lastNode == None:\n",
        "    return None\n",
        "  else:\n",
        "    completeList = searchTrieRec(lastNode, playersList) # chama busca recursiva\n",
        "    return completeList\n",
        "\n"
      ],
      "metadata": {
        "id": "cFpxAxui-jW9"
      },
      "execution_count": 85,
      "outputs": []
    },
    {
      "cell_type": "code",
      "source": [
        "# FUNCAO DE BUSCA RECURSIVA\n",
        "\n",
        "def searchTrieRec(node,playersList):\n",
        "  if node is not None:\n",
        "    if node.isEndOfWord == True:\n",
        "      playersList.append(node.player) # junta o jogador\n",
        "    else:\n",
        "      for child in node.children:\n",
        "        searchTrieRec(child,playersList)\n",
        "    return playersList # retorna a lista\n"
      ],
      "metadata": {
        "id": "a1nmRQZY_BR9"
      },
      "execution_count": 70,
      "outputs": []
    },
    {
      "cell_type": "code",
      "source": [
        "# FUNCAO PARA IMPRIMIR INFORMACOES DOS JOGADORES\n",
        "\n",
        "def printPlayers(playersList):\n",
        "  for player in playersList:\n",
        "    print('sofifa_id: ' + str(player.id))\n",
        "    print('name: ' + player.name)\n",
        "    print('player postions: ' + str(player.player_positions))\n",
        "    print('rating: ' + str(player.globalRating))\n",
        "    print('count: ' + str(player.count))"
      ],
      "metadata": {
        "id": "7ahWnRDX_6vC"
      },
      "execution_count": 99,
      "outputs": []
    },
    {
      "cell_type": "code",
      "source": [
        "searchInTrie('Lionel')"
      ],
      "metadata": {
        "colab": {
          "base_uri": "https://localhost:8080/"
        },
        "id": "Y_jwqqDMAzcA",
        "outputId": "8695c660-da67-426e-f09a-8fae221856ce"
      },
      "execution_count": 100,
      "outputs": [
        {
          "output_type": "stream",
          "name": "stdout",
          "text": [
            "sofifa_id: 158023\n",
            "name: Lionel Andres Messi Cuccittini\n",
            "player postions: ['RW', 'ST', 'CF']\n",
            "rating: 4.256382400869093\n",
            "count: 12887\n",
            "sofifa_id: 201041\n",
            "name: Lionel Jules Carole\n",
            "player postions: ['LWB', 'LB']\n",
            "rating: 2.7442660550458715\n",
            "count: 1744\n",
            "sofifa_id: 223150\n",
            "name: Lionel Mpasi-Nzau\n",
            "player postions: ['GK']\n",
            "rating: 2.516349583828775\n",
            "count: 1682\n"
          ]
        }
      ]
    },
    {
      "cell_type": "code",
      "source": [
        "# ARQUIVOS DE TESTE - Criacao da tabela Hash a partir dos dados dos jogadores - retirado do Lab4 - Tabelas Hash\n",
        "# A implementacao da tabela Hash deve ser testada com um arquivo .CSV contendo descricoes de 18944 nomes de\n",
        "# jogadores de futebol. O arquivo e disponibilizado no Moodle com o nome de players-fifa.csv. A primeira linha do\n",
        "# arquivo contem a descricao das colunas, seguidos dos dados dos jogadores, um por linha\n",
        "# Cada jogador e identificado por uma chave inteira (campo sofifa.id), seguido do nome e de uma lista de\n",
        "# posicoes que o jogador atua"
      ],
      "metadata": {
        "id": "3fHCvVfu11C8"
      },
      "execution_count": null,
      "outputs": []
    },
    {
      "cell_type": "code",
      "source": [
        "# Arquivo minirating.csv om 10,000 avaliações ao invés das 20 milhões para ajudar nos testes\n",
        "minirating = readRatings_csv('/content/minirating.csv', 'rating')\n",
        "#print(minirating)"
      ],
      "metadata": {
        "id": "bTOEbbDxtm9R"
      },
      "execution_count": null,
      "outputs": []
    },
    {
      "cell_type": "code",
      "source": [
        "# TABELA HASH PARA AS AVALIACOES DE CADA JOGADOR:\n",
        "# Guardar em uma TABELA HASH as medias de avaliacoes e o total de avaliacoes para cada jogador."
      ],
      "metadata": {
        "id": "jKoqwG0sKN90"
      },
      "execution_count": null,
      "outputs": []
    },
    {
      "cell_type": "code",
      "source": [
        "# 2. PESQUISAS"
      ],
      "metadata": {
        "id": "8ypKcyN7JeZB"
      },
      "execution_count": null,
      "outputs": []
    },
    {
      "cell_type": "code",
      "source": [
        "# 2.1 Pesquisas sobre os nomes de jogadores\n",
        "# Esta pesquisa tem por objetivo retornar a lista de jogadores cujo nome começa com um texto\n",
        "# que pode ser o prefixo ou texto completo do nome de um jogador. Todos os jogadores que\n",
        "# satisfizerem o texto de consulta devem ser retornados, junto com a lista de posicoes dos\n",
        "# jogadores, avaliacao media e numero de avaliacoes. A sintaxe dessa consulta eh:\n",
        "# player <name or prefix>\n",
        "# A consulta pode ser feita diretamente pelo console, e o resultado também pode ser impresso\n",
        "# no console. Tente deixar o texto a ser impresso compacto.\n",
        "\n",
        "# Exemplo: $ player Fer\n",
        "# Retornar: sofifa_id, name, player_positions, rating, count dos jogadores cujos nomes se enquadram na pesquisa"
      ],
      "metadata": {
        "id": "TMu0lA8jJgzN"
      },
      "execution_count": null,
      "outputs": []
    },
    {
      "cell_type": "code",
      "source": [],
      "metadata": {
        "id": "094rjSv95XHX"
      },
      "execution_count": null,
      "outputs": []
    },
    {
      "cell_type": "code",
      "source": [
        "# Os dados de jogadores nao contem algumas das informacoes a serem retornadas. Por exemplo, deve-se primeiramente guardar em uma TABELA HASH as medias de avaliacoes\n",
        "# e total de avaliacoes para cada jogador. Essas informacoes devem ser calculadas e armazenadas em uma etapa de pre-processamento.\n",
        "# Para responder esta pesquisa, deve-se implementar uma ARVORE TRIE que busca todos os identificadores de\n",
        "# jogadores que correspondem ao nome ou prefixo dado, e com essa lista de identificadores,\n",
        "# buscar na TABELA HASH as informacoes complementares dos jogadores"
      ],
      "metadata": {
        "id": "iAcwwdEFJgrp"
      },
      "execution_count": null,
      "outputs": []
    },
    {
      "cell_type": "code",
      "source": [
        "# TABELA HASH COM A MEDIA DE AVALIACOES E O TOTAL DE AVALIACOES PARA CADA JOGAR"
      ],
      "metadata": {
        "id": "nwilZswS3aKz"
      },
      "execution_count": null,
      "outputs": []
    },
    {
      "cell_type": "code",
      "source": [
        "# ARVORE TRIE COM OS NOMES DOS JOGADORES PARA BUSCAR TODOS OS IDENTIFICADORES DE JOGADORES QUE  CORRESPONDEM AO NOME OU PREFIXO DADO"
      ],
      "metadata": {
        "id": "Os65fk4a3dfL"
      },
      "execution_count": null,
      "outputs": []
    },
    {
      "cell_type": "code",
      "source": [
        "# BUSCAR NA TABELA HASH AS INFORMACOES COMPLEMENTARES DOS JOGADORES"
      ],
      "metadata": {
        "id": "Tme3XxE24vIe"
      },
      "execution_count": null,
      "outputs": []
    },
    {
      "cell_type": "code",
      "source": [
        "# 2.2 Pesquisas sobre jogadores revisados por usuarios\n",
        "# Esta pesquisa deve retornar a lista com no maximo 20 jogadores revisados pelo usuario e para\n",
        "# cada jogador mostrar a nota dada pelo usuario, a media global e a contagem de avaliacoes. A\n",
        "# lista deve ser ordenada pela nota dada pelo usuario de maneira decrescente (maiores notas\n",
        "# primeiro). A sintaxe dessa consulta eh:\n",
        "# user <userID>\n",
        "\n",
        "# Exemplo: $ user 4\n",
        "# Retornar: sofifa_id, name, global_rating, count, rating dos jogadores que o usuario revisou\n",
        "\n",
        "# Os dados de entrada nao possuem diretamente as informacoes de usuarios\n",
        "# prontas para o retorno dessa pesquisa. Estas informacoes estao colocadas no arquivo\n",
        "# rating.csv. Deve-se implementar uma estrutura de dados (livre) para calcular e agregar em\n",
        "# pre-processamento as informações por usuario. Com essa estrutura construida, para responder\n",
        "# essa pesquisa basta consultar as entradas pelo identificador do usuario e retornar a lista de\n",
        "# jogadores que esse usuario revisou e suas informacoes adicionais."
      ],
      "metadata": {
        "id": "YsVXnZnZJ_MN"
      },
      "execution_count": null,
      "outputs": []
    },
    {
      "cell_type": "code",
      "source": [
        "# PESQUISAR REVIEWS"
      ],
      "metadata": {
        "id": "LJzUUGEZGHRz"
      },
      "execution_count": null,
      "outputs": []
    },
    {
      "cell_type": "code",
      "source": [
        "# 2.3 Pesquisas sobre os melhores jogadores de uma determinada posicao\n",
        "# Retornar a lista de jogadores com melhores notas de uma dada posicao\n",
        "# Para evitar que um jogador seja retornando com uma boa media mas com poucas\n",
        "# avaliacoes, esta consulta somente deve retornar os melhores jogadores com NO MINIMO 1000\n",
        "# avaliacoes. Para gerenciar o numero de jogadores a serem retornados, a consulta deve\n",
        "# receber como parametro um numero N que corresponde ao numero maximo de jogadores a\n",
        "# serem retornados. O resultado da consulta deve estar ordenado da maior para a menor\n",
        "# avaliaçao.\n",
        "# Sintaxe da consulta: top<N> ‘<position>’\n",
        "# Exemplo: $ top10 'ST''\n",
        "# Retornar: sofifa_id, name, player_position, rating, count"
      ],
      "metadata": {
        "id": "6Y8hntMDNQLH"
      },
      "execution_count": null,
      "outputs": []
    },
    {
      "cell_type": "code",
      "source": [
        "def top_players_by_position(table_players, position, N):\n",
        "    position = position.upper()\n",
        "    result = []\n",
        "\n",
        "    # Percorre a tabela de jogadores\n",
        "    for i in range(len(table_players)):\n",
        "        # Verifica se o jogador está na posição desejada e possui pelo menos 1000 avaliações\n",
        "        player = table_players[i]\n",
        "        if player and position in player[\"player_positions\"] and player[\"count\"] >= 1000:\n",
        "            result.append(player)\n",
        "\n",
        "    # Ordena a lista de jogadores pelo rating em ordem decrescente\n",
        "    result.sort(key=lambda x: x[\"globalRating\"], reverse=True)\n",
        "\n",
        "    # Retorna os N melhores jogadores\n",
        "    return result[:N]\n"
      ],
      "metadata": {
        "id": "804NV8pDUN94"
      },
      "execution_count": null,
      "outputs": []
    },
    {
      "cell_type": "code",
      "source": [
        "# Consulta os 10 melhores atacantes (ST) com pelo menos 1000 avaliações\n",
        "top_players = top_players_by_position(table_players, 'ST', 10)\n",
        "\n",
        "# Exibe os resultados\n",
        "for player in top_players:\n",
        "    print(player[\"sofifa_id\"], player[\"name\"], player[\"player_positions\"], player[\"globalRating\"], player[\"count\"])"
      ],
      "metadata": {
        "id": "wG0cd2seUR0b"
      },
      "execution_count": null,
      "outputs": []
    },
    {
      "cell_type": "code",
      "source": [
        "# 2.4 Pesquisas sobre 'tags' de jogadores\n",
        "# Explorar a lista de tags adicionadas por cada usuario em cada revisao.\n",
        "# Para uma lista de tags dada como entrada, a pesquisa deve retornar a lista de\n",
        "# jogadores que estao associados a intersecao de um conjunto de tags.\n",
        "# Sintaxe da consulta: tags <list of tags>\n",
        "# Exemplo: $ tags 'Brazil''Dribbler''\n",
        "# Retornar: sofifa_id, name, player_position, rating, count, de todos os jogadores que apresentam tanto a tag '’Brazil\" como\n",
        "# a tag \"Dribbler\".\n",
        "\n",
        "# Estas informações nao estao diretamente nos arquivos de dados. Portanto, deve-se projetar\n",
        "# uma estrutura de dados para responder essa pesquisa. Como as tags podem ser termos com\n",
        "# espaco (ex.: Solid Player, French Ligue 1, Manchester United), a tag passada na consulta deve\n",
        "# ser escrita entre apostrofes."
      ],
      "metadata": {
        "id": "IYmNbgxYNSc8"
      },
      "execution_count": null,
      "outputs": []
    },
    {
      "cell_type": "code",
      "source": [
        "def build_tags_index(table_players):\n",
        "    tags_index = {}\n",
        "\n",
        "    # Percorre a tabela de jogadores para construir o índice de tags\n",
        "    for i in range(len(table_players)):\n",
        "        player = table_players[i]\n",
        "        if player:\n",
        "            player_id = player[\"sofifa_id\"]\n",
        "            player_tags = player[\"tags\"]\n",
        "\n",
        "            # Adiciona as tags do jogador ao índice\n",
        "            for tag in player_tags:\n",
        "                if tag not in tags_index:\n",
        "                    tags_index[tag] = set()\n",
        "                tags_index[tag].add(player_id)\n",
        "\n",
        "    return tags_index\n",
        "\n",
        "\n",
        "def search_by_tags(tags_index, tags):\n",
        "    tags = set(tags)\n",
        "    result = set(tags_index.get(tags.pop(), set()))\n",
        "\n",
        "    # Realiza a interseção com as demais tags\n",
        "    for tag in tags:\n",
        "        result.intersection_update(tags_index.get(tag, set()))\n",
        "\n",
        "    # Obtém os dados dos jogadores resultantes\n",
        "    players = [player for player in players_info if player[\"sofifa_id\"] in result]\n",
        "\n",
        "    # Ordena a lista de jogadores pelo rating em ordem decrescente\n",
        "    players.sort(key=lambda x: x[\"globalRating\"], reverse=True)\n",
        "\n",
        "    return players\n",
        "\n",
        "\n",
        "# Uso da função\n",
        "# Primeiro, construímos o índice de tags\n",
        "tags_index = build_tags_index(table_players)\n",
        "\n",
        "# Em seguida, pesquisamos os jogadores que possuem as tags 'Brazil' e 'Dribbler'\n",
        "tags_to_search = ['Brazil', 'Dribbler']\n",
        "result_players = search_by_tags(tags_index, tags_to_search)\n",
        "\n",
        "# Exibindo os resultados\n",
        "for player in result_players:\n",
        "    print(player[\"sofifa_id\"], player[\"name\"], player[\"player_positions\"], player[\"globalRating\"], player[\"count\"])\n"
      ],
      "metadata": {
        "id": "vcC6kyb1UQdi"
      },
      "execution_count": null,
      "outputs": []
    },
    {
      "cell_type": "code",
      "source": [
        "# 3 IMPLEMENTACAO\n",
        "# Os usuarios devem construir uma aplicacao que funciona em duas fases.\n",
        "\n",
        "# FASE 1 - CONSTRUCAO E INICIALIZACAO\n",
        "# A fase 1 corresponde a construcao e inicializacao das estruturas de dados necessarias para suportar as consultas.\n",
        "# Ao executar a fase de construcao, esta não deve demorar mais de 3 minutos. Quem conseguir\n",
        "# fazer esta etapa em menos de 1 minuto ganha um bonus de 10%."
      ],
      "metadata": {
        "id": "pupAP0SoUvc6"
      },
      "execution_count": null,
      "outputs": []
    },
    {
      "cell_type": "code",
      "source": [
        "# MAIN - FASE 1 - CONSTRUCAO E INICIALIZACAO\n",
        "\n",
        "tamanhoPlayersTable = 10000 # tamanho da tabela Hash de jogadores\n",
        "tamanhoUsersTable = 15000\n",
        "\n",
        "# INICIA O CRONOMETRO\n",
        "startTime = time.perf_counter() # contador do tempo\n",
        "\n",
        "# CRIACAO DA TABELA HASH PARA OS DADOS DOS JOGADORES\n",
        "# cria a tabela vazia\n",
        "playersTable = [None] * tamanhoPlayersTable\n",
        "# Cria tabela de usuarios\n",
        "usersTable = [None] * tamanhoUsersTable\n",
        "\n",
        "# AROVRE TRIE\n",
        "root = TrieNode('*')\n",
        "\n",
        "# Inicializacao de variaveis\n",
        "lastPlayer = None\n",
        "lastSofifaId = ''\n",
        "\n",
        "\n",
        "playersList = [] # todos os jogadores\n",
        "topPlayers = [] # melhores jogadores com NO MINIMO 1000\n",
        "topPlayersRatings = [] # avaliacoes dos melhores jogadores com NO MINIMO 1000\n",
        "usersList = set() # usuarios\n",
        "\n",
        "# CHAMADA DE FUNCOES PARA LER TABELAS E INSERIR NAS ESTRUTURAS\n",
        "\n",
        "#  Chamadas de leituras para teste - pre-processamento\n",
        "# Arquivo players.csv\n",
        "# Le players.csv, cria instancia de Player, insere players na tabela hash e na arvore trie, adiciona player na lista\n",
        "readPlayers_csv('/content/players.csv')\n",
        "\n",
        "# Arquivo rating.csv\n",
        "# Le rating.csv, vincula rating ao player em questao, atualiza ratings do player, cria instancia de user, adiciona user na Hash Table de users, adiciona user na lista de users\n",
        "readRatings_csv('/content/rating.csv') # MAIS OU MENOS\n",
        "\n",
        "# Arquivo tags.csv\n",
        "# Le tags.csv, vincula tags ao jogador em questao\n",
        "readTags_csv('/content/tags.csv')\n",
        "\n",
        "\n",
        "\n",
        "# INTERROMPE O CRONOMETRO\n",
        "endTime = time.perf_counter()\n",
        "total_time = endTime - startTime\n",
        "\n",
        "print(f'\\nTempo de execucao da Fase 1 - Construcao e Inicializacao: {total_time:.2f} segundos')"
      ],
      "metadata": {
        "colab": {
          "base_uri": "https://localhost:8080/"
        },
        "id": "qDa88qOrZYE7",
        "outputId": "37163a95-6d35-42d6-9f64-d19af5c8726e"
      },
      "execution_count": 64,
      "outputs": [
        {
          "output_type": "stream",
          "name": "stdout",
          "text": [
            "\n",
            "Tempo de execucao da Fase 1 - Construcao e Inicializacao: 227.53 segundos\n"
          ]
        }
      ]
    },
    {
      "cell_type": "code",
      "source": [
        "funcaoPolinomial(158023, tamanhoPlayersTable)"
      ],
      "metadata": {
        "colab": {
          "base_uri": "https://localhost:8080/"
        },
        "id": "cvJtiDyFXhjg",
        "outputId": "85a5f4eb-1471-453d-c93c-49c24652d26b"
      },
      "execution_count": null,
      "outputs": [
        {
          "output_type": "execute_result",
          "data": {
            "text/plain": [
              "9023"
            ]
          },
          "metadata": {},
          "execution_count": 127
        }
      ]
    },
    {
      "cell_type": "code",
      "source": [
        "print(playersTable[9023][0].name)\n",
        "print(playersTable[9023][0].tags)\n",
        "playersTable[9023][0].globalRating\n"
      ],
      "metadata": {
        "colab": {
          "base_uri": "https://localhost:8080/"
        },
        "id": "sXQWWSmMX1Ch",
        "outputId": "2682b72d-026d-48b9-f5be-6b901eb09b9e"
      },
      "execution_count": null,
      "outputs": [
        {
          "output_type": "stream",
          "name": "stdout",
          "text": [
            "Lionel Andres Messi Cuccittini\n",
            "['Clinical Finisher', 'Complete Forward', 'Dribbler', 'Distance Shooter', 'FK Specialist', 'Finesse Shot', 'Team Player', 'Speed Dribbler', 'One Club Player', 'Long Shot Taker', 'Argentina', 'FC Barcelona', 'Spain Primera Division', 'Acrobat', 'Clinical Finisher', 'Distance Shooter', 'Complete Forward', 'Dribbler', 'Outside Foot Shot', 'Playmaker', 'Finesse Shot', 'Chip Shot', 'Long Shot Taker', 'Argentina', 'FC Barcelona', 'Spain Primera Division', 'Complete Forward', 'Dribbler', 'Clinical Finisher', 'FK Specialist', 'Distance Shooter', 'Speed Dribbler', 'Finesse Shot', 'Chip Shot', 'Playmaker', 'Team Player', 'Argentina', 'FC Barcelona', 'Spain Primera Division', 'Distance Shooter', 'FK Specialist', 'Dribbler', 'Complete Forward', 'Acrobat', 'Playmaker', 'Finesse Shot', 'Long Shot Taker', 'Team Player', 'Speed Dribbler', 'Argentina', 'FC Barcelona', 'Spain Primera Division', 'Clinical Finisher', 'Complete Forward', 'Dribbler', 'Acrobat', 'Distance Shooter', 'One Club Player', 'Long Shot Taker', 'Chip Shot', 'Team Player', 'Finesse Shot', 'Argentina', 'FC Barcelona', 'Spain Primera Division']\n"
          ]
        },
        {
          "output_type": "execute_result",
          "data": {
            "text/plain": [
              "4.256382400869093"
            ]
          },
          "metadata": {},
          "execution_count": 137
        }
      ]
    },
    {
      "cell_type": "code",
      "source": [
        "# FASE 2 - MODO CONSOLE\n",
        "# Depois dessas estruturas serem construidas, a aplicacao entra na fase 2, que corresponde ao\n",
        "# modo console. Nesta fase sera possivel fazer as pesquisas listadas na secao anterior, bem\n",
        "# como a exibicao dos resultados."
      ],
      "metadata": {
        "id": "flHhTLzelcTQ"
      },
      "execution_count": null,
      "outputs": []
    }
  ]
}