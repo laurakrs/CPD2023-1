{
  "nbformat": 4,
  "nbformat_minor": 0,
  "metadata": {
    "colab": {
      "provenance": [],
      "include_colab_link": true
    },
    "kernelspec": {
      "name": "python3",
      "display_name": "Python 3"
    },
    "language_info": {
      "name": "python"
    }
  },
  "cells": [
    {
      "cell_type": "markdown",
      "metadata": {
        "id": "view-in-github",
        "colab_type": "text"
      },
      "source": [
        "<a href=\"https://colab.research.google.com/github/laurakrs/CPD2023-1/blob/main/CPD_Trabalho_Final-2008.ipynb\" target=\"_parent\"><img src=\"https://colab.research.google.com/assets/colab-badge.svg\" alt=\"Open In Colab\"/></a>"
      ]
    },
    {
      "cell_type": "code",
      "execution_count": null,
      "metadata": {
        "id": "UJP8fqhsvXas"
      },
      "outputs": [],
      "source": [
        "# CLASSIFICACAO E PESQUISA DE DADOS - TRABALHO FINAL - FIFA21-PLAYERS\n",
        "\n",
        "# ALUNAS:\n",
        "# Laura Keidann Rodrigues da Silva (00217870)\n",
        "# Raissa Bitencourt Borowski (00326579)"
      ]
    },
    {
      "cell_type": "code",
      "source": [
        "from collections import defaultdict\n",
        "import csv\n",
        "import time"
      ],
      "metadata": {
        "id": "EEmEessMS3_b"
      },
      "execution_count": null,
      "outputs": []
    },
    {
      "cell_type": "code",
      "source": [
        "# Objetivo do trabalho: implementar estruturas de dados e algoritmos que suportam as seguintes pesquisas sobre os dados:\n",
        "\n",
        "# - Pesquisas sobre os nomes de jogadores\n",
        "# - Pesquisas sobre jogadores revisados por usuarios\n",
        "# - Pesquisas sobre os melhores jogadores de uma determinada posicao\n",
        "# - Pesquisas sobre ‘tags’ de jogadores"
      ],
      "metadata": {
        "id": "7AsX3LXRMleM"
      },
      "execution_count": null,
      "outputs": []
    },
    {
      "cell_type": "code",
      "source": [
        "# 1 - DADOS\n",
        "# Os dados sao compostos dos arquivos players.csv, rating.csv e tags.csv, contendo\n",
        "# respectivamente informaçoes sobre jogadores, avaliações de usuarios e anotacoes em\n",
        "# texto-livre (tags).\n",
        "# PLAYERS.CSV\n",
        "# O arquivo players.csv contem informações de 18.944 jogadores, composto de um id no FIFA, seu nome e uma lista de posiçoes"
      ],
      "metadata": {
        "id": "DMogFaEsIoTq"
      },
      "execution_count": null,
      "outputs": []
    },
    {
      "cell_type": "code",
      "source": [
        "# RATING.CSV\n",
        "# O arquivo rating.csv contem 24,188,078 de avaliaçees (notas entre 1 e 5) de usuarios para\n",
        "# jogadores. Esses dados foram gerados simulando avaliacoes de usuários para cada jogador\n",
        "# disponivel no dataset"
      ],
      "metadata": {
        "id": "WpiPomHsI13n"
      },
      "execution_count": null,
      "outputs": []
    },
    {
      "cell_type": "code",
      "source": [
        "# ARQUIVO DE TESTE PARA RATINGS - MINIRATING.CSV\n",
        "# TambEm disponibilizamos um arquivo com 10,000 avaliacos ao inves das 20 milhoes para\n",
        "# ajudar nos testes (minirating.csv - disponivel para download apenas no Moodle). A leitura\n",
        "# dos dados a partir do CSV pode ser lenta, em especial para o arquivo rating.csv que possui mais de 400MB de dados."
      ],
      "metadata": {
        "id": "_0Rr70DfJJ7U"
      },
      "execution_count": null,
      "outputs": []
    },
    {
      "cell_type": "code",
      "source": [
        "# TAG.CSV\n",
        "# O arquivo tag.csv contem 364,950 anotacoes de texto livre (tags) (ex.: Brazil, FK Specialist,\n",
        "# Speedster, Playmaker, Paris Saint-Germain) para 18,944 jogadores."
      ],
      "metadata": {
        "id": "UdNShsX9I7h2"
      },
      "execution_count": null,
      "outputs": []
    },
    {
      "cell_type": "code",
      "source": [
        "# Classe jogador - player - para juntar as informacoes das 3 tabelas na entidade de cada jogador\n",
        "class Player:\n",
        "    def __init__(self, name, sofifa_id, player_positions):\n",
        "        self.name = name\n",
        "        self.id = sofifa_id\n",
        "        self.player_positions = player_positions.split(', ')  # Transforma a string em lista\n",
        "        self.tags = []\n",
        "        # relativa a rating:\n",
        "        self.count = 0\n",
        "        self.sum = 0\n",
        "        self.globalRating = 0.0\n",
        "\n",
        "    def add_rating(self, rating):\n",
        "        self.count += 1\n",
        "        self.sum += rating\n",
        "        self.globalRating = self.sum / self.count\n",
        "\n",
        "    def add_tag(self, tag):\n",
        "        self.tags.append(tag)"
      ],
      "metadata": {
        "id": "-asj6q4z8xp2"
      },
      "execution_count": null,
      "outputs": []
    },
    {
      "cell_type": "code",
      "source": [
        "# Classe usuario - user - para juntar as informacoes dos usuarios\n",
        "class User:\n",
        "    def __init__(self, id):\n",
        "        self.id = id\n",
        "        self.ratedPlayers = []\n",
        "        self.ratings = []\n",
        "\n",
        "    def add_playerRating(self, rating):\n",
        "        self.ratings.append(rating)\n",
        "\n",
        "    def add_ratedPlayer(self, a_ratedPlayer):\n",
        "        self.ratedPlayers.append(a_ratedPlayer)"
      ],
      "metadata": {
        "id": "aHCg9JuJW02d"
      },
      "execution_count": null,
      "outputs": []
    },
    {
      "cell_type": "code",
      "source": [
        "# FUNCAO PARA LER A TABELA DE JOGADORES E INSERIR AS INFORMACOES NA INSTANCIA JOGADOR,\n",
        "# INSERIR JOGADOR NA TABELA HASH\n",
        "# INSERIR JOGADOR NA ARVORE TRIE\n",
        "\n",
        "def readPlayers_csv(file):\n",
        "  global playersList, playersTable, tamanhoPlayersTable\n",
        "\n",
        "  with open(file, newline='') as csvfile:\n",
        "        reader = csv.reader(csvfile) # Le o CSV\n",
        "        next(reader)  # Pular a primeira linha\n",
        "\n",
        "        # percorre os dados\n",
        "        for row in reader:\n",
        "            sofifa_id = int(row[0]) # primeiro elemento da linha\n",
        "            name = row[1] # segundo elemento da linha\n",
        "            player_positions = row[2] # terceiro elemento da linha\n",
        "\n",
        "            a_player = Player(name, sofifa_id, player_positions) # cria um jogador\n",
        "\n",
        "            playersList.append(a_player) # adicona o jogador na lista de todos os jogadores\n",
        "\n",
        "            # Insere jogador na tabela Hash\n",
        "            insereHash(playersTable, a_player.id, a_player, tamanhoPlayersTable)\n",
        "\n",
        "            # Insere jogador na arvore Trie\n",
        "            insertTrie(name, a_player)"
      ],
      "metadata": {
        "id": "IEHh0eq9eR3-"
      },
      "execution_count": null,
      "outputs": []
    },
    {
      "cell_type": "code",
      "source": [
        "# FUNCAO PARA LER A TABELA DE RATINGS E INSERIR OS VALORES NAS ENTIDADES APROPRIADAS\n",
        "\n",
        "def readRatings_csv(file):\n",
        "  global lastSofifaId, lastPlayer, playersTable, usersTable, usersList, tamanhoPlayersTable, tamanhoUsersTable\n",
        "\n",
        "  with open(file, newline='') as csvfile:\n",
        "        reader = csv.reader(csvfile) # Le o CSV\n",
        "        next(reader)  # Pular a primeira linha\n",
        "\n",
        "        # percorre os dados\n",
        "        for row in reader:\n",
        "          if len(row) == 3:\n",
        "            user_id = int(row[0]) # primeiro elemento da linha\n",
        "            sofifa_id = int(row[1]) # segundo elemento da linha\n",
        "            rating = float(row[2]) # terceiro elemento da linha\n",
        "\n",
        "            # confere valores recebidos\n",
        "            if sofifa_id == lastSofifaId:\n",
        "              player = lastPlayer\n",
        "            else:\n",
        "            # procura o jogador\n",
        "              a_player = buscaHash(playersTable, sofifa_id, tamanhoPlayersTable)\n",
        "              #if a_player is None: # ISSO AQUI FICOU ESTRANHO, ele tava procunrando umas ids que nao existiam\n",
        "                #print(sofifa_id)\n",
        "              #else:\n",
        "              lastSofifaID = a_player.id\n",
        "              lastPlayer = a_player\n",
        "\n",
        "              # ERRO = nao ta achando jogador\n",
        "              a_player.add_rating(rating)\n",
        "\n",
        "\n",
        "            # Processa dados referentes ao usuario\n",
        "            if user_id in usersList:\n",
        "              # procura na tabela hash de usuarios\n",
        "              user = buscaHash(usersTable, user_id, tamanhoUsersTable)\n",
        "              # de qualquer forma, adiciona as avaliacoes no user\n",
        "              user.add_ratedPlayer(a_player) #adiciona o rated player\n",
        "              user.add_playerRating(rating) #adiciona o rating\n",
        "            else: # se o usuario nao consta na lista ainda\n",
        "              usersList.add(user_id) # adiciona no set\n",
        "              # cria nova instancia\n",
        "              user = User(user_id)\n",
        "              # de qualquer forma, adiciona as avaliacoes no user\n",
        "              user.add_ratedPlayer(a_player) #adiciona o rated player\n",
        "              user.add_playerRating(rating) #adiciona o rating\n",
        "              # adiciona na Hash Table de usuarios\n",
        "              insereHash(usersTable,user_id,user,tamanhoUsersTable)\n",
        "\n",
        "\n"
      ],
      "metadata": {
        "id": "E8i81qB6ekOn"
      },
      "execution_count": null,
      "outputs": []
    },
    {
      "cell_type": "code",
      "source": [
        "#   test para tentar entender O QUE TA ERRADO\n",
        "# FUNCAO PARA LER A TABELA DE RATINGS E INSERIR OS VALORES NAS ENTIDADES APROPRIADAS\n",
        "# MAIS OU MENOS\n",
        "# TEM ALGO DE ERRADO AQUI!! !!!!!!!!\n",
        "#\n",
        "\n",
        "def readRatings_csv_test(file):\n",
        "  global lastSofifaId, lastPlayer, playersTable, usersTable, usersList, tamanhoPlayersTable, tamanhoUsersTable\n",
        "\n",
        "  with open(file, newline='') as csvfile:\n",
        "        reader = csv.reader(csvfile) # Le o CSV\n",
        "        next(reader)  # Pular a primeira linha\n",
        "\n",
        "        # percorre os dados\n",
        "        for row in reader:\n",
        "          #if len(row) == 3:\n",
        "            user_id = int(row[0]) # primeiro elemento da linha\n",
        "            sofifa_id = int(row[1]) # segundo elemento da linha\n",
        "            rating = float(row[2]) # terceiro elemento da linha\n",
        "\n",
        "            # confere valores recebidos\n",
        "            #if sofifa_id == lastSofifaId:\n",
        "              #player = lastPlayer\n",
        "            #else:\n",
        "            # procura o jogador\n",
        "            a_player = buscaHash(playersTable, sofifa_id, tamanhoPlayersTable)\n",
        "            a_player.add_rating(rating)\n",
        "\n",
        "\n",
        "            # Processa dados referentes ao usuario\n",
        "            if user_id in usersList:\n",
        "              # procura na tabela hash de usuarios\n",
        "              user = buscaHash(usersTable, user_id, tamanhoUsersTable)\n",
        "              # de qualquer forma, adiciona as avaliacoes no user\n",
        "              user.add_ratedPlayer(a_player) #adiciona o rated player\n",
        "              user.add_playerRating(rating) #adiciona o rating\n",
        "            else: # se o usuario nao consta na lista ainda\n",
        "              usersList.add(user_id) # adiciona no set\n",
        "              # cria nova instancia\n",
        "              user = User(user_id)\n",
        "              # de qualquer forma, adiciona as avaliacoes no user\n",
        "              user.add_ratedPlayer(a_player) #adiciona o rated player\n",
        "              user.add_playerRating(rating) #adiciona o rating\n",
        "              # adiciona na Hash Table de usuarios\n",
        "              insereHash(usersTable,user_id,user,tamanhoUsersTable)\n",
        "\n",
        "\n"
      ],
      "metadata": {
        "id": "B-12-95aob72"
      },
      "execution_count": null,
      "outputs": []
    },
    {
      "cell_type": "code",
      "source": [
        "'39475' in usersList"
      ],
      "metadata": {
        "colab": {
          "base_uri": "https://localhost:8080/",
          "height": 175
        },
        "id": "9-5b7McOgr12",
        "outputId": "81a8b229-4d9e-4352-c3f2-2e62d1c218aa"
      },
      "execution_count": null,
      "outputs": [
        {
          "output_type": "error",
          "ename": "NameError",
          "evalue": "ignored",
          "traceback": [
            "\u001b[0;31m---------------------------------------------------------------------------\u001b[0m",
            "\u001b[0;31mNameError\u001b[0m                                 Traceback (most recent call last)",
            "\u001b[0;32m<ipython-input-8-415da4e57995>\u001b[0m in \u001b[0;36m<cell line: 1>\u001b[0;34m()\u001b[0m\n\u001b[0;32m----> 1\u001b[0;31m \u001b[0;34m'39475'\u001b[0m \u001b[0;32min\u001b[0m \u001b[0musersList\u001b[0m\u001b[0;34m\u001b[0m\u001b[0;34m\u001b[0m\u001b[0m\n\u001b[0m",
            "\u001b[0;31mNameError\u001b[0m: name 'usersList' is not defined"
          ]
        }
      ]
    },
    {
      "cell_type": "code",
      "source": [
        "# FUNCAO PARA LER AS TAGS\n",
        "\n",
        "def readTags_csv(file):\n",
        "  global lastSofifaId, lastPlayer, playersTable, tamanhoPlayersTable\n",
        "\n",
        "  with open(file, newline='') as csvfile:\n",
        "        reader = csv.reader(csvfile)\n",
        "        next(reader)  # Pular a primeira linha\n",
        "\n",
        "        for row in reader:\n",
        "            sofifa_id = row[1]\n",
        "            tag = row[2]\n",
        "\n",
        "            # confere valores recebidos\n",
        "            if sofifa_id == lastSofifaId:\n",
        "              player = lastPlayer\n",
        "            else:\n",
        "              player = buscaHash(playersTable, int(sofifa_id), tamanhoPlayersTable)\n",
        "              lastSofifaId = sofifa_id\n",
        "              lastPlayer = player\n",
        "\n",
        "            player.add_tag(tag) # adiciona a tag\n",
        "\n"
      ],
      "metadata": {
        "id": "NVsYW-1ziAeQ"
      },
      "execution_count": null,
      "outputs": []
    },
    {
      "cell_type": "code",
      "source": [
        "# TABELA HASH - IMPLEMENTACAO\n",
        "# O tamanho da tabela M e variavel e deve ser informado na construcao\n",
        "# A tabela hash deve armazenar registros compostos de uma chave identificadora e dados satelites associados\n",
        "# Tarefas para implementacao:\n",
        "# Escolha uma funcao de hash para mapear a chave de cada registro para um inteiro entre 0 e M −1;\n",
        "# Implemente o metodo de resolucao de conflitos de enderecamento fechado com listas encadeadas;\n",
        "# Implemente a operacao de insercao de um elemento na tabela hash;\n",
        "# Implemente a operacao de busca de um nome na tabela hash"
      ],
      "metadata": {
        "id": "RPgFWmMTvrcI"
      },
      "execution_count": null,
      "outputs": []
    },
    {
      "cell_type": "code",
      "source": [
        "def funcaoPolinomial(id, tamanho):\n",
        "    p = 53\n",
        "    m = tamanho\n",
        "    power_of_p = 1\n",
        "    hash_key = 0\n",
        "\n",
        "    while id > 0:\n",
        "        hash_key = ((hash_key + (id % 10) * power_of_p) % m)\n",
        "        power_of_p = (power_of_p * p) % m\n",
        "        id //= 10\n",
        "\n",
        "    return int(hash_key)"
      ],
      "metadata": {
        "id": "wu1_4n9cyJcm"
      },
      "execution_count": null,
      "outputs": []
    },
    {
      "cell_type": "code",
      "source": [
        "# TALVEZ FAZER UMA FUNCAO HASH MAIS SIMPLES\n"
      ],
      "metadata": {
        "id": "hVNcj9AuS_kq"
      },
      "execution_count": null,
      "outputs": []
    },
    {
      "cell_type": "code",
      "source": [
        "# Operacao de Insercao na Tabela Hash(com listas encadeadas)\n",
        "\n",
        "def insereHash(tabela, chave, valor, tamanho):\n",
        "  # calcula a funcao hash\n",
        "  hash_key = funcaoPolinomial(chave, tamanho)\n",
        "\n",
        "  if tabela[hash_key] is None:\n",
        "      tabela[hash_key] = []\n",
        "\n",
        "  # adiciona elemento\n",
        "  tabela[hash_key].append(valor)\n",
        "\n"
      ],
      "metadata": {
        "id": "Kmut-gpNR6py"
      },
      "execution_count": null,
      "outputs": []
    },
    {
      "cell_type": "code",
      "source": [
        "# Operacao de Busca\n",
        "# A funcao de busca recebe uma tabela hash, uma chave para buscar e o tamanho da tabela hash\n",
        "# A funcao procura o elemento com a chave na tabela hash\n",
        "# Se o elemento for encontrado, retorna o elemento\n",
        "# Caso contrario, retorna -1\n",
        "\n",
        "def buscaHash(tabela, chave, size):\n",
        "    # Calcula hash\n",
        "    i = funcaoPolinomial(chave, size)\n",
        "\n",
        "    # Acha a posicao correta\n",
        "    while tabela[i] is not None:\n",
        "      # percorre os itens daquela posicao da tabela\n",
        "      for item in tabela[i]:\n",
        "        # se encontrar o item com a chave correta\n",
        "        if item.id == chave:\n",
        "          # retorna o resultado\n",
        "          resultado = item\n",
        "          return resultado\n",
        "      # retorna -1 se foi um miss (o elemento nao foi encontrado na lista da sua posicao na tabela hash)\n",
        "      #resultado -1\n",
        "      #return resultado\n",
        "\n",
        "    # retorna -1 se foi um miss (posicao vazia)\n",
        "    #resultado = -1\n",
        "    #return resultado"
      ],
      "metadata": {
        "id": "TbZ_kMPFKB1z"
      },
      "execution_count": null,
      "outputs": []
    },
    {
      "cell_type": "code",
      "source": [
        "# ARVORE TRIE - IMPLEMENTACAO (inspirada no exemplo de implementacao em C++ disponivel no Moodle da disciplina)\n",
        "\n",
        "# definicao da class TrieNode\n",
        "class TrieNode:\n",
        "    def __init__(self, char):\n",
        "        self.char = char\n",
        "        self.children = [None] * 26\n",
        "        self.isEndOfWord = False\n",
        "        self.player = None\n",
        "\n",
        "# Retorna novo trie node\n",
        "def get_node(char=None):\n",
        "    return TrieNode(char)\n",
        "\n",
        "# Funcao para inserir nova chave na arvore Trie\n",
        "def insertTrie(key, instance):\n",
        "    global root\n",
        "\n",
        "    pCrawl = root # acessa raiz\n",
        "\n",
        "    for char in key:\n",
        "        charInChildren = False # premissa = nao encontrou char\n",
        "\n",
        "        for child in pCrawl.children: # percorre os filhos\n",
        "\n",
        "          if child != None and child.char == char: # verifica se tem um igual\n",
        "            pCrawl = child # seta pCrawl como a child\n",
        "            charInChildren = True # indica que encontrou\n",
        "            break # para de percorrer\n",
        "\n",
        "        if charInChildren == False: # se nao encontrou\n",
        "          newNode = TrieNode(char) # novo no para a letra\n",
        "          pCrawl.children.append(newNode)\n",
        "          pCrawl = newNode # seta pCrawl como novo no\n",
        "\n",
        "    pCrawl.isEndOfWord = True # seta como fim de palavra\n",
        "    pCrawl.player = instance # coloca o jogador no no\n",
        "\n",
        "\n",
        "# Funcao para buscar chave na arvore Trie # NAO USAR\n",
        "def searchTrie(root, key):\n",
        "    pCrawl = root\n",
        "    for char in key:\n",
        "        index = ord(char) - ord('a')\n",
        "        if not pCrawl.children[index]:\n",
        "            return False\n",
        "        pCrawl = pCrawl.children[index]\n",
        "    return pCrawl is not None and pCrawl.isEndOfWord\n",
        "\n",
        "\n",
        "# FUNCAO PARA PROCURAR O PREFIXO NA TRIE\n",
        "\n",
        "def searchPrefix(prefix):\n",
        "  global root\n",
        "\n",
        "  pCrawl = root # comeca pela raiz\n",
        "\n",
        "  if len(root.children) == 0: # nao tem filhos\n",
        "    print('None found')\n",
        "    return None\n",
        "\n",
        "  # se tem filhos\n",
        "  for char in prefix:\n",
        "    found = False\n",
        "\n",
        "    for child in pCrawl.children:\n",
        "      if child is not None:\n",
        "        if child.char == char:\n",
        "            found = True\n",
        "            pCrawl = child\n",
        "            break\n",
        "    if found == False:\n",
        "      print('None found')\n",
        "      return None\n",
        "\n",
        "  return pCrawl\n",
        "\n"
      ],
      "metadata": {
        "id": "7eJXq4TupWSU"
      },
      "execution_count": null,
      "outputs": []
    },
    {
      "cell_type": "code",
      "source": [
        "# FUNCAO DE BUSCA GERAL\n",
        "\n",
        "def searchInTrie(name):\n",
        "  playersFound = findPlayers(name)\n",
        "\n",
        "  if playersFound == None:\n",
        "    print('None found!!!!')\n",
        "    return\n",
        "  else:\n",
        "    printPlayers(playersFound)"
      ],
      "metadata": {
        "id": "Ab264OWn-cbQ"
      },
      "execution_count": null,
      "outputs": []
    },
    {
      "cell_type": "code",
      "source": [
        "# FUNCAO PARA JUNTAR TODOS OS JOGADORES ENCONTRADOS COM NOME/PREFIXO\n",
        "\n",
        "def findPlayers(name):\n",
        "  playersList = []\n",
        "\n",
        "  lastNode = searchPrefix(name)\n",
        "\n",
        "  if lastNode == None:\n",
        "    return None\n",
        "  else:\n",
        "    completeList = searchTrieRec(lastNode, playersList) # chama busca recursiva\n",
        "    return completeList\n",
        "\n"
      ],
      "metadata": {
        "id": "cFpxAxui-jW9"
      },
      "execution_count": null,
      "outputs": []
    },
    {
      "cell_type": "code",
      "source": [
        "# FUNCAO DE BUSCA RECURSIVA\n",
        "\n",
        "def searchTrieRec(node,playersList):\n",
        "  if node is not None:\n",
        "    if node.isEndOfWord == True:\n",
        "      playersList.append(node.player) # junta o jogador\n",
        "    else:\n",
        "      for child in node.children:\n",
        "        searchTrieRec(child,playersList)\n",
        "    return playersList # retorna a lista\n"
      ],
      "metadata": {
        "id": "a1nmRQZY_BR9"
      },
      "execution_count": null,
      "outputs": []
    },
    {
      "cell_type": "code",
      "source": [
        "# QUICKSORT - para ordenar as top reviews"
      ],
      "metadata": {
        "id": "xAaPVJPzTzSm"
      },
      "execution_count": null,
      "outputs": []
    },
    {
      "cell_type": "code",
      "source": [
        "# PARTICIONAMENTO 1\n",
        "# PARTICIONAMENTO LOMUTO\n",
        "\n",
        "def particionamentoLomuto(lista, esq, dir):\n",
        "\n",
        "    pivo = lista[esq]\n",
        "    indice = esq + 1 #indice do menor\n",
        "\n",
        "    i = esq + 1\n",
        "    while (i <= dir):\n",
        "        # se o elemento atual for menor ou igual ao pivo\n",
        "          if lista[i][1] > pivo[1]:\n",
        "            lista[i], lista[indice] = lista[indice], lista[i]\n",
        "            indice += 1\n",
        "          i += 1\n",
        "\n",
        "    # troca de posicao\n",
        "    lista[esq], lista[indice-1] = lista[indice-1], lista[esq]\n",
        "\n",
        "    return (indice-1)\n",
        "\n",
        "\n"
      ],
      "metadata": {
        "id": "PjREWiJMUKRP"
      },
      "execution_count": null,
      "outputs": []
    },
    {
      "cell_type": "code",
      "source": [
        "# QUICKSORT COM AS LISTAS\n",
        "def quicksort(instancesList, valuesList):\n",
        "\n",
        "    listToSort = []\n",
        "\n",
        "    i = 0\n",
        "    for player in instancesList:\n",
        "        listToSort.append([player, valuesList[i]])\n",
        "        i += 1\n",
        "\n",
        "    quicksortRecursiva(listToSort, 0, (len(listToSort) - 1))\n",
        "\n",
        "    sortedInstances = []\n",
        "    sortedValues= []\n",
        "\n",
        "    for pair in listToSort:\n",
        "        sortedInstances.append(pair[0])\n",
        "        sortedValues.append(pair[1])\n",
        "\n",
        "    return sortedInstances, sortedValues\n",
        "\n",
        "# Recursao do quicksort\n",
        "def quicksortRecursiva(listToSort, esq, dir):\n",
        "    if dir > esq:\n",
        "        indicePivo = particionamentoLomuto(listToSort, esq, dir)\n",
        "        quicksortRecursiva(listToSort, esq, indicePivo - 1)\n",
        "        quicksortRecursiva(listToSort, indicePivo + 1, dir)\n"
      ],
      "metadata": {
        "id": "a20TChvPXDt5"
      },
      "execution_count": null,
      "outputs": []
    },
    {
      "cell_type": "code",
      "source": [
        "# FUNCAO PARA IMPRIMIR INFORMACOES DOS JOGADORES\n",
        "\n",
        "def printPlayers(playersList):\n",
        "  # Print header\n",
        "  print(\"{:<11} {:<40} {:<20} {:<10} {:<10}\".format(\"SOFIFA_ID\", \"NAME\", \"POSITIONS\", \"RATING\", \"COUNT\"))\n",
        "  print(\"=\"*90)\n",
        "  for player in playersList:\n",
        "      print(\"{:<11} {:40} {:<20} {:<10} {:<10}\".format(str(player.id), player.name, str(player.player_positions), str(player.globalRating), str(player.count)))\n",
        "\n",
        "      #print('sofifa_id: ' + str(player.id))\n",
        "      #print('name: ' + player.name)\n",
        "      #print('player postions: ' + str(player.player_positions))\n",
        "      #print('rating: ' + str(player.globalRating))\n",
        "      #print('count: ' + str(player.count))"
      ],
      "metadata": {
        "id": "7ahWnRDX_6vC"
      },
      "execution_count": null,
      "outputs": []
    },
    {
      "cell_type": "code",
      "source": [
        "from google.colab import drive\n",
        "drive.mount('/content/drive')"
      ],
      "metadata": {
        "id": "WIMdW-Qsl0kQ",
        "outputId": "0b930f8d-1303-4cab-c19b-6ada507563d4",
        "colab": {
          "base_uri": "https://localhost:8080/",
          "height": 338
        }
      },
      "execution_count": null,
      "outputs": [
        {
          "output_type": "error",
          "ename": "MessageError",
          "evalue": "ignored",
          "traceback": [
            "\u001b[0;31m---------------------------------------------------------------------------\u001b[0m",
            "\u001b[0;31mMessageError\u001b[0m                              Traceback (most recent call last)",
            "\u001b[0;32m<ipython-input-21-d5df0069828e>\u001b[0m in \u001b[0;36m<cell line: 2>\u001b[0;34m()\u001b[0m\n\u001b[1;32m      1\u001b[0m \u001b[0;32mfrom\u001b[0m \u001b[0mgoogle\u001b[0m\u001b[0;34m.\u001b[0m\u001b[0mcolab\u001b[0m \u001b[0;32mimport\u001b[0m \u001b[0mdrive\u001b[0m\u001b[0;34m\u001b[0m\u001b[0;34m\u001b[0m\u001b[0m\n\u001b[0;32m----> 2\u001b[0;31m \u001b[0mdrive\u001b[0m\u001b[0;34m.\u001b[0m\u001b[0mmount\u001b[0m\u001b[0;34m(\u001b[0m\u001b[0;34m'/content/drive'\u001b[0m\u001b[0;34m)\u001b[0m\u001b[0;34m\u001b[0m\u001b[0;34m\u001b[0m\u001b[0m\n\u001b[0m",
            "\u001b[0;32m/usr/local/lib/python3.10/dist-packages/google/colab/drive.py\u001b[0m in \u001b[0;36mmount\u001b[0;34m(mountpoint, force_remount, timeout_ms, readonly)\u001b[0m\n\u001b[1;32m    101\u001b[0m \u001b[0;32mdef\u001b[0m \u001b[0mmount\u001b[0m\u001b[0;34m(\u001b[0m\u001b[0mmountpoint\u001b[0m\u001b[0;34m,\u001b[0m \u001b[0mforce_remount\u001b[0m\u001b[0;34m=\u001b[0m\u001b[0;32mFalse\u001b[0m\u001b[0;34m,\u001b[0m \u001b[0mtimeout_ms\u001b[0m\u001b[0;34m=\u001b[0m\u001b[0;36m120000\u001b[0m\u001b[0;34m,\u001b[0m \u001b[0mreadonly\u001b[0m\u001b[0;34m=\u001b[0m\u001b[0;32mFalse\u001b[0m\u001b[0;34m)\u001b[0m\u001b[0;34m:\u001b[0m\u001b[0;34m\u001b[0m\u001b[0;34m\u001b[0m\u001b[0m\n\u001b[1;32m    102\u001b[0m   \u001b[0;34m\"\"\"Mount your Google Drive at the specified mountpoint path.\"\"\"\u001b[0m\u001b[0;34m\u001b[0m\u001b[0;34m\u001b[0m\u001b[0m\n\u001b[0;32m--> 103\u001b[0;31m   return _mount(\n\u001b[0m\u001b[1;32m    104\u001b[0m       \u001b[0mmountpoint\u001b[0m\u001b[0;34m,\u001b[0m\u001b[0;34m\u001b[0m\u001b[0;34m\u001b[0m\u001b[0m\n\u001b[1;32m    105\u001b[0m       \u001b[0mforce_remount\u001b[0m\u001b[0;34m=\u001b[0m\u001b[0mforce_remount\u001b[0m\u001b[0;34m,\u001b[0m\u001b[0;34m\u001b[0m\u001b[0;34m\u001b[0m\u001b[0m\n",
            "\u001b[0;32m/usr/local/lib/python3.10/dist-packages/google/colab/drive.py\u001b[0m in \u001b[0;36m_mount\u001b[0;34m(mountpoint, force_remount, timeout_ms, ephemeral, readonly)\u001b[0m\n\u001b[1;32m    130\u001b[0m   )\n\u001b[1;32m    131\u001b[0m   \u001b[0;32mif\u001b[0m \u001b[0mephemeral\u001b[0m\u001b[0;34m:\u001b[0m\u001b[0;34m\u001b[0m\u001b[0;34m\u001b[0m\u001b[0m\n\u001b[0;32m--> 132\u001b[0;31m     _message.blocking_request(\n\u001b[0m\u001b[1;32m    133\u001b[0m         \u001b[0;34m'request_auth'\u001b[0m\u001b[0;34m,\u001b[0m \u001b[0mrequest\u001b[0m\u001b[0;34m=\u001b[0m\u001b[0;34m{\u001b[0m\u001b[0;34m'authType'\u001b[0m\u001b[0;34m:\u001b[0m \u001b[0;34m'dfs_ephemeral'\u001b[0m\u001b[0;34m}\u001b[0m\u001b[0;34m,\u001b[0m \u001b[0mtimeout_sec\u001b[0m\u001b[0;34m=\u001b[0m\u001b[0;32mNone\u001b[0m\u001b[0;34m\u001b[0m\u001b[0;34m\u001b[0m\u001b[0m\n\u001b[1;32m    134\u001b[0m     )\n",
            "\u001b[0;32m/usr/local/lib/python3.10/dist-packages/google/colab/_message.py\u001b[0m in \u001b[0;36mblocking_request\u001b[0;34m(request_type, request, timeout_sec, parent)\u001b[0m\n\u001b[1;32m    174\u001b[0m       \u001b[0mrequest_type\u001b[0m\u001b[0;34m,\u001b[0m \u001b[0mrequest\u001b[0m\u001b[0;34m,\u001b[0m \u001b[0mparent\u001b[0m\u001b[0;34m=\u001b[0m\u001b[0mparent\u001b[0m\u001b[0;34m,\u001b[0m \u001b[0mexpect_reply\u001b[0m\u001b[0;34m=\u001b[0m\u001b[0;32mTrue\u001b[0m\u001b[0;34m\u001b[0m\u001b[0;34m\u001b[0m\u001b[0m\n\u001b[1;32m    175\u001b[0m   )\n\u001b[0;32m--> 176\u001b[0;31m   \u001b[0;32mreturn\u001b[0m \u001b[0mread_reply_from_input\u001b[0m\u001b[0;34m(\u001b[0m\u001b[0mrequest_id\u001b[0m\u001b[0;34m,\u001b[0m \u001b[0mtimeout_sec\u001b[0m\u001b[0;34m)\u001b[0m\u001b[0;34m\u001b[0m\u001b[0;34m\u001b[0m\u001b[0m\n\u001b[0m",
            "\u001b[0;32m/usr/local/lib/python3.10/dist-packages/google/colab/_message.py\u001b[0m in \u001b[0;36mread_reply_from_input\u001b[0;34m(message_id, timeout_sec)\u001b[0m\n\u001b[1;32m    101\u001b[0m     ):\n\u001b[1;32m    102\u001b[0m       \u001b[0;32mif\u001b[0m \u001b[0;34m'error'\u001b[0m \u001b[0;32min\u001b[0m \u001b[0mreply\u001b[0m\u001b[0;34m:\u001b[0m\u001b[0;34m\u001b[0m\u001b[0;34m\u001b[0m\u001b[0m\n\u001b[0;32m--> 103\u001b[0;31m         \u001b[0;32mraise\u001b[0m \u001b[0mMessageError\u001b[0m\u001b[0;34m(\u001b[0m\u001b[0mreply\u001b[0m\u001b[0;34m[\u001b[0m\u001b[0;34m'error'\u001b[0m\u001b[0;34m]\u001b[0m\u001b[0;34m)\u001b[0m\u001b[0;34m\u001b[0m\u001b[0;34m\u001b[0m\u001b[0m\n\u001b[0m\u001b[1;32m    104\u001b[0m       \u001b[0;32mreturn\u001b[0m \u001b[0mreply\u001b[0m\u001b[0;34m.\u001b[0m\u001b[0mget\u001b[0m\u001b[0;34m(\u001b[0m\u001b[0;34m'data'\u001b[0m\u001b[0;34m,\u001b[0m \u001b[0;32mNone\u001b[0m\u001b[0;34m)\u001b[0m\u001b[0;34m\u001b[0m\u001b[0;34m\u001b[0m\u001b[0m\n\u001b[1;32m    105\u001b[0m \u001b[0;34m\u001b[0m\u001b[0m\n",
            "\u001b[0;31mMessageError\u001b[0m: Error: credential propagation was unsuccessful"
          ]
        }
      ]
    },
    {
      "cell_type": "code",
      "source": [
        "# ARQUIVOS DE TESTE - Criacao da tabela Hash a partir dos dados dos jogadores - retirado do Lab4 - Tabelas Hash\n",
        "# A implementacao da tabela Hash deve ser testada com um arquivo .CSV contendo descricoes de 18944 nomes de\n",
        "# jogadores de futebol. O arquivo e disponibilizado no Moodle com o nome de players-fifa.csv. A primeira linha do\n",
        "# arquivo contem a descricao das colunas, seguidos dos dados dos jogadores, um por linha\n",
        "# Cada jogador e identificado por uma chave inteira (campo sofifa.id), seguido do nome e de uma lista de\n",
        "# posicoes que o jogador atua"
      ],
      "metadata": {
        "id": "3fHCvVfu11C8"
      },
      "execution_count": null,
      "outputs": []
    },
    {
      "cell_type": "code",
      "source": [
        "# Arquivo minirating.csv om 10,000 avaliações ao invés das 20 milhões para ajudar nos testes\n",
        "minirating = readRatings_csv('/content/minirating.csv', 'rating')\n",
        "#print(minirating)"
      ],
      "metadata": {
        "id": "bTOEbbDxtm9R"
      },
      "execution_count": null,
      "outputs": []
    },
    {
      "cell_type": "code",
      "source": [
        "# TABELA HASH PARA AS AVALIACOES DE CADA JOGADOR:\n",
        "# Guardar em uma TABELA HASH as medias de avaliacoes e o total de avaliacoes para cada jogador."
      ],
      "metadata": {
        "id": "jKoqwG0sKN90"
      },
      "execution_count": null,
      "outputs": []
    },
    {
      "cell_type": "code",
      "source": [
        "# 2. PESQUISAS"
      ],
      "metadata": {
        "id": "8ypKcyN7JeZB"
      },
      "execution_count": null,
      "outputs": []
    },
    {
      "cell_type": "code",
      "source": [
        "# 2.1 Pesquisas sobre os nomes de jogadores\n",
        "# Esta pesquisa tem por objetivo retornar a lista de jogadores cujo nome começa com um texto\n",
        "# que pode ser o prefixo ou texto completo do nome de um jogador. Todos os jogadores que\n",
        "# satisfizerem o texto de consulta devem ser retornados, junto com a lista de posicoes dos\n",
        "# jogadores, avaliacao media e numero de avaliacoes. A sintaxe dessa consulta eh:\n",
        "# A consulta pode ser feita diretamente pelo console, e o resultado também pode ser impresso\n",
        "# no console. Tente deixar o texto a ser impresso compacto.\n",
        "\n",
        "# Exemplo: $ player Fer\n",
        "# Retornar: sofifa_id, name, player_positions, rating, count dos jogadores cujos nomes se enquadram na pesquisa"
      ],
      "metadata": {
        "id": "TMu0lA8jJgzN"
      },
      "execution_count": null,
      "outputs": []
    },
    {
      "cell_type": "code",
      "source": [
        "# exemplo:\n",
        "searchInTrie('Lionel')"
      ],
      "metadata": {
        "id": "094rjSv95XHX"
      },
      "execution_count": null,
      "outputs": []
    },
    {
      "cell_type": "code",
      "source": [
        "searchInTrie('Fer')"
      ],
      "metadata": {
        "id": "cCo0KCkbIXCW",
        "outputId": "97eca5af-a4dd-4443-cee6-2947019edb7e",
        "colab": {
          "base_uri": "https://localhost:8080/"
        }
      },
      "execution_count": null,
      "outputs": [
        {
          "output_type": "stream",
          "name": "stdout",
          "text": [
            "sofifa_id: 135507\n",
            "name: Fernando Luiz Rosa\n",
            "player postions: ['CB', 'CDM']\n",
            "rating: 3.7202436738519213\n",
            "count: 6402\n",
            "sofifa_id: 212618\n",
            "name: Fernando Luis Aristeguieta de Luca\n",
            "player postions: ['ST']\n",
            "rating: 0.0\n",
            "count: 0\n",
            "sofifa_id: 240482\n",
            "name: Fernando Luis Bersano\n",
            "player postions: ['LB']\n",
            "rating: 0.0\n",
            "count: 0\n",
            "sofifa_id: 202642\n",
            "name: Fernando Lucas Martins\n",
            "player postions: ['CDM', 'CM']\n",
            "rating: 0.0\n",
            "count: 0\n",
            "sofifa_id: 178614\n",
            "name: Fernando Lopes dos Santos Varela\n",
            "player postions: ['CB']\n",
            "rating: 0.0\n",
            "count: 0\n",
            "sofifa_id: 184134\n",
            "name: Fernando Francisco Reges\n",
            "player postions: ['CDM', 'CM']\n",
            "rating: 0.0\n",
            "count: 0\n",
            "sofifa_id: 228748\n",
            "name: Fernando Fabian Fernandez Acosta\n",
            "player postions: ['ST']\n",
            "rating: 0.0\n",
            "count: 0\n",
            "sofifa_id: 209960\n",
            "name: Fernando Pacheco Flores\n",
            "player postions: ['GK']\n",
            "rating: 0.0\n",
            "count: 0\n",
            "sofifa_id: 214916\n",
            "name: Fernando Patricio Cordero Fonseca\n",
            "player postions: ['LB']\n",
            "rating: 0.0\n",
            "count: 0\n",
            "sofifa_id: 207707\n",
            "name: Fernando Marcal de Oliveira\n",
            "player postions: ['LB', 'CB']\n",
            "rating: 0.0\n",
            "count: 0\n",
            "sofifa_id: 205288\n",
            "name: Fernando Martinez Rubio\n",
            "player postions: ['GK']\n",
            "rating: 0.0\n",
            "count: 0\n",
            "sofifa_id: 254765\n",
            "name: Fernando Martinez Rojas\n",
            "player postions: ['CM']\n",
            "rating: 0.0\n",
            "count: 0\n",
            "sofifa_id: 178628\n",
            "name: Fernando Martin Forestieri\n",
            "player postions: ['ST', 'CAM', 'LW']\n",
            "rating: 0.0\n",
            "count: 0\n",
            "sofifa_id: 232670\n",
            "name: Fernando Matias Zampedri\n",
            "player postions: ['ST']\n",
            "rating: 0.0\n",
            "count: 0\n",
            "sofifa_id: 238507\n",
            "name: Fernando Manuel Ferreira Fonseca\n",
            "player postions: ['RB']\n",
            "rating: 0.0\n",
            "count: 0\n",
            "sofifa_id: 229488\n",
            "name: Fernando Madrigal Gonzalez\n",
            "player postions: ['CM']\n",
            "rating: 0.0\n",
            "count: 0\n",
            "sofifa_id: 215985\n",
            "name: Fernando Monetti\n",
            "player postions: ['GK']\n",
            "rating: 0.0\n",
            "count: 0\n",
            "sofifa_id: 234391\n",
            "name: Fernando Medeiros da Silva\n",
            "player postions: ['CB', 'CDM']\n",
            "rating: 0.0\n",
            "count: 0\n",
            "sofifa_id: 240289\n",
            "name: Fernando Calero Villa\n",
            "player postions: ['CB']\n",
            "rating: 0.0\n",
            "count: 0\n",
            "sofifa_id: 216052\n",
            "name: Fernando Coniglio\n",
            "player postions: ['ST']\n",
            "rating: 0.0\n",
            "count: 0\n",
            "sofifa_id: 238406\n",
            "name: Fernando Cosciuc\n",
            "player postions: ['CB']\n",
            "rating: 0.0\n",
            "count: 0\n",
            "sofifa_id: 240471\n",
            "name: Fernando Gorriaran Fontes\n",
            "player postions: ['CM', 'CDM']\n",
            "rating: 0.0\n",
            "count: 0\n",
            "sofifa_id: 215243\n",
            "name: Fernando Gaston Elizari Sedano\n",
            "player postions: ['CAM', 'ST']\n",
            "rating: 0.0\n",
            "count: 0\n",
            "sofifa_id: 162131\n",
            "name: Fernando Javier Llorente Torres\n",
            "player postions: ['ST']\n",
            "rating: 0.0\n",
            "count: 0\n",
            "sofifa_id: 233569\n",
            "name: Fernando Javier Saucedo Pereyra\n",
            "player postions: ['CM', 'CDM']\n",
            "rating: 0.0\n",
            "count: 0\n",
            "sofifa_id: 211108\n",
            "name: Fernando Henrique da Conceicao\n",
            "player postions: ['RW', 'LW', 'CF']\n",
            "rating: 0.0\n",
            "count: 0\n",
            "sofifa_id: 181236\n",
            "name: Fernando Henrique Boldrin\n",
            "player postions: ['CAM', 'RM']\n",
            "rating: 0.0\n",
            "count: 0\n",
            "sofifa_id: 186551\n",
            "name: Fernando Navarro Moran\n",
            "player postions: ['RB']\n",
            "rating: 0.0\n",
            "count: 0\n",
            "sofifa_id: 214986\n",
            "name: Fernando Nicolas Meza\n",
            "player postions: ['CB', 'RB']\n",
            "rating: 0.0\n",
            "count: 0\n",
            "sofifa_id: 252590\n",
            "name: Fernando Nino Rodriguez\n",
            "player postions: ['ST']\n",
            "rating: 0.0\n",
            "count: 0\n",
            "sofifa_id: 165517\n",
            "name: Fernando Ruben Gago\n",
            "player postions: ['CDM', 'CM', 'CB']\n",
            "rating: 0.0\n",
            "count: 0\n",
            "sofifa_id: 213444\n",
            "name: Fernando Ruben Gonzalez Pineda\n",
            "player postions: ['CM', 'CDM']\n",
            "rating: 0.0\n",
            "count: 0\n",
            "sofifa_id: 254725\n",
            "name: Fernando Raul Romero Gonzalez\n",
            "player postions: ['ST']\n",
            "rating: 0.0\n",
            "count: 0\n",
            "sofifa_id: 215155\n",
            "name: Fernando Zuqui\n",
            "player postions: ['CM', 'RM']\n",
            "rating: 0.0\n",
            "count: 0\n",
            "sofifa_id: 251127\n",
            "name: Fernando Torrent Guidi\n",
            "player postions: ['RB']\n",
            "rating: 0.0\n",
            "count: 0\n",
            "sofifa_id: 244389\n",
            "name: Fernando Dos Santos Pedro\n",
            "player postions: ['LM', 'ST']\n",
            "rating: 0.0\n",
            "count: 0\n",
            "sofifa_id: 143587\n",
            "name: Fernando Daniel Belluschi\n",
            "player postions: ['CM', 'CAM']\n",
            "rating: 0.0\n",
            "count: 0\n",
            "sofifa_id: 222379\n",
            "name: Fernando David Arce Juarez\n",
            "player postions: ['CDM', 'CM']\n",
            "rating: 0.0\n",
            "count: 0\n",
            "sofifa_id: 230023\n",
            "name: Fernando David Luna\n",
            "player postions: ['CAM', 'LM', 'RM']\n",
            "rating: 0.0\n",
            "count: 0\n",
            "sofifa_id: 215262\n",
            "name: Fernando Andres Marquez\n",
            "player postions: ['ST']\n",
            "rating: 0.0\n",
            "count: 0\n",
            "sofifa_id: 243591\n",
            "name: Fernando Andrade dos Santos\n",
            "player postions: ['LM', 'ST']\n",
            "rating: 0.0\n",
            "count: 0\n",
            "sofifa_id: 194014\n",
            "name: Fernando Alexander Guerrero Vasquez\n",
            "player postions: ['LM', 'RW', 'RM']\n",
            "rating: 0.0\n",
            "count: 0\n",
            "sofifa_id: 215118\n",
            "name: Fernando Alejandro Manriquez Hernandez\n",
            "player postions: ['CM']\n",
            "rating: 0.0\n",
            "count: 0\n",
            "sofifa_id: 255808\n",
            "name: Fernando Agustin Alfaro Bares\n",
            "player postions: ['LM', 'LW']\n",
            "rating: 0.0\n",
            "count: 0\n",
            "sofifa_id: 145996\n",
            "name: Fernando Seoane Antelo\n",
            "player postions: ['CDM', 'CM']\n",
            "rating: 0.0\n",
            "count: 0\n",
            "sofifa_id: 207657\n",
            "name: Fernando Omar Barrientos\n",
            "player postions: ['CM']\n",
            "rating: 0.0\n",
            "count: 0\n",
            "sofifa_id: 239945\n",
            "name: Fernando Beltran Cruz\n",
            "player postions: ['CM', 'CDM']\n",
            "rating: 0.0\n",
            "count: 0\n",
            "sofifa_id: 254754\n",
            "name: Fernando Benitez Aguirre\n",
            "player postions: ['LM']\n",
            "rating: 0.0\n",
            "count: 0\n",
            "sofifa_id: 255803\n",
            "name: Fernando Esekiel Souza Piriz\n",
            "player postions: ['CB']\n",
            "rating: 0.0\n",
            "count: 0\n",
            "sofifa_id: 232136\n",
            "name: Fernand Mayembo\n",
            "player postions: ['CB']\n",
            "rating: 0.0\n",
            "count: 0\n",
            "sofifa_id: 209835\n",
            "name: Fernander Kassai\n",
            "player postions: ['CB']\n",
            "rating: 0.0\n",
            "count: 0\n",
            "sofifa_id: 258882\n",
            "name: Fernan Ferreiroa Lopez\n",
            "player postions: ['CAM', 'CM']\n",
            "rating: 0.0\n",
            "count: 0\n",
            "sofifa_id: 228618\n",
            "name: Ferland Mendy\n",
            "player postions: ['LB']\n",
            "rating: 3.1865248226950356\n",
            "count: 1410\n",
            "sofifa_id: 241461\n",
            "name: Ferran Torres Garcia\n",
            "player postions: ['RM', 'LM', 'CF']\n",
            "rating: 0.0\n",
            "count: 0\n",
            "sofifa_id: 236024\n",
            "name: Ferris N'Goma\n",
            "player postions: ['LM', 'RM', 'CM']\n",
            "rating: 0.0\n",
            "count: 0\n",
            "sofifa_id: 143751\n",
            "name: Ferhat Oztorun\n",
            "player postions: ['LB']\n",
            "rating: 0.0\n",
            "count: 0\n",
            "sofifa_id: 205874\n",
            "name: Ferhat Kaplan\n",
            "player postions: ['GK']\n",
            "rating: 0.0\n",
            "count: 0\n",
            "sofifa_id: 222995\n",
            "name: Ferhat Gorgulu\n",
            "player postions: ['CB']\n",
            "rating: 0.0\n",
            "count: 0\n",
            "sofifa_id: 256977\n",
            "name: Ferhat Saglam\n",
            "player postions: ['RW', 'ST']\n",
            "rating: 0.0\n",
            "count: 0\n",
            "sofifa_id: 205138\n",
            "name: Ferhan Hasani\n",
            "player postions: ['CAM', 'LW']\n",
            "rating: 0.0\n",
            "count: 0\n",
            "sofifa_id: 235152\n",
            "name: Ferdi Erenay Kadoglu\n",
            "player postions: ['CAM', 'RW']\n",
            "rating: 0.0\n",
            "count: 0\n",
            "sofifa_id: 250781\n",
            "name: Ferdinand Oswald\n",
            "player postions: ['GK']\n",
            "rating: 0.0\n",
            "count: 0\n",
            "sofifa_id: 242202\n",
            "name: Ferdy Druijf\n",
            "player postions: ['ST']\n",
            "rating: 0.0\n",
            "count: 0\n",
            "sofifa_id: 255427\n",
            "name: Ferddy Andres Roca Vivancos\n",
            "player postions: ['ST']\n",
            "rating: 0.0\n",
            "count: 0\n"
          ]
        }
      ]
    },
    {
      "cell_type": "code",
      "source": [
        "# Os dados de jogadores nao contem algumas das informacoes a serem retornadas. Por exemplo, deve-se primeiramente guardar em uma TABELA HASH as medias de avaliacoes\n",
        "# e total de avaliacoes para cada jogador. Essas informacoes devem ser calculadas e armazenadas em uma etapa de pre-processamento.\n",
        "# Para responder esta pesquisa, deve-se implementar uma ARVORE TRIE que busca todos os identificadores de\n",
        "# jogadores que correspondem ao nome ou prefixo dado, e com essa lista de identificadores,\n",
        "# buscar na TABELA HASH as informacoes complementares dos jogadores"
      ],
      "metadata": {
        "id": "iAcwwdEFJgrp"
      },
      "execution_count": null,
      "outputs": []
    },
    {
      "cell_type": "code",
      "source": [
        "# TABELA HASH COM A MEDIA DE AVALIACOES E O TOTAL DE AVALIACOES PARA CADA JOGAR"
      ],
      "metadata": {
        "id": "nwilZswS3aKz"
      },
      "execution_count": null,
      "outputs": []
    },
    {
      "cell_type": "code",
      "source": [
        "# ARVORE TRIE COM OS NOMES DOS JOGADORES PARA BUSCAR TODOS OS IDENTIFICADORES DE JOGADORES QUE  CORRESPONDEM AO NOME OU PREFIXO DADO"
      ],
      "metadata": {
        "id": "Os65fk4a3dfL"
      },
      "execution_count": null,
      "outputs": []
    },
    {
      "cell_type": "code",
      "source": [
        "# BUSCAR NA TABELA HASH AS INFORMACOES COMPLEMENTARES DOS JOGADORES"
      ],
      "metadata": {
        "id": "Tme3XxE24vIe"
      },
      "execution_count": null,
      "outputs": []
    },
    {
      "cell_type": "code",
      "source": [
        "# 2.2 Pesquisas sobre jogadores revisados por usuarios\n",
        "# Esta pesquisa deve retornar a lista com no maximo 20 jogadores revisados pelo usuario e para\n",
        "# cada jogador mostrar a nota dada pelo usuario, a media global e a contagem de avaliacoes. A\n",
        "# lista deve ser ordenada pela nota dada pelo usuario de maneira decrescente (maiores notas\n",
        "# primeiro). A sintaxe dessa consulta eh:\n",
        "# user <userID>\n",
        "\n",
        "# Exemplo: $ user 4\n",
        "# Retornar: sofifa_id, name, global_rating, count, rating dos jogadores que o usuario revisou\n",
        "\n",
        "# Os dados de entrada nao possuem diretamente as informacoes de usuarios\n",
        "# prontas para o retorno dessa pesquisa. Estas informacoes estao colocadas no arquivo\n",
        "# rating.csv. Deve-se implementar uma estrutura de dados (livre) para calcular e agregar em\n",
        "# pre-processamento as informações por usuario. Com essa estrutura construida, para responder\n",
        "# essa pesquisa basta consultar as entradas pelo identificador do usuario e retornar a lista de\n",
        "# jogadores que esse usuario revisou e suas informacoes adicionais."
      ],
      "metadata": {
        "id": "YsVXnZnZJ_MN"
      },
      "execution_count": null,
      "outputs": []
    },
    {
      "cell_type": "code",
      "source": [
        "# FUNCAO PARA PROCURAR AS REVIEWS DE UM USUARIO\n",
        "# A funcao recebe um usuario\n",
        "def searchUserReviews(user_id):\n",
        "  global usersTable, tamanhoPlayersTable\n",
        "\n",
        "  selectedUser = buscaHash(usersTable, int(user_id), tamanhoUsersTable)\n",
        "\n",
        "  if selectedUser == None:  # usuario nao encontrado\n",
        "    return None\n",
        "  else:\n",
        "    # seleciona as informacoes do usuario\n",
        "    playersReviewed = selectedUser.ratedPlayers\n",
        "    playersRatings = selectedUser.ratings\n",
        "\n",
        "    sortedPlayersReviewed, sortedPlayersRatings = quicksort(playersReviewed,playersRatings)\n",
        "\n",
        "    top20playersReviewed = []\n",
        "\n",
        "    i = 0\n",
        "    while(len(top20playersReviewed) < 20 and i < len(sortedPlayersReviewed)):\n",
        "      top20playersReviewed.append([sortedPlayersReviewed[i], sortedPlayersRatings[i]])\n",
        "      i += 1\n",
        "\n",
        "    return top20playersReviewed\n"
      ],
      "metadata": {
        "id": "jgOhi3DwN06m"
      },
      "execution_count": null,
      "outputs": []
    },
    {
      "cell_type": "code",
      "source": [
        "# Funcao geral para pegar os dados encontrados das avaliacoes do usuario\n",
        "\n",
        "def getUserReviews(user):\n",
        "  listOfTopPlayers = searchUserReviews(user)\n",
        "\n",
        "  if listOfTopPlayers == None:\n",
        "    return print ('Nao tem avaliacoes')\n",
        "  else:\n",
        "    printPlayersReviewed(listOfTopPlayers)"
      ],
      "metadata": {
        "id": "XZVHefSNRGeg"
      },
      "execution_count": null,
      "outputs": []
    },
    {
      "cell_type": "code",
      "source": [
        "# FUNCAO PARA IMPRIMIR OS TOP 20 JOGADORES AVALIADOS POR UM USUARIO\n",
        "def printPlayersReviewed(listOfPlayersReviewed):\n",
        "    # Print header\n",
        "    print(\"{:<11} {:<40} {:<20} {:<10} {:<10}\".format(\"SOFIFA_ID\", \"NAME\", \" GLOBAL RATING\", \"COUNT\", \"USER RATING\"))\n",
        "    print(\"=\"*90)\n",
        "    for topPlayer, topRating in listOfPlayersReviewed:\n",
        "      print(\"{:<11} {:<40} {:<20} {:<10} {:<10}\".format(str(topPlayer.id), topPlayer.name, str(topPlayer.globalRating), str(topPlayer.count), str(topRating)))\n",
        "\n",
        "      #print('name: ' + topPlayer.name)\n",
        "      #print('global rating: ' + str(topPlayer.globalRating))\n",
        "      #print('count: ' + str(topPlayer.count))\n",
        "      #print('user rating: ' + str(topRating))"
      ],
      "metadata": {
        "id": "8bM8X1WQQdR8"
      },
      "execution_count": null,
      "outputs": []
    },
    {
      "cell_type": "code",
      "source": [
        "getUserReviews('4')"
      ],
      "metadata": {
        "colab": {
          "base_uri": "https://localhost:8080/"
        },
        "id": "DQQ-lhs4_gqQ",
        "outputId": "5d20f67b-a275-439b-ff6b-2bb93060ec12"
      },
      "execution_count": null,
      "outputs": [
        {
          "output_type": "stream",
          "name": "stdout",
          "text": [
            "1sofifa_id: 199206\n",
            "name: Domagoj Vida\n",
            "global rating: 3.5777643438118267\n",
            "count: 9098\n",
            "user rating: 5.0\n",
            "2sofifa_id: 41\n",
            "name: Andres Iniesta Lujan\n",
            "global rating: 3.8667871900826447\n",
            "count: 9680\n",
            "user rating: 5.0\n",
            "3sofifa_id: 185221\n",
            "name: Luiz Gustavo Dias\n",
            "global rating: 3.612475385150006\n",
            "count: 8633\n",
            "user rating: 5.0\n",
            "4sofifa_id: 168542\n",
            "name: David Josue Jimenez Silva\n",
            "global rating: 3.988069289893312\n",
            "count: 8717\n",
            "user rating: 4.5\n",
            "5sofifa_id: 210513\n",
            "name: Juan Fernando Quintero Paniagua\n",
            "global rating: 3.307441607821836\n",
            "count: 3682\n",
            "user rating: 4.5\n",
            "6sofifa_id: 208830\n",
            "name: Jamie Vardy\n",
            "global rating: 3.7696904247660186\n",
            "count: 6945\n",
            "user rating: 4.5\n",
            "7sofifa_id: 124375\n",
            "name: Burak Ylmaz\n",
            "global rating: 3.268793852322085\n",
            "count: 2993\n",
            "user rating: 4.0\n",
            "8sofifa_id: 232432\n",
            "name: Luka Jovic\n",
            "global rating: 3.0877497827975673\n",
            "count: 1151\n",
            "user rating: 4.0\n",
            "9sofifa_id: 201995\n",
            "name: Felipe Anderson Pereira Gomes\n",
            "global rating: 3.6659735349716445\n",
            "count: 5290\n",
            "user rating: 4.0\n",
            "10sofifa_id: 198658\n",
            "name: Fredrik Midtsjo\n",
            "global rating: 3.2621480910142693\n",
            "count: 5186\n",
            "user rating: 4.0\n",
            "11sofifa_id: 172871\n",
            "name: Jan Bert Lieve Vertonghen\n",
            "global rating: 3.7084517045454546\n",
            "count: 7040\n",
            "user rating: 3.5\n",
            "12sofifa_id: 183899\n",
            "name: Pablo Daniel Piatti\n",
            "global rating: 3.2623752291709107\n",
            "count: 4909\n",
            "user rating: 3.5\n",
            "13sofifa_id: 230201\n",
            "name: Maikel Renan Catarino Fagundes\n",
            "global rating: 3.003807106598985\n",
            "count: 788\n",
            "user rating: 3.5\n",
            "14sofifa_id: 183900\n",
            "name: Diego Perotti\n",
            "global rating: 3.625335511728323\n",
            "count: 8569\n",
            "user rating: 3.5\n",
            "15sofifa_id: 189560\n",
            "name: Vicente Iborra de la Fuente\n",
            "global rating: 3.302248339294839\n",
            "count: 3914\n",
            "user rating: 3.5\n",
            "16sofifa_id: 199715\n",
            "name: Victor Machin Perez\n",
            "global rating: 3.2736368184092046\n",
            "count: 3998\n",
            "user rating: 3.5\n",
            "17sofifa_id: 211256\n",
            "name: Nicolas Alejandro Tagliafico\n",
            "global rating: 3.7307855626326965\n",
            "count: 7065\n",
            "user rating: 3.0\n",
            "18sofifa_id: 189881\n",
            "name: Chris Smalling\n",
            "global rating: 3.622363614940497\n",
            "count: 8487\n",
            "user rating: 3.0\n",
            "19sofifa_id: 190544\n",
            "name: Adem Ljajic\n",
            "global rating: 3.3569450853714815\n",
            "count: 2167\n",
            "user rating: 3.0\n",
            "20sofifa_id: 202857\n",
            "name: Karim Bellarabi\n",
            "global rating: 3.661700106850291\n",
            "count: 8423\n",
            "user rating: 3.0\n"
          ]
        }
      ]
    },
    {
      "cell_type": "code",
      "source": [
        "# PESQUISAR REVIEWS"
      ],
      "metadata": {
        "id": "LJzUUGEZGHRz"
      },
      "execution_count": null,
      "outputs": []
    },
    {
      "cell_type": "code",
      "source": [
        "# 2.3 Pesquisas sobre os melhores jogadores de uma determinada posicao\n",
        "# Retornar a lista de jogadores com melhores notas de uma dada posicao\n",
        "# Para evitar que um jogador seja retornando com uma boa media mas com poucas\n",
        "# avaliacoes, esta consulta somente deve retornar os melhores jogadores com NO MINIMO 1000\n",
        "# avaliacoes. Para gerenciar o numero de jogadores a serem retornados, a consulta deve\n",
        "# receber como parametro um numero N que corresponde ao numero maximo de jogadores a\n",
        "# serem retornados. O resultado da consulta deve estar ordenado da maior para a menor\n",
        "# avaliaçao.\n",
        "# Sintaxe da consulta: top<N> ‘<position>’\n",
        "# Exemplo: $ top10 'ST''\n",
        "# Retornar: sofifa_id, name, player_position, rating, count"
      ],
      "metadata": {
        "id": "6Y8hntMDNQLH"
      },
      "execution_count": null,
      "outputs": []
    },
    {
      "cell_type": "code",
      "source": [
        "def searchTopPlayersByPosition(position, max_results=10, min_ratings=1000):\n",
        "    global playersTable, tamanhoPlayersTable\n",
        "\n",
        "    all_players = []\n",
        "\n",
        "    # Coletar todos os jogadores da posição especificada\n",
        "    for i in range(tamanhoPlayersTable):\n",
        "        if playersTable[i] is not None:\n",
        "            for player in playersTable[i]:\n",
        "                if position in player.player_positions:\n",
        "                    if player.count >= min_ratings:\n",
        "                        all_players.append(player)\n",
        "\n",
        "    # Ordenar os jogadores pelo rating global em ordem decrescente\n",
        "    sorted_players = sorted(all_players, key=lambda x: x.globalRating, reverse=True)\n",
        "\n",
        "    # Limitar o número de resultados\n",
        "    top_players = sorted_players[:max_results]\n",
        "\n",
        "    # Imprimir os dados dos jogadores\n",
        "    for player in top_players:\n",
        "        print('sofifa_id:', player.id)\n",
        "        print('name:', player.name)\n",
        "        print('player_position:', player.player_positions)\n",
        "        print('rating:', player.globalRating)\n",
        "        print('count:', player.count)\n",
        "        print('---')\n",
        "\n",
        "# Exemplo de uso\n",
        "searchTopPlayersByPosition('ST', max_results=10)\n"
      ],
      "metadata": {
        "colab": {
          "base_uri": "https://localhost:8080/",
          "height": 331
        },
        "id": "UBZZdQ0thmuQ",
        "outputId": "569c3d3e-b6d4-4f3a-fe49-a8c1736706d5"
      },
      "execution_count": null,
      "outputs": [
        {
          "output_type": "error",
          "ename": "NameError",
          "evalue": "ignored",
          "traceback": [
            "\u001b[0;31m---------------------------------------------------------------------------\u001b[0m",
            "\u001b[0;31mNameError\u001b[0m                                 Traceback (most recent call last)",
            "\u001b[0;32m<ipython-input-1-6d741a85e2f7>\u001b[0m in \u001b[0;36m<cell line: 30>\u001b[0;34m()\u001b[0m\n\u001b[1;32m     28\u001b[0m \u001b[0;34m\u001b[0m\u001b[0m\n\u001b[1;32m     29\u001b[0m \u001b[0;31m# Exemplo de uso\u001b[0m\u001b[0;34m\u001b[0m\u001b[0;34m\u001b[0m\u001b[0m\n\u001b[0;32m---> 30\u001b[0;31m \u001b[0msearchTopPlayersByPosition\u001b[0m\u001b[0;34m(\u001b[0m\u001b[0;34m'ST'\u001b[0m\u001b[0;34m,\u001b[0m \u001b[0mmax_results\u001b[0m\u001b[0;34m=\u001b[0m\u001b[0;36m10\u001b[0m\u001b[0;34m)\u001b[0m\u001b[0;34m\u001b[0m\u001b[0;34m\u001b[0m\u001b[0m\n\u001b[0m",
            "\u001b[0;32m<ipython-input-1-6d741a85e2f7>\u001b[0m in \u001b[0;36msearchTopPlayersByPosition\u001b[0;34m(position, max_results, min_ratings)\u001b[0m\n\u001b[1;32m      5\u001b[0m \u001b[0;34m\u001b[0m\u001b[0m\n\u001b[1;32m      6\u001b[0m     \u001b[0;31m# Coletar todos os jogadores da posição especificada\u001b[0m\u001b[0;34m\u001b[0m\u001b[0;34m\u001b[0m\u001b[0m\n\u001b[0;32m----> 7\u001b[0;31m     \u001b[0;32mfor\u001b[0m \u001b[0mi\u001b[0m \u001b[0;32min\u001b[0m \u001b[0mrange\u001b[0m\u001b[0;34m(\u001b[0m\u001b[0mtamanhoPlayersTable\u001b[0m\u001b[0;34m)\u001b[0m\u001b[0;34m:\u001b[0m\u001b[0;34m\u001b[0m\u001b[0;34m\u001b[0m\u001b[0m\n\u001b[0m\u001b[1;32m      8\u001b[0m         \u001b[0;32mif\u001b[0m \u001b[0mplayersTable\u001b[0m\u001b[0;34m[\u001b[0m\u001b[0mi\u001b[0m\u001b[0;34m]\u001b[0m \u001b[0;32mis\u001b[0m \u001b[0;32mnot\u001b[0m \u001b[0;32mNone\u001b[0m\u001b[0;34m:\u001b[0m\u001b[0;34m\u001b[0m\u001b[0;34m\u001b[0m\u001b[0m\n\u001b[1;32m      9\u001b[0m             \u001b[0;32mfor\u001b[0m \u001b[0mplayer\u001b[0m \u001b[0;32min\u001b[0m \u001b[0mplayersTable\u001b[0m\u001b[0;34m[\u001b[0m\u001b[0mi\u001b[0m\u001b[0;34m]\u001b[0m\u001b[0;34m:\u001b[0m\u001b[0;34m\u001b[0m\u001b[0;34m\u001b[0m\u001b[0m\n",
            "\u001b[0;31mNameError\u001b[0m: name 'tamanhoPlayersTable' is not defined"
          ]
        }
      ]
    },
    {
      "cell_type": "code",
      "source": [
        "# USANDO O TRABALHINHO DO COLEGA COMO BASE\n",
        "#-----------------------------------------------------------------\n",
        "# Mostra os melhores jogadores da posição pesquisada\n",
        "# -----------------------------------------------------------------\n",
        "def searchTopPlayersOfPosition(numberOfPlayers, position):\n",
        "    listOfPlayerInstances = getTopPlayersOfPosition(numberOfPlayers, position)\n",
        "    displayPlayers(listOfPlayerInstances)\n",
        "\n",
        "\n",
        "# -----------------------------------------------------------------\n",
        "# Pega os jogadores mais bem avaliados de uma dada posição\n",
        "# -----------------------------------------------------------------\n",
        "def getTopPlayersOfPosition(numberOfPlayers, position):\n",
        "    global topPlayerInstances\n",
        "\n",
        "    topPlayersOfPosition = []\n",
        "\n",
        "    # Faz um loop que será parado se acabar a lista de jogadores procurados ou se atingir o número imposto\n",
        "    i = 0\n",
        "    while len(topPlayersOfPosition) < numberOfPlayers and i < len(topPlayerInstances):\n",
        "        if position in topPlayerInstances[i].listOfPlayerPositions:\n",
        "            topPlayersOfPosition.append(topPlayerInstances[i])\n",
        "        i+=1\n",
        "\n",
        "    return topPlayersOfPosition\n",
        "\n",
        "# -----------------------------------------------------------------\n",
        "# Mostra os jogadores da palavra pesquisada\n",
        "# -----------------------------------------------------------------\n",
        "def searchPlayersWithTags(tags):\n",
        "    listOfPlayerInstances = getPlayersWithTags(tags)\n",
        "    displayPlayers(listOfPlayerInstances)\n",
        "\n",
        "# -----------------------------------------------------------------\n",
        "# Pega os jogadores mais bem avaliados de uma dada posição\n",
        "# -----------------------------------------------------------------\n",
        "def getPlayersWithTags(tags):\n",
        "    global allPlayerInstances\n",
        "\n",
        "    playersWithTags = []\n",
        "    tagSet = set(tags)  # Cria um set das tags que foram inputadas\n",
        "\n",
        "    for player in allPlayerInstances:\n",
        "        if tagSet.issubset(player.tags):  # Compara para ver se o set de input está contido nas tags do jogador\n",
        "            playersWithTags.append(player)  # Se estiver, coloca na lista a ser retornada\n",
        "\n",
        "    return playersWithTags\n"
      ],
      "metadata": {
        "id": "804NV8pDUN94"
      },
      "execution_count": null,
      "outputs": []
    },
    {
      "cell_type": "code",
      "source": [],
      "metadata": {
        "id": "wG0cd2seUR0b",
        "colab": {
          "base_uri": "https://localhost:8080/",
          "height": 246
        },
        "outputId": "d60940c9-398a-4ebf-83c4-3b509fde330a"
      },
      "execution_count": null,
      "outputs": [
        {
          "output_type": "error",
          "ename": "NameError",
          "evalue": "ignored",
          "traceback": [
            "\u001b[0;31m---------------------------------------------------------------------------\u001b[0m",
            "\u001b[0;31mNameError\u001b[0m                                 Traceback (most recent call last)",
            "\u001b[0;32m<ipython-input-26-3470c69c5693>\u001b[0m in \u001b[0;36m<cell line: 2>\u001b[0;34m()\u001b[0m\n\u001b[1;32m      1\u001b[0m \u001b[0;31m# Consulta os 10 melhores atacantes (ST) com pelo menos 1000 avaliações\u001b[0m\u001b[0;34m\u001b[0m\u001b[0;34m\u001b[0m\u001b[0m\n\u001b[0;32m----> 2\u001b[0;31m \u001b[0mtop_players\u001b[0m \u001b[0;34m=\u001b[0m \u001b[0mtop_players_by_position\u001b[0m\u001b[0;34m(\u001b[0m\u001b[0mtable_players\u001b[0m\u001b[0;34m,\u001b[0m \u001b[0;34m'ST'\u001b[0m\u001b[0;34m,\u001b[0m \u001b[0;36m10\u001b[0m\u001b[0;34m)\u001b[0m\u001b[0;34m\u001b[0m\u001b[0;34m\u001b[0m\u001b[0m\n\u001b[0m\u001b[1;32m      3\u001b[0m \u001b[0;34m\u001b[0m\u001b[0m\n\u001b[1;32m      4\u001b[0m \u001b[0;31m# Exibe os resultados\u001b[0m\u001b[0;34m\u001b[0m\u001b[0;34m\u001b[0m\u001b[0m\n\u001b[1;32m      5\u001b[0m \u001b[0;32mfor\u001b[0m \u001b[0mplayer\u001b[0m \u001b[0;32min\u001b[0m \u001b[0mtop_players\u001b[0m\u001b[0;34m:\u001b[0m\u001b[0;34m\u001b[0m\u001b[0;34m\u001b[0m\u001b[0m\n",
            "\u001b[0;31mNameError\u001b[0m: name 'table_players' is not defined"
          ]
        }
      ]
    },
    {
      "cell_type": "code",
      "source": [
        "# 2.4 Pesquisas sobre 'tags' de jogadores\n",
        "# Explorar a lista de tags adicionadas por cada usuario em cada revisao.\n",
        "# Para uma lista de tags dada como entrada, a pesquisa deve retornar a lista de\n",
        "# jogadores que estao associados a intersecao de um conjunto de tags.\n",
        "# Sintaxe da consulta: tags <list of tags>\n",
        "# Exemplo: $ tags 'Brazil''Dribbler''\n",
        "# Retornar: sofifa_id, name, player_position, rating, count, de todos os jogadores que apresentam tanto a tag '’Brazil\" como\n",
        "# a tag \"Dribbler\".\n",
        "\n",
        "# Estas informações nao estao diretamente nos arquivos de dados. Portanto, deve-se projetar\n",
        "# uma estrutura de dados para responder essa pesquisa. Como as tags podem ser termos com\n",
        "# espaco (ex.: Solid Player, French Ligue 1, Manchester United), a tag passada na consulta deve\n",
        "# ser escrita entre apostrofes."
      ],
      "metadata": {
        "id": "IYmNbgxYNSc8"
      },
      "execution_count": null,
      "outputs": []
    },
    {
      "cell_type": "code",
      "source": [
        "def build_tags_index(table_players):\n",
        "    tags_index = {}\n",
        "\n",
        "    # Percorre a tabela de jogadores para construir o índice de tags\n",
        "    for i in range(len(table_players)):\n",
        "        player = table_players[i]\n",
        "        if player:\n",
        "            player_id = player[\"sofifa_id\"]\n",
        "            player_tags = player[\"tags\"]\n",
        "\n",
        "            # Adiciona as tags do jogador ao índice\n",
        "            for tag in player_tags:\n",
        "                if tag not in tags_index:\n",
        "                    tags_index[tag] = set()\n",
        "                tags_index[tag].add(player_id)\n",
        "\n",
        "    return tags_index\n",
        "\n",
        "\n",
        "def search_by_tags(tags_index, tags):\n",
        "    tags = set(tags)\n",
        "    result = set(tags_index.get(tags.pop(), set()))\n",
        "\n",
        "    # Realiza a interseção com as demais tags\n",
        "    for tag in tags:\n",
        "        result.intersection_update(tags_index.get(tag, set()))\n",
        "\n",
        "    # Obtém os dados dos jogadores resultantes\n",
        "    players = [player for player in players_info if player[\"sofifa_id\"] in result]\n",
        "\n",
        "    # Ordena a lista de jogadores pelo rating em ordem decrescente\n",
        "    players.sort(key=lambda x: x[\"globalRating\"], reverse=True)\n",
        "\n",
        "    return players\n",
        "\n",
        "\n",
        "# Uso da função\n",
        "# Primeiro, construímos o índice de tags\n",
        "tags_index = build_tags_index(table_players)\n",
        "\n",
        "# Em seguida, pesquisamos os jogadores que possuem as tags 'Brazil' e 'Dribbler'\n",
        "tags_to_search = ['Brazil', 'Dribbler']\n",
        "result_players = search_by_tags(tags_index, tags_to_search)\n",
        "\n",
        "# Exibindo os resultados\n",
        "for player in result_players:\n",
        "    print(player[\"sofifa_id\"], player[\"name\"], player[\"player_positions\"], player[\"globalRating\"], player[\"count\"])\n"
      ],
      "metadata": {
        "id": "vcC6kyb1UQdi",
        "colab": {
          "base_uri": "https://localhost:8080/",
          "height": 250
        },
        "outputId": "00da6c54-a470-4f3d-b233-a0127cd8af97"
      },
      "execution_count": null,
      "outputs": [
        {
          "output_type": "error",
          "ename": "NameError",
          "evalue": "ignored",
          "traceback": [
            "\u001b[0;31m---------------------------------------------------------------------------\u001b[0m",
            "\u001b[0;31mNameError\u001b[0m                                 Traceback (most recent call last)",
            "\u001b[0;32m<ipython-input-24-012169e615bc>\u001b[0m in \u001b[0;36m<cell line: 39>\u001b[0;34m()\u001b[0m\n\u001b[1;32m     37\u001b[0m \u001b[0;31m# Uso da função\u001b[0m\u001b[0;34m\u001b[0m\u001b[0;34m\u001b[0m\u001b[0m\n\u001b[1;32m     38\u001b[0m \u001b[0;31m# Primeiro, construímos o índice de tags\u001b[0m\u001b[0;34m\u001b[0m\u001b[0;34m\u001b[0m\u001b[0m\n\u001b[0;32m---> 39\u001b[0;31m \u001b[0mtags_index\u001b[0m \u001b[0;34m=\u001b[0m \u001b[0mbuild_tags_index\u001b[0m\u001b[0;34m(\u001b[0m\u001b[0mtable_players\u001b[0m\u001b[0;34m)\u001b[0m\u001b[0;34m\u001b[0m\u001b[0;34m\u001b[0m\u001b[0m\n\u001b[0m\u001b[1;32m     40\u001b[0m \u001b[0;34m\u001b[0m\u001b[0m\n\u001b[1;32m     41\u001b[0m \u001b[0;31m# Em seguida, pesquisamos os jogadores que possuem as tags 'Brazil' e 'Dribbler'\u001b[0m\u001b[0;34m\u001b[0m\u001b[0;34m\u001b[0m\u001b[0m\n",
            "\u001b[0;31mNameError\u001b[0m: name 'table_players' is not defined"
          ]
        }
      ]
    },
    {
      "cell_type": "code",
      "source": [
        "# 3 IMPLEMENTACAO\n",
        "# Os usuarios devem construir uma aplicacao que funciona em duas fases.\n",
        "\n",
        "# FASE 1 - CONSTRUCAO E INICIALIZACAO\n",
        "# A fase 1 corresponde a construcao e inicializacao das estruturas de dados necessarias para suportar as consultas.\n",
        "# Ao executar a fase de construcao, esta não deve demorar mais de 3 minutos. Quem conseguir\n",
        "# fazer esta etapa em menos de 1 minuto ganha um bonus de 10%."
      ],
      "metadata": {
        "id": "pupAP0SoUvc6"
      },
      "execution_count": null,
      "outputs": []
    },
    {
      "cell_type": "code",
      "source": [
        "# MAIN - FASE 1 - CONSTRUCAO E INICIALIZACAO\n",
        "\n",
        "tamanhoPlayersTable = 10000 # tamanho da tabela Hash de jogadores\n",
        "tamanhoUsersTable = 20000\n",
        "\n",
        "# INICIA O CRONOMETRO\n",
        "startTime = time.perf_counter() # contador do tempo\n",
        "\n",
        "# CRIACAO DA TABELA HASH PARA OS DADOS DOS JOGADORES\n",
        "# cria a tabela vazia\n",
        "playersTable = [None] * tamanhoPlayersTable\n",
        "# Cria tabela de usuarios\n",
        "usersTable = [None] * tamanhoUsersTable\n",
        "\n",
        "# AROVRE TRIE\n",
        "root = TrieNode('*')\n",
        "\n",
        "# Inicializacao de variaveis\n",
        "lastPlayer = None\n",
        "lastSofifaId = ''\n",
        "\n",
        "\n",
        "playersList = [] # todos os jogadores\n",
        "topPlayers = [] # melhores jogadores com NO MINIMO 1000\n",
        "topPlayersRatings = [] # avaliacoes dos melhores jogadores com NO MINIMO 1000\n",
        "usersList = set() # usuarios\n",
        "\n",
        "# CHAMADA DE FUNCOES PARA LER TABELAS E INSERIR NAS ESTRUTURAS\n",
        "\n",
        "#  Chamadas de leituras para teste - pre-processamento\n",
        "# Arquivo players.csv\n",
        "# Le players.csv, cria instancia de Player, insere players na tabela hash e na arvore trie, adiciona player na lista\n",
        "readPlayers_csv('/content/players.csv')\n",
        "\n",
        "# Arquivo rating.csv\n",
        "# Le rating.csv, vincula rating ao player em questao, atualiza ratings do player, cria instancia de user, adiciona user na Hash Table de users, adiciona user na lista de users\n",
        "readRatings_csv('/content/rating.csv') # MAIS OU MENOS\n",
        "\n",
        "# Arquivo tags.csv\n",
        "# Le tags.csv, vincula tags ao jogador em questao\n",
        "readTags_csv('/content/tags.csv')\n",
        "\n",
        "\n",
        "\n",
        "# INTERROMPE O CRONOMETRO\n",
        "endTime = time.perf_counter()\n",
        "total_time = endTime - startTime\n",
        "\n",
        "print(f'\\nTempo de execucao da Fase 1 - Construcao e Inicializacao: {total_time:.2f} segundos')"
      ],
      "metadata": {
        "colab": {
          "base_uri": "https://localhost:8080/"
        },
        "id": "qDa88qOrZYE7",
        "outputId": "84cd99da-29f0-418f-dd0d-84aec2648b60"
      },
      "execution_count": null,
      "outputs": [
        {
          "output_type": "stream",
          "name": "stdout",
          "text": [
            "\n",
            "Tempo de execucao da Fase 1 - Construcao e Inicializacao: 126.88 segundos\n"
          ]
        }
      ]
    },
    {
      "cell_type": "code",
      "source": [
        "# FASE 2 - MODO CONSOLE\n",
        "# Depois dessas estruturas serem construidas, a aplicacao entra na fase 2, que corresponde ao\n",
        "# modo console. Nesta fase sera possivel fazer as pesquisas listadas na secao anterior, bem\n",
        "# como a exibicao dos resultados."
      ],
      "metadata": {
        "id": "flHhTLzelcTQ"
      },
      "execution_count": null,
      "outputs": []
    },
    {
      "cell_type": "code",
      "source": [
        "# CHAMADAS DE TESTE DAS PESQUISAS\n"
      ],
      "metadata": {
        "id": "tqzhaIA9UQD9"
      },
      "execution_count": null,
      "outputs": []
    },
    {
      "cell_type": "code",
      "source": [
        "# 2.1\n",
        "searchInTrie('Fer')\n",
        "# searchInTrie('Lio')"
      ],
      "metadata": {
        "colab": {
          "base_uri": "https://localhost:8080/"
        },
        "id": "05l_ztr3UYES",
        "outputId": "b6585fde-51ba-4885-bbf6-33fa6d1c209a"
      },
      "execution_count": null,
      "outputs": [
        {
          "output_type": "stream",
          "name": "stdout",
          "text": [
            "SOFIFA_ID   NAME                                     POSITIONS            RATING     COUNT     \n",
            "==========================================================================================\n",
            "135507      Fernando Luiz Rosa                       ['CB', 'CDM']        3.7202436738519213 6402      \n",
            "212618      Fernando Luis Aristeguieta de Luca       ['ST']               2.754754754754755 999       \n",
            "240482      Fernando Luis Bersano                    ['LB']               2.6643929058663027 733       \n",
            "202642      Fernando Lucas Martins                   ['CDM', 'CM']        2.981132075471698 265       \n",
            "178614      Fernando Lopes dos Santos Varela         ['CB']               2.793343653250774 1292      \n",
            "184134      Fernando Francisco Reges                 ['CDM', 'CM']        3.421438617641149 4977      \n",
            "228748      Fernando Fabian Fernandez Acosta         ['ST']               2.5744615384615384 1625      \n",
            "209960      Fernando Pacheco Flores                  ['GK']               3.061224489795918 343       \n",
            "214916      Fernando Patricio Cordero Fonseca        ['LB']               2.5939243645381276 1613      \n",
            "207707      Fernando Marcal de Oliveira              ['LB', 'CB']         3.214713051185464 4513      \n",
            "205288      Fernando Martinez Rubio                  ['GK']               2.6550937658388243 1973      \n",
            "254765      Fernando Martinez Rojas                  ['CM']               0.0        0         \n",
            "178628      Fernando Martin Forestieri               ['ST', 'CAM', 'LW']  2.6542443064182195 483       \n",
            "232670      Fernando Matias Zampedri                 ['ST']               2.8294871794871796 390       \n",
            "238507      Fernando Manuel Ferreira Fonseca         ['RB']               2.86096537250787 953       \n",
            "229488      Fernando Madrigal Gonzalez               ['CM']               2.452336448598131 1605      \n",
            "215985      Fernando Monetti                         ['GK']               2.7036524626452683 1807      \n",
            "234391      Fernando Medeiros da Silva               ['CB', 'CDM']        2.5407204385277997 1277      \n",
            "240289      Fernando Calero Villa                    ['CB']               2.920751633986928 1224      \n",
            "216052      Fernando Coniglio                        ['ST']               0.0        0         \n",
            "238406      Fernando Cosciuc                         ['CB']               0.0        0         \n",
            "240471      Fernando Gorriaran Fontes                ['CM', 'CDM']        2.8374125874125875 572       \n",
            "215243      Fernando Gaston Elizari Sedano           ['CAM', 'ST']        2.565578158458244 1868      \n",
            "162131      Fernando Javier Llorente Torres          ['ST']               3.5015601409159536 9935      \n",
            "233569      Fernando Javier Saucedo Pereyra          ['CM', 'CDM']        2.568711656441718 815       \n",
            "211108      Fernando Henrique da Conceicao           ['RW', 'LW', 'CF']   2.8021346469622332 1218      \n",
            "181236      Fernando Henrique Boldrin                ['CAM', 'RM']        2.6977578475336323 1115      \n",
            "186551      Fernando Navarro Moran                   ['RB']               2.7524613220815755 711       \n",
            "214986      Fernando Nicolas Meza                    ['CB', 'RB']         2.6494661921708187 1124      \n",
            "252590      Fernando Nino Rodriguez                  ['ST']               2.7675705589374653 1807      \n",
            "165517      Fernando Ruben Gago                      ['CDM', 'CM', 'CB']  3.440452205059324 4467      \n",
            "213444      Fernando Ruben Gonzalez Pineda           ['CM', 'CDM']        2.536774193548387 1550      \n",
            "254725      Fernando Raul Romero Gonzalez            ['ST']               0.0        0         \n",
            "215155      Fernando Zuqui                           ['CM', 'RM']         2.816958277254374 743       \n",
            "251127      Fernando Torrent Guidi                   ['RB']               2.681328036322361 1762      \n",
            "244389      Fernando Dos Santos Pedro                ['LM', 'ST']         2.8561111111111113 900       \n",
            "143587      Fernando Daniel Belluschi                ['CM', 'CAM']        3.0065687789799074 5176      \n",
            "222379      Fernando David Arce Juarez               ['CDM', 'CM']        2.5815842924847665 1477      \n",
            "230023      Fernando David Luna                      ['CAM', 'LM', 'RM']  0.0        0         \n",
            "215262      Fernando Andres Marquez                  ['ST']               2.6430051813471502 965       \n",
            "243591      Fernando Andrade dos Santos              ['LM', 'ST']         2.6343085106382977 376       \n",
            "194014      Fernando Alexander Guerrero Vasquez      ['LM', 'RW', 'RM']   2.5986301369863014 365       \n",
            "215118      Fernando Alejandro Manriquez Hernandez   ['CM']               2.5825757575757575 1320      \n",
            "255808      Fernando Agustin Alfaro Bares            ['LM', 'LW']         0.0        0         \n",
            "145996      Fernando Seoane Antelo                   ['CDM', 'CM']        2.608695652173913 23        \n",
            "207657      Fernando Omar Barrientos                 ['CM']               2.573170731707317 328       \n",
            "239945      Fernando Beltran Cruz                    ['CM', 'CDM']        2.750344827586207 725       \n",
            "254754      Fernando Benitez Aguirre                 ['LM']               0.0        0         \n",
            "255803      Fernando Esekiel Souza Piriz             ['CB']               0.0        0         \n",
            "232136      Fernand Mayembo                          ['CB']               2.659659090909091 880       \n",
            "209835      Fernander Kassai                         ['CB']               0.0        0         \n",
            "258882      Fernan Ferreiroa Lopez                   ['CAM', 'CM']        0.0        0         \n",
            "228618      Ferland Mendy                            ['LB']               3.1865248226950356 1410      \n",
            "241461      Ferran Torres Garcia                     ['RM', 'LM', 'CF']   3.1901098901098903 455       \n",
            "236024      Ferris N'Goma                            ['LM', 'RM', 'CM']   2.55       1290      \n",
            "143751      Ferhat Oztorun                           ['LB']               2.6517150395778364 379       \n",
            "205874      Ferhat Kaplan                            ['GK']               2.722826086956522 92        \n",
            "222995      Ferhat Gorgulu                           ['CB']               0.0        0         \n",
            "256977      Ferhat Saglam                            ['RW', 'ST']         0.0        0         \n",
            "205138      Ferhan Hasani                            ['CAM', 'LW']        2.585      600       \n",
            "235152      Ferdi Erenay Kadoglu                     ['CAM', 'RW']        2.7916666666666665 768       \n",
            "250781      Ferdinand Oswald                         ['GK']               2.545272206303725 1745      \n",
            "242202      Ferdy Druijf                             ['ST']               2.7685851318944845 417       \n",
            "255427      Ferddy Andres Roca Vivancos              ['ST']               0.0        0         \n"
          ]
        }
      ]
    },
    {
      "cell_type": "code",
      "source": [
        "# 2.2\n",
        "getUserReviews(4)"
      ],
      "metadata": {
        "colab": {
          "base_uri": "https://localhost:8080/"
        },
        "id": "enf_-k4qUgWT",
        "outputId": "c37d8af8-db80-4e25-e932-2459c57bd5ea"
      },
      "execution_count": null,
      "outputs": [
        {
          "output_type": "stream",
          "name": "stdout",
          "text": [
            "SOFIFA_ID   NAME                                      GLOBAL RATING       COUNT      USER RATING\n",
            "==========================================================================================\n",
            "176733      Marcus Berg                              3.506992633714103    9367       5.0       \n",
            "41          Andres Iniesta Lujan                     3.8667871900826447   9680       5.0       \n",
            "185221      Luiz Gustavo Dias                        3.612475385150006    8633       5.0       \n",
            "199206      Domagoj Vida                             3.5777643438118267   9098       5.0       \n",
            "158963      Lucas Rodrigo Biglia                     3.529665230361286    6034       5.0       \n",
            "168542      David Josue Jimenez Silva                3.988069289893312    8717       4.5       \n",
            "202053      R. Miyaichi                              2.9506787330316744   5525       4.5       \n",
            "208830      Jamie Vardy                              3.7696904247660186   6945       4.5       \n",
            "210513      Juan Fernando Quintero Paniagua          3.307441607821836    3682       4.5       \n",
            "198554      Anthony Ujah                             3.016280107047279    4484       4.5       \n",
            "254428      Joel David Ezequiel Fernandez            2.60453216374269     684        4.0       \n",
            "198658      Fredrik Midtsjo                          3.2621480910142693   5186       4.0       \n",
            "124375      Burak Ylmaz                              3.268793852322085    2993       4.0       \n",
            "183285      Mamadou Sakho                            3.532185107863605    8622       4.0       \n",
            "192667      Allan Romeo Nyom                         3.1568840579710145   2760       4.0       \n",
            "201938      Anthony Limbombe Ekango                  2.7885375494071147   1518       4.0       \n",
            "25798       Roque Luis Santa Cruz Cantero            3.4223410820818763   9722       4.0       \n",
            "206254      Miroslav Stevanovic                      3.0677714285714286   4375       4.0       \n",
            "206506      Tristan Dingome                          2.7467644521138914   1159       4.0       \n",
            "241569      Hector David Martinez                    2.833937635968093    1379       4.0       \n"
          ]
        }
      ]
    },
    {
      "cell_type": "code",
      "source": [
        "# 2.3"
      ],
      "metadata": {
        "id": "FSXOdQ8vVIZ5"
      },
      "execution_count": null,
      "outputs": []
    },
    {
      "cell_type": "code",
      "source": [
        "# 2.4"
      ],
      "metadata": {
        "id": "aGhTR1s0VJnE"
      },
      "execution_count": null,
      "outputs": []
    },
    {
      "cell_type": "code",
      "source": [
        "# MENU CONSOLE - INTERACAO COM O USUARIO"
      ],
      "metadata": {
        "id": "JlY0X4lmHUHX"
      },
      "execution_count": null,
      "outputs": []
    }
  ]
}